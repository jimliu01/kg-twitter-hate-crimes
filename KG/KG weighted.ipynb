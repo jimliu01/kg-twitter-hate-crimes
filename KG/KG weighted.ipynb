{
 "cells": [
  {
   "cell_type": "code",
   "execution_count": 1,
   "id": "033e90e4-0dd2-46d4-80bd-1c43a27fcaa4",
   "metadata": {
    "tags": []
   },
   "outputs": [],
   "source": [
    "import numpy as np\n",
    "import pandas as pd\n",
    "import matplotlib.pyplot as plt\n",
    "from plotly import express as px\n",
    "\n",
    "import ast\n",
    "import pickle\n",
    "from tqdm import tqdm\n",
    "\n",
    "import networkx as nx\n",
    "import random\n",
    "import json\n",
    "\n",
    "from collections import Counter"
   ]
  },
  {
   "cell_type": "markdown",
   "id": "0f0cf66c-e298-4357-9bd6-ec425a202878",
   "metadata": {
    "tags": []
   },
   "source": [
    "## Load in Data"
   ]
  },
  {
   "cell_type": "markdown",
   "id": "6eca2a11-d9b9-4b5b-adeb-13fa3229ff39",
   "metadata": {},
   "source": [
    "### Load in Tweet Data"
   ]
  },
  {
   "cell_type": "code",
   "execution_count": 2,
   "id": "e5b83c72-cff6-451d-b8e3-a7fe020cc7d2",
   "metadata": {},
   "outputs": [],
   "source": [
    "df = pd.read_csv('/Users/jchang153/Documents/UCLA-CAM/GV KG/Data/Tweets/All/bigbabies/bigbaby_r_t_30_s.csv')"
   ]
  },
  {
   "cell_type": "code",
   "execution_count": 3,
   "id": "140bdbe6-7876-43f4-ada8-4ec7e629de83",
   "metadata": {},
   "outputs": [],
   "source": [
    "# evaluating strings of lists as lists\n",
    "df['hashtags'] = df['hashtags'].apply(ast.literal_eval)\n",
    "df['mentions'] = df['mentions'].apply(ast.literal_eval)\n",
    "# df['keywords'] = df['keywords'].apply(ast.literal_eval)"
   ]
  },
  {
   "cell_type": "code",
   "execution_count": 4,
   "id": "7d35eca1-be24-4682-b18c-a2a46febf45b",
   "metadata": {},
   "outputs": [
    {
     "data": {
      "text/plain": [
       "Index(['created_at', 'tweet_id', 'text', 'in_reply_to_tweet_id',\n",
       "       'in_reply_to_user_id', 'geo', 'quote_count', 'reply_count',\n",
       "       'retweet_count', 'favorite_count', 'lang', 'quoted_tweet_id',\n",
       "       'possibly_sensitive', 'user_id', 'screen_name', 'followers_count',\n",
       "       'friends_count', 'statuses_count', 'verified', 'hashtags', 'mentions',\n",
       "       'date', '0', '1', '2', '3', '4', '5', '6', '7', '8', '9', '10', '11',\n",
       "       '12'],\n",
       "      dtype='object')"
      ]
     },
     "execution_count": 4,
     "metadata": {},
     "output_type": "execute_result"
    }
   ],
   "source": [
    "df.columns[:35]"
   ]
  },
  {
   "cell_type": "markdown",
   "id": "a9947c53-ece9-4ac8-8147-f41738d76fdb",
   "metadata": {},
   "source": [
    "### Load in Crime Data"
   ]
  },
  {
   "cell_type": "markdown",
   "id": "65c3f8dc-6d17-40c9-8263-5a59b1dffbf6",
   "metadata": {},
   "source": [
    "Load in the hate crime `hatecrimedata.csv` dataframe."
   ]
  },
  {
   "cell_type": "code",
   "execution_count": 5,
   "id": "94eed177-05c6-4372-86bf-54efa9cead37",
   "metadata": {},
   "outputs": [],
   "source": [
    "df_crime = pd.read_csv('/Users/jchang153/Documents/UCLA-CAM/GV KG/Data/hatecrimedata.csv')"
   ]
  },
  {
   "cell_type": "code",
   "execution_count": 6,
   "id": "225c64fe-abcb-4b0f-94d2-dfdd3e75c914",
   "metadata": {},
   "outputs": [],
   "source": [
    "# limiting to only dates that have associated tweets\n",
    "df_crime['incident_date'] = pd.to_datetime(df_crime['incident_date'])\n",
    "start_date = pd.to_datetime('2020-03-11')\n",
    "end_date = pd.to_datetime('2021-06-17')\n",
    "\n",
    "df_crime = df_crime[(df_crime['incident_date'] >= start_date) & (df_crime['incident_date'] <= end_date)]\n",
    "df_crime['incident_date'] = pd.to_datetime(df_crime['incident_date']).dt.strftime('%Y-%m-%d')"
   ]
  },
  {
   "cell_type": "code",
   "execution_count": 7,
   "id": "6b08743d-1260-49f9-86b7-d2d98d5ecc60",
   "metadata": {},
   "outputs": [],
   "source": [
    "df_crime = df_crime[df_crime['state_name'] == 'California']"
   ]
  },
  {
   "cell_type": "code",
   "execution_count": 8,
   "id": "71fd1424-c288-4c47-831e-bc0f87a85b94",
   "metadata": {},
   "outputs": [
    {
     "data": {
      "text/plain": [
       "Index(['incident_id', 'data_year', 'ori', 'pug_agency_name', 'pub_agency_unit',\n",
       "       'agency_type_name', 'state_abbr', 'state_name', 'division_name',\n",
       "       'region_name', 'population_group_code', 'population_group_description',\n",
       "       'incident_date', 'adult_victim_count', 'juvenile_victim_count',\n",
       "       'total_offender_count', 'adult_offender_count',\n",
       "       'juvenile_offender_count', 'offender_race', 'offender_ethnicity',\n",
       "       'victim_count', 'offense_name', 'total_individual_victims',\n",
       "       'location_name', 'bias_desc', 'victim_types', 'multiple_offense',\n",
       "       'multiple_bias'],\n",
       "      dtype='object')"
      ]
     },
     "execution_count": 8,
     "metadata": {},
     "output_type": "execute_result"
    }
   ],
   "source": [
    "df_crime.columns"
   ]
  },
  {
   "cell_type": "markdown",
   "id": "44143e62-3b3b-4f47-90d5-148e1a0b3e20",
   "metadata": {},
   "source": [
    "### Load in Topic Data"
   ]
  },
  {
   "cell_type": "code",
   "execution_count": 9,
   "id": "9f5cbe71-81e4-4889-a6c2-6f656114cdae",
   "metadata": {},
   "outputs": [],
   "source": [
    "doc_info = pd.read_csv('/Users/jchang153/Documents/UCLA-CAM/GV KG/Data/Tweets/All/topics/bigbaby_r_30_docs.csv')\n",
    "top_info = pd.read_csv('/Users/jchang153/Documents/UCLA-CAM/GV KG/Data/Tweets/All/topics/bigbaby_r_30_tops.csv')"
   ]
  },
  {
   "cell_type": "code",
   "execution_count": 10,
   "id": "5562ad2d-49ea-4e3c-ab65-dd48a2101399",
   "metadata": {},
   "outputs": [],
   "source": [
    "top_info['Representation'] = top_info['Representation'].apply(ast.literal_eval)"
   ]
  },
  {
   "cell_type": "code",
   "execution_count": 11,
   "id": "aa98af60-d1f6-4360-ad63-093ebe67f12c",
   "metadata": {},
   "outputs": [
    {
     "data": {
      "text/plain": [
       "Index(['Topic', 'Count', 'Name', 'Representation', 'Representative_Docs'], dtype='object')"
      ]
     },
     "execution_count": 11,
     "metadata": {},
     "output_type": "execute_result"
    }
   ],
   "source": [
    "top_info.columns"
   ]
  },
  {
   "cell_type": "code",
   "execution_count": 12,
   "id": "7cde706b-32d4-4ba1-9cee-7f7104f4d22c",
   "metadata": {},
   "outputs": [],
   "source": [
    "top2name = top_info.set_index('Topic')['Name'].to_dict()"
   ]
  },
  {
   "cell_type": "markdown",
   "id": "fb01a40a-a4be-4873-9b59-a53d8a2c7519",
   "metadata": {},
   "source": [
    "### Querying by a Given Group"
   ]
  },
  {
   "cell_type": "markdown",
   "id": "b68c3fe1-d41a-4359-9f90-c5a5fc9399a6",
   "metadata": {},
   "source": [
    "Only black-related topics:"
   ]
  },
  {
   "cell_type": "code",
   "execution_count": 13,
   "id": "00574575-8f8d-496a-9b3e-b42e6062f2d0",
   "metadata": {},
   "outputs": [],
   "source": [
    "top_list = [1,2,3,4,7,8,9,11,13,15,19,20,21,23,25,27,31,34,36,38,40,41,42,44,45,46,47,48,50,\n",
    "            51,52,56,62,63,64,66,68,70,71,73,75,76,78,82,83,84,86,88,92,93,94,101,102,105,106,\n",
    "            107,109,111,114,117,119,120, 121,122,123,124,125,126,131,132,133,137,140,143,144,145,\n",
    "            146,147,149,150,151,153,154,155,157,160,162,163,164,165,166,168,169,171,172,177,178,179,\n",
    "            180,184,186,187,188,191,193,196,200,202,203,206,208,211,212,216,218,220,222,223,224,225,\n",
    "            226,228,229,230,233,235,242,244,245,250,251,253,254,255,256,259,260,261,266,268,269]\n",
    "# black_topics = [1,2,3,4,7,8,9,11,13,15,19,20,21,23,25,27,31,34,36,38,40,41,42,44,45,46,47,48,50,\n",
    "# 51,52,56,62,63,64,66,68,70,71,73,75,76,78,82,83,84,86,88,92,93,94,101,102,105,106,\n",
    "# 107,109,111,114,117,119,120, 121,122,123,124,125,126,131,132,133,137,140,143,144,145,\n",
    "# 146,147,149,150,151,153,154,155,157,160,162,163,164,165,166,168,169,171,172,177,178,179,\n",
    "# 180,184,186,187,188,191,193,196,200,202,203,206,208,211,212,216,218,220,222,223,224,225,\n",
    "# 226,228,229,230,233,235,242,244,245,250,251,253,254,255,256,259,260,261,266,268,269]\n",
    "# lgbt_topics = [28,26,58,175,57,209,22,53,168,180,18,156,182,104,215,247]\n",
    "# jewish_topics = [79,24,72,0,30,37,55,87,91,129,121,129,199,205,264,10,59,5,6,100,262]\n",
    "# asian_topics = [67,69,96,115,135,147,161,16,99,183,195,201,221,243,101]\n",
    "# hispanic_topics = [32,35,65,135,142]"
   ]
  },
  {
   "cell_type": "markdown",
   "id": "63a36ff1-e7fe-4b55-988a-466c04e39a1a",
   "metadata": {},
   "source": [
    "Only tweets that have at least 0.01 probability of being in one of the above topics:"
   ]
  },
  {
   "cell_type": "code",
   "execution_count": 14,
   "id": "d1b05500-9ad0-436c-b228-0bf3f9e2df7b",
   "metadata": {},
   "outputs": [],
   "source": [
    "df = df[df[[str(num) for num in top_list]].ge(0.01).any(axis=1)]"
   ]
  },
  {
   "cell_type": "markdown",
   "id": "856516a1-68ec-42a2-a0fa-3ea8e1c6370d",
   "metadata": {},
   "source": [
    "Only black crimes:"
   ]
  },
  {
   "cell_type": "code",
   "execution_count": 15,
   "id": "68f1aa3c-dff0-4f38-ae48-092e265d04b8",
   "metadata": {},
   "outputs": [],
   "source": [
    "df_crime = df_crime[df_crime['bias_desc'].str.contains('Black')]"
   ]
  },
  {
   "cell_type": "markdown",
   "id": "61eb2eb7-e77f-4c71-8e6d-ec890af749ab",
   "metadata": {
    "tags": []
   },
   "source": [
    "## Building the KG"
   ]
  },
  {
   "cell_type": "code",
   "execution_count": 16,
   "id": "f2eac882-095e-46f7-bee1-f1377426983c",
   "metadata": {
    "tags": []
   },
   "outputs": [],
   "source": [
    "# turns the dataframes into lists of dictionaries\n",
    "tweet_dict = df.to_dict(orient='records')\n",
    "crime_dict = df_crime.to_dict(orient='records')"
   ]
  },
  {
   "cell_type": "markdown",
   "id": "294f0aaf-7d92-43c0-aff0-895d11a9d9c4",
   "metadata": {
    "tags": []
   },
   "source": [
    "### Getting unique entities, hashtags, topics"
   ]
  },
  {
   "cell_type": "code",
   "execution_count": 17,
   "id": "93ea7497-acb0-468a-a29e-981e4c1af964",
   "metadata": {
    "tags": []
   },
   "outputs": [
    {
     "name": "stderr",
     "output_type": "stream",
     "text": [
      "100%|█████████████████████████████████| 46571/46571 [00:00<00:00, 328399.37it/s]\n"
     ]
    }
   ],
   "source": [
    "entities = set()\n",
    "\n",
    "for tweet in tqdm(tweet_dict):\n",
    "    entities.add((tweet['tweet_id'], 't'))\n",
    "    # consider adding to tweet: sentiment, quote_count, reply_count, retweet_count, favorite_count, lang, possibly_sensitive\n",
    "    # consider adding to user: followers_count, friends_count, statuses_count, verified\n",
    "        \n",
    "for crime in crime_dict:\n",
    "    entities.add((crime['incident_id'], 'c')) \n",
    "    \n",
    "for top in top_list:\n",
    "    entities.add(top2name[top])"
   ]
  },
  {
   "cell_type": "code",
   "execution_count": 18,
   "id": "5aa244d6-f63b-46ec-8a94-5ff739670bd3",
   "metadata": {},
   "outputs": [
    {
     "name": "stdout",
     "output_type": "stream",
     "text": [
      "47117\n"
     ]
    }
   ],
   "source": [
    "print(len(entities))"
   ]
  },
  {
   "cell_type": "code",
   "execution_count": 19,
   "id": "48363770-0ec3-4704-83ec-1018b9bd36ae",
   "metadata": {},
   "outputs": [],
   "source": [
    "ent_list = list(entities)\n",
    "entity2id = {k:v for v,k in enumerate(ent_list)}\n",
    "id2entity = {v:k for v,k in enumerate(ent_list)}"
   ]
  },
  {
   "cell_type": "markdown",
   "id": "d6994927-aa0d-4274-98a8-07891168097f",
   "metadata": {},
   "source": [
    "### Creating relation dictionaries"
   ]
  },
  {
   "cell_type": "code",
   "execution_count": 21,
   "id": "f81a94ca-cd16-44ad-83d3-bc5925b330d6",
   "metadata": {},
   "outputs": [],
   "source": [
    "relations = ['tweet2topic', 'topic2group', 'group2crime']\n",
    "\n",
    "relation2id = {}\n",
    "id2relation = {}\n",
    "j = 0 \n",
    "for r in relations:\n",
    "    relation2id[r] = j\n",
    "    id2relation[j] = r\n",
    "    j += 1"
   ]
  },
  {
   "cell_type": "code",
   "execution_count": 22,
   "id": "a571a24e-f338-4739-8367-83ba79f92420",
   "metadata": {},
   "outputs": [],
   "source": [
    "all_relations = []"
   ]
  },
  {
   "cell_type": "markdown",
   "id": "3cd006f9-b528-462f-a38d-300df24b08f1",
   "metadata": {
    "tags": []
   },
   "source": [
    "## Tweet Node"
   ]
  },
  {
   "cell_type": "markdown",
   "id": "15dfb614-3722-4451-ad05-f43e9a1061ce",
   "metadata": {},
   "source": [
    "### Exploring followers_count"
   ]
  },
  {
   "cell_type": "code",
   "execution_count": 25,
   "id": "73f6cbce-78a4-4d71-956a-2ca54f6a9eab",
   "metadata": {},
   "outputs": [
    {
     "data": {
      "image/png": "[encoded data removed]",
      "text/plain": [
       "<Figure size 1000x600 with 1 Axes>"
      ]
     },
     "metadata": {},
     "output_type": "display_data"
    }
   ],
   "source": [
    "followers_count = df['followers_count']\n",
    "\n",
    "# Plot the histogram with a log scale on the x-axis\n",
    "plt.figure(figsize=(10, 6))  # Set the size of the figure\n",
    "plt.hist(followers_count, bins=100, color='skyblue', edgecolor='black')  # Adjust the number of bins as needed\n",
    "plt.xlabel('Followers Count')\n",
    "plt.ylabel('Frequency of Tweets')\n",
    "plt.yscale('log')\n",
    "plt.title('Histogram of Tweets with Followers Count')\n",
    "plt.grid(True)\n",
    "plt.show()"
   ]
  },
  {
   "cell_type": "code",
   "execution_count": 125,
   "id": "cd570838-49b2-4698-9495-dbaca07ed441",
   "metadata": {},
   "outputs": [],
   "source": [
    "all_replied_users = df.dropna(subset='in_reply_to_user_id')['in_reply_to_user_id'].tolist()"
   ]
  },
  {
   "cell_type": "code",
   "execution_count": 126,
   "id": "1ff79363-c385-422a-8b0f-2a04dede666c",
   "metadata": {},
   "outputs": [
    {
     "data": {
      "text/plain": [
       "(12202, 8729)"
      ]
     },
     "execution_count": 126,
     "metadata": {},
     "output_type": "execute_result"
    }
   ],
   "source": [
    "len(all_replied_users), len(set(all_replied_users))"
   ]
  },
  {
   "cell_type": "markdown",
   "id": "4269269b-54a9-4004-bb93-b5c5c2d1cafb",
   "metadata": {},
   "source": [
    "Number of users replied to in our dataset (not counting multiplicity, e.g., if a given user in our dataset was replied to multiple times, this would become multiple triples, but here we are just counting how many unique users that were replied to that are among the unique users in our dataset)"
   ]
  },
  {
   "cell_type": "code",
   "execution_count": 130,
   "id": "eb39d1e7-64bd-4995-b349-a2f6f52bc655",
   "metadata": {},
   "outputs": [
    {
     "data": {
      "text/plain": [
       "1249"
      ]
     },
     "execution_count": 130,
     "metadata": {},
     "output_type": "execute_result"
    }
   ],
   "source": [
    "len(set(df['user_id']).intersection(set(all_replied_users)))"
   ]
  },
  {
   "cell_type": "markdown",
   "id": "0685bd10-45a4-48a0-9e63-16b1586af00e",
   "metadata": {},
   "source": [
    "Number of users replied to in our dataset, counting multiplicity (this is the number of relations added to the KG)"
   ]
  },
  {
   "cell_type": "code",
   "execution_count": 156,
   "id": "2714f635-e5e2-4ffa-93bd-18545c5fbf99",
   "metadata": {},
   "outputs": [
    {
     "name": "stdout",
     "output_type": "stream",
     "text": [
      "1991\n"
     ]
    }
   ],
   "source": [
    "# Count the multiplicity of each user in the list\n",
    "user_counts = Counter(all_replied_users)\n",
    "\n",
    "# Find the intersection of the list and set of users\n",
    "intersection_users = set(all_replied_users) & set(df['user_id'])\n",
    "\n",
    "# Count the multiplicity for each user in the intersection\n",
    "intersection_counts = {user: user_counts[user] for user in intersection_users}\n",
    "\n",
    "print(sum(intersection_counts.values()))"
   ]
  },
  {
   "cell_type": "markdown",
   "id": "95d58212-c972-4cdd-b563-7269baa4e714",
   "metadata": {},
   "source": [
    "Number of tweets that were replied to"
   ]
  },
  {
   "cell_type": "code",
   "execution_count": 127,
   "id": "e7fb21bd-48f2-4181-bec6-2c764595365e",
   "metadata": {},
   "outputs": [],
   "source": [
    "all_replied_tweets=df.dropna(subset='in_reply_to_tweet_id')['in_reply_to_tweet_id'].tolist()"
   ]
  },
  {
   "cell_type": "code",
   "execution_count": 128,
   "id": "9f899063-229e-4bea-bafc-87cdad796c92",
   "metadata": {},
   "outputs": [
    {
     "data": {
      "text/plain": [
       "(11226, 10976)"
      ]
     },
     "execution_count": 128,
     "metadata": {},
     "output_type": "execute_result"
    }
   ],
   "source": [
    "len(all_replied_tweets), len(set(all_replied_tweets))"
   ]
  },
  {
   "cell_type": "markdown",
   "id": "93a05be1-fc0f-4a8d-8d9f-3b4551a07ea9",
   "metadata": {},
   "source": [
    "Number of tweets replied to in our dataset (not counting multiplicity, e.g., if a given tweet in our dataset was replied to multiple times, this would become multiple triples, but here we are just counting how many unique tweets that were replied to that are among the unique tweets in our dataset)"
   ]
  },
  {
   "cell_type": "code",
   "execution_count": 129,
   "id": "50086df8-23de-4426-83aa-926f2df1bafe",
   "metadata": {},
   "outputs": [
    {
     "data": {
      "text/plain": [
       "212"
      ]
     },
     "execution_count": 129,
     "metadata": {},
     "output_type": "execute_result"
    }
   ],
   "source": [
    "len(set(df['tweet_id']).intersection(set(all_replied_tweets)))"
   ]
  },
  {
   "cell_type": "code",
   "execution_count": 157,
   "id": "990b86c9-0088-495a-8204-25454630fda6",
   "metadata": {},
   "outputs": [
    {
     "name": "stdout",
     "output_type": "stream",
     "text": [
      "215\n"
     ]
    }
   ],
   "source": [
    "# Count the multiplicity of each user in the list\n",
    "user_counts = Counter(all_replied_tweets)\n",
    "\n",
    "# Find the intersection of the list and set of users\n",
    "intersection_users = set(all_replied_tweets) & set(df['tweet_id'])\n",
    "\n",
    "# Count the multiplicity for each user in the intersection\n",
    "intersection_counts = {user: user_counts[user] for user in intersection_users}\n",
    "\n",
    "print(sum(intersection_counts.values()))"
   ]
  },
  {
   "cell_type": "markdown",
   "id": "a42c9f87-9588-42ef-a0c8-e7963ca824a6",
   "metadata": {},
   "source": [
    "Number of tweets that were quoted"
   ]
  },
  {
   "cell_type": "code",
   "execution_count": 132,
   "id": "496416ee-d28e-4022-8fc1-e328780283a4",
   "metadata": {},
   "outputs": [],
   "source": [
    "all_quoted_tweets = df.dropna(subset='quoted_tweet_id')['quoted_tweet_id'].tolist()"
   ]
  },
  {
   "cell_type": "code",
   "execution_count": 133,
   "id": "43c8ff7e-9c4a-4b65-ba34-098716e7dbbc",
   "metadata": {},
   "outputs": [
    {
     "data": {
      "text/plain": [
       "(8984, 8178)"
      ]
     },
     "execution_count": 133,
     "metadata": {},
     "output_type": "execute_result"
    }
   ],
   "source": [
    "len(all_quoted_tweets), len(set(all_quoted_tweets))"
   ]
  },
  {
   "cell_type": "markdown",
   "id": "d0ba360d-d21b-463e-9eda-a6f5dee0fb95",
   "metadata": {},
   "source": [
    "Number of tweets quoted in our dataset"
   ]
  },
  {
   "cell_type": "code",
   "execution_count": 134,
   "id": "eec294f8-b3ab-4a4d-aa9e-7937a4f09daa",
   "metadata": {},
   "outputs": [
    {
     "data": {
      "text/plain": [
       "47"
      ]
     },
     "execution_count": 134,
     "metadata": {},
     "output_type": "execute_result"
    }
   ],
   "source": [
    "len(set(df['tweet_id']).intersection(set(all_quoted_tweets)))"
   ]
  },
  {
   "cell_type": "code",
   "execution_count": 158,
   "id": "9324b148-770c-4b68-aa58-dd9a529cc859",
   "metadata": {},
   "outputs": [
    {
     "name": "stdout",
     "output_type": "stream",
     "text": [
      "50\n"
     ]
    }
   ],
   "source": [
    "# Count the multiplicity of each user in the list\n",
    "user_counts = Counter(all_quoted_tweets)\n",
    "\n",
    "# Find the intersection of the list and set of users\n",
    "intersection_users = set(all_quoted_tweets) & set(df['tweet_id'])\n",
    "\n",
    "# Count the multiplicity for each user in the intersection\n",
    "intersection_counts = {user: user_counts[user] for user in intersection_users}\n",
    "\n",
    "print(sum(intersection_counts.values()))"
   ]
  },
  {
   "cell_type": "markdown",
   "id": "fefdebf7-564e-4d59-8031-8071798c4f58",
   "metadata": {},
   "source": [
    "Number of users that were mentioned (counting multiplicity)"
   ]
  },
  {
   "cell_type": "code",
   "execution_count": 136,
   "id": "e53a8313-bfe0-40ef-b486-e18db3d10f20",
   "metadata": {},
   "outputs": [],
   "source": [
    "all_mentions = df[df[\"mentions\"].apply(lambda x: len(x) > 0)]['mentions'].explode().tolist()"
   ]
  },
  {
   "cell_type": "code",
   "execution_count": 137,
   "id": "adf968cf-6550-4358-bd90-d4dd4346f306",
   "metadata": {},
   "outputs": [
    {
     "data": {
      "text/plain": [
       "(23195, 13011)"
      ]
     },
     "execution_count": 137,
     "metadata": {},
     "output_type": "execute_result"
    }
   ],
   "source": [
    "len(all_mentions), len(set(all_mentions))"
   ]
  },
  {
   "cell_type": "markdown",
   "id": "7b03a013-8543-4ba8-a33a-0319fd42591a",
   "metadata": {},
   "source": [
    "Number of mentioned users in our dataset"
   ]
  },
  {
   "cell_type": "code",
   "execution_count": 138,
   "id": "f0fa6dfb-e2f1-4074-92b3-81073333b445",
   "metadata": {},
   "outputs": [
    {
     "data": {
      "text/plain": [
       "226"
      ]
     },
     "execution_count": 138,
     "metadata": {},
     "output_type": "execute_result"
    }
   ],
   "source": [
    "len(set(df['user_id']).intersection(set(all_mentions)))"
   ]
  },
  {
   "cell_type": "code",
   "execution_count": 159,
   "id": "afcbb5f0-57cf-4e90-bc51-cdc33faded80",
   "metadata": {},
   "outputs": [
    {
     "name": "stdout",
     "output_type": "stream",
     "text": [
      "461\n"
     ]
    }
   ],
   "source": [
    "# Count the multiplicity of each user in the list\n",
    "user_counts = Counter(all_mentions)\n",
    "\n",
    "# Find the intersection of the list and set of users\n",
    "intersection_users = set(all_mentions) & set(df['user_id'])\n",
    "\n",
    "# Count the multiplicity for each user in the intersection\n",
    "intersection_counts = {user: user_counts[user] for user in intersection_users}\n",
    "\n",
    "print(sum(intersection_counts.values()))"
   ]
  },
  {
   "cell_type": "markdown",
   "id": "91869b23-902b-4e93-8d93-e4b883b610d6",
   "metadata": {},
   "source": [
    "**From the analysis above, we will proceed by creating only triples between tweets that reply to users and tweets that mention users.**"
   ]
  },
  {
   "cell_type": "markdown",
   "id": "e4d98fb5-c6d6-4ec4-881a-7d5038055603",
   "metadata": {
    "tags": []
   },
   "source": [
    "## Tweet to Topic Edge"
   ]
  },
  {
   "cell_type": "code",
   "execution_count": 199,
   "id": "05c2c3df-f7dd-47a0-8271-c38c33973d87",
   "metadata": {
    "tags": []
   },
   "outputs": [],
   "source": [
    "metrics = []\n",
    "for tweet in tweet_dict:\n",
    "    probs = []\n",
    "    sents = []\n",
    "    for top in top_list:\n",
    "        if tweet[f'{top}'] >= 0.01:\n",
    "            probs.append(tweet[f'{top}'])\n",
    "            sents.append(mean_sents[top])\n",
    "\n",
    "    probs = np.array(probs)\n",
    "    sents = np.array(sents)\n",
    "    metrics.append((np.sum(probs * sents)))# * tweet['followers_count'])\n",
    "\n",
    "# metrics = 1/(1+np.exp(metrics))"
   ]
  },
  {
   "cell_type": "code",
   "execution_count": 196,
   "id": "2eb7877a-900e-4163-96ed-c1c139be58d6",
   "metadata": {
    "collapsed": true,
    "jupyter": {
     "outputs_hidden": true,
     "source_hidden": true
    },
    "tags": []
   },
   "outputs": [
    {
     "data": {
      "image/png": "[encoded data removed]",
      "text/plain": [
       "<Figure size 1000x600 with 1 Axes>"
      ]
     },
     "metadata": {},
     "output_type": "display_data"
    }
   ],
   "source": [
    "plt.figure(figsize=(10, 6))  # Set the size of the figure\n",
    "plt.hist(metrics, bins=50, color='skyblue', edgecolor='black')  # Adjust the number of bins as needed\n",
    "plt.grid(True)\n",
    "# plt.yscale('log')\n",
    "plt.show()"
   ]
  },
  {
   "cell_type": "code",
   "execution_count": 168,
   "id": "fbe80777-354e-4b7d-a521-4f3867ee8731",
   "metadata": {
    "collapsed": true,
    "jupyter": {
     "outputs_hidden": true,
     "source_hidden": true
    },
    "tags": []
   },
   "outputs": [
    {
     "data": {
      "image/png": "[encoded data removed]",
      "text/plain": [
       "<Figure size 1000x600 with 1 Axes>"
      ]
     },
     "metadata": {},
     "output_type": "display_data"
    }
   ],
   "source": [
    "metrics = []\n",
    "for tweet in tweet_dict:\n",
    "    probs = []\n",
    "    sents = []\n",
    "    for top in top_list:\n",
    "        if tweet[f'{top}'] >= 0.01:\n",
    "            probs.append(tweet[f'{top}'])\n",
    "            sents.append(mean_sents[top])\n",
    "\n",
    "    probs = np.array(probs)\n",
    "    sents = np.array(sents)\n",
    "    metrics.append(np.min(probs * sents))\n",
    "    \n",
    "plt.figure(figsize=(10, 6))  # Set the size of the figure\n",
    "plt.hist(metrics, bins=50, color='skyblue', edgecolor='black')  # Adjust the number of bins as needed\n",
    "plt.grid(True)\n",
    "# plt.yscale('log')\n",
    "plt.show()"
   ]
  },
  {
   "cell_type": "code",
   "execution_count": 207,
   "id": "70d8df00-bcf8-48d4-ba65-ad1ea21db138",
   "metadata": {
    "tags": []
   },
   "outputs": [
    {
     "name": "stdout",
     "output_type": "stream",
     "text": [
      "0.0325179055140092 -0.3254626666666667 13_racism_racist_anti black_anti\n",
      "0.0195308657306775 0.036982894736842103 21_negro_negros_this negro_the negro\n",
      "0.0105287905431751 0.08096548672566373 106_quote_we_blacklivesmatter quote_negro\n",
      "0.0135274102609686 -0.2552979591836735 117_he_his_racist_anti black\n",
      "0.0140998485348992 -0.045492391304347825 126_white_white people_mean anti white_anti white blm\n",
      "0.012696311739625 -0.43259756097560975 225_nigger_white_white nigger_white niggers\n",
      "0.0242851619219818 0.394865 229_blackwomen_blackexcellence_blackpower_blackgirls\n"
     ]
    }
   ],
   "source": [
    "tweet = tweet_dict[10]\n",
    "for top in top_list:\n",
    "    if tweet[f'{top}'] >= 0.01:\n",
    "        print(tweet[f'{top}'], mean_sents[top], top2name[top])\n",
    "        # probs.append(tweet[f'{top}'])\n",
    "        # sents.append(mean_sents[top])"
   ]
  },
  {
   "cell_type": "code",
   "execution_count": 201,
   "id": "df89bb58-950d-4b9b-8356-f77a77c5ae42",
   "metadata": {
    "collapsed": true,
    "jupyter": {
     "outputs_hidden": true
    },
    "tags": []
   },
   "outputs": [
    {
     "name": "stdout",
     "output_type": "stream",
     "text": [
      "-0.2602057665943206 26741 -0.4404 @washingtonpost read the transcripts from the george floyd killing, then try to ask for our sympathy. \n",
      "\n",
      "-0.25936736700055235 45082 -0.93 @amazinghemi @extremelybi01 @politics_polls you are racist if you think blm is a terrorist group. the terrorists in… https://t.co/synidux3ep \n",
      "\n",
      "-0.2592235017869673 29657 -0.6908 @hollandcourtney blm a bunch terrorist \n",
      "\n",
      "-0.258601380042496 34465 -0.7906 the murder of breonna taylor was a glaring symptom of the systemic racism which plagues the united states.  may her… https://t.co/sdpwfrpuzt \n",
      "\n",
      "-0.2585759280910371 35185 -0.3612 today is thursday, october 1st. 6 months and 18 days since breonnataylor was murdered. \n",
      "\n",
      "today’s a good day to do… https://t.co/g7v8ed2hvu \n",
      "\n",
      "-0.2584637250142332 34239 0.2023 so the officers have a right to protect themselves but breonna taylor and her boyfriend didn’t have the right to pr… https://t.co/v7p9qfu9oy \n",
      "\n",
      "-0.2578443244341708 1884 0.0 breonna taylor sayhername\n",
      "\n",
      "was in her own home when officers barged in looking for someone who did not live there.… https://t.co/x2rgbk8ke0 \n",
      "\n",
      "-0.2576098470059359 17761 -0.7845 arrest the cops who killed breonnataylor \n",
      "\n",
      "-0.2573836967387124 18441 0.0 has anyone ever told you that breonna taylor was shot in her own home while she was asleep? \n",
      "\n",
      "-0.25731857304857025 1593 -0.765 two men involved in fatal shooting of ahmaud arbery have been arrested, gbi says https://t.co/t1hmdzrao0 \n",
      "\n",
      "-0.25598067422165344 26761 0.0 cops who gunned down breonnataylor still not held accountable. 🤦🏽‍♀️🤦🏽‍♀️ \n",
      "\n",
      "-0.2558153525697365 4282 -0.8225 so the officer who had his knee on george floyds neck which killed him has finally been arrested, now for the other… https://t.co/zidiitivbz \n",
      "\n",
      "-0.2556946729002598 34487 0.1997 so you’ll pray for the police officers who got shot, but not for breonna taylor and her family, who hadn’t gotten a… https://t.co/hcc9p0h8f9 \n",
      "\n",
      "-0.25562652859984986 34617 -0.4374 sgt mattingly shot at breonna taylor warrant triage leaked footage!! https://t.co/b7lp1oyykf via @youtube \n",
      "\n",
      "-0.2552979591836735 13910 -0.7257 he’s he fucking blind?! that’s the rhetoric that blm blacklivesmatter are protesting. that’s the mentality of old… https://t.co/hdgtlffkes \n",
      "\n",
      "-0.2552979591836735 4778 -0.5267 @jemelehill he’s not the magical negro called out from his lamp to fox america’s screw up. y’all disrespected that… https://t.co/b8ga4tbhiz \n",
      "\n",
      "-0.2552979591836735 41373 -0.296 @jenaydays yeah he’s like partially anti black and shit himself \n",
      "\n",
      "-0.2552979591836735 46456 0.2975 it’s almost like he’s anti-black \n",
      "\n",
      "-0.2552979591836735 2564 -0.6808 if @realdonaldtrump doesn’t do anything or even talk about georgefloyd than he’s truly a racist maga fuck , we nee… https://t.co/6afv5lfbx7 \n",
      "\n",
      "-0.2552979591836735 33290 -0.1779 annoying. makes anti-black jokes and his followers defend him. he throws lil tidbits and little saying in his video… https://t.co/ieone7bomu \n",
      "\n",
      "-0.2552979591836735 32512 -0.9468 @lameass_karla i have no idea. but he defends his racism and homophobia to death. there’s no getting thru his head. en un pendejo. \n",
      "\n",
      "-0.2552979591836735 40747 -0.9098 because cap punched hitler on his first issue! he fought in wwii and hated racism. he is notorious for his truth an… https://t.co/qdvbhalv3j \n",
      "\n",
      "-0.2552979591836735 13168 -0.7906 did @brees just look past his team mates and blm for his problem with kneeling for already dead white people? as a… https://t.co/rougfq6xtz \n",
      "\n",
      "-0.2552979591836735 42917 -0.4019 don’t come at me telling me this isn’t racially motivated. he went to an asian spa to kill asian women stopasianhate \n",
      "\n",
      "-0.2552979591836735 30493 -0.484 this man has done more to combat racism than blm lmao \n",
      "\n",
      "-0.2552979591836735 24308 -0.6124 or if he really got complaints/threats regarding a blm post - there are racist stores doing business w/the brand. t… https://t.co/g1bhj8zpan \n",
      "\n",
      "-0.2552979591836735 119 -0.1027 @scaramucci @potus @realdonaldtrump take a look at @chuckwoolery . racism, misogyny and xenophobia are alive and well in his world. \n",
      "\n",
      "-0.2552979591836735 36766 -0.2354 lil’ wayne hates his own dark skin. anytime he does anything anti-black i’m not shocked, i listen to his music he’s… https://t.co/b6bpmbbvf3 \n",
      "\n",
      "-0.2552979591836735 39042 -0.6124 @adamfriscia @locustapollyon @icecube he’s been a antiblack racist his whole career..  he’s not gonna change now .… https://t.co/2czmjxt30u \n",
      "\n",
      "-0.2552979591836735 41595 0.765 @geektify i doubt he cares. he only cares about monetizing white acceptance. us darkies don’t matter. \n",
      "\n",
      "-0.2552979591836735 45930 -0.6249 should never have hired him in the first place. his racism and homophobia has been openly known for decades. @cnn d… https://t.co/jjfmpqnsiy \n",
      "\n",
      "-0.2552979591836735 37668 -0.5859 @marcorubio rubio is a racist anti black hatemonger like his daddy trump \n",
      "\n",
      "-0.2552979591836735 42164 -0.7964 his comment about storm rubs me the wrong way as racist and antiblack \n",
      "\n",
      "-0.2552979591836735 203 -0.3612 @davidlaz we’ve known all along that he is racist especially since he wants to be like a hitler \n",
      "\n",
      "-0.2552979591836735 26316 0.128 stop. spending. your. time. on. this. man. \n",
      "\n",
      "he’s a homophobe and misogynist and clearly has some anti-black leanin… https://t.co/8vy9ry3lg6 \n",
      "\n",
      "-0.2552979591836735 4780 -0.6249 @jemelehill he’s not the magical negro called out from his lamp to fix america’s pandemic of racism. y’all disrespe… https://t.co/lg4ktezfd1 \n",
      "\n",
      "-0.2552979591836735 31151 0.3612 @exjon he swore those immigrant people of color in just like hitler would. \n",
      "\n",
      "-0.2552979591836735 22964 -0.6067 no warning here. this is the brutal truth of racism. say his name emmetttill share his story! \n",
      "___________________… https://t.co/stjnn0kcts \n",
      "\n",
      "-0.2552979591836735 31917 0.8074 @ynb he wasn’t cleaning graffiti with kindness in his heart. \n",
      "\n",
      "he’s scrubbing away blm with racism in his heart. \n",
      "\n",
      "-0.2552979591836735 32506 -0.6971 don't be surprised at joebiden's latest outburst of anti-black racism. this is who he's always been. it is what he… https://t.co/u1usgkagtm \n",
      "\n",
      "-0.2552979591836735 36864 -0.5106 because his fans reside in a dark, ugly, alternate universe where up is down and black is a blm rioter.\n",
      "\n",
      "this won't… https://t.co/9puvgcybq4 \n",
      "\n",
      "-0.2552979591836735 33695 -0.8176 he's trying to recreate the hitler youths calling anti racism education such as anti white supremacy as child abuse… https://t.co/tjex7g8ygu \n",
      "\n",
      "-0.2552979591836735 42475 -0.8689 remember his anti asian racist and antiblack art fuck dr seuss \n",
      "\n",
      "-0.2552979591836735 162 -0.7351 this old racist just can’t stop defending his xenophobia \n",
      "\n",
      "-0.25488600931906363 12461 -0.7922 david dorn, a black st louis police captain was murdered last night by looters. they dont care about george floyd p… https://t.co/bgnbsw9upn \n",
      "\n",
      "-0.25484027666180076 18307 -0.7845 arrest the cops who killed\n",
      "breonnataylor \n",
      "\n",
      "-0.25467926475239777 28171 -0.7177 @realdonaldtrump time to name blm a terrorist organization! \n",
      "\n",
      "-0.2546265672059358 23931 -0.1717 breonnataylor is no longer trending and the police that murdered her are still free. if you see this, please quote… https://t.co/nauic7ldat \n",
      "\n",
      "-0.25460915703889697 24007 0.0516 i feel a way about these breonna taylor memes. it’s become a joke to y’all? this womans killers are still free it’s… https://t.co/omqbqjdtid \n",
      "\n",
      "-0.25444288535267284 19387 -0.6597 breonna taylor was murdered in her own home \n",
      "\n",
      "-0.25441261008192656 17992 -0.7845 arrest the cops who killed breonnataylor \n",
      "\n",
      "-0.2530824144144217 34772 -0.4588 if i see the cops 👮🏽‍♂️ that murdered breonna taylor : my motivation on the heavy bag this week @ los angeles, cali… https://t.co/rbut32hbbp \n",
      "\n",
      "-0.252952491097364 37839 -0.6249 this boils my blood. blm and antifa are a bunch of terrorists \n",
      "\n",
      "-0.25254146786128906 34149 -0.4215 the headline of “officer indicted in breonna taylor case” is misdirection and truly underplays the murder of… https://t.co/4cn5jdgsgm \n",
      "\n",
      "-0.2523959456992355 20524 -0.9468 how are passing a law named after breonnataylor but have yet to arrest the assholes who murdered her? \n",
      "\n",
      "👏🏼 get 👏🏾… https://t.co/rnxpvqeo2z \n",
      "\n",
      "-0.2519594663826317 32557 -0.4767 biden, the guy who thinks breonna taylor should be arrested. \n",
      "\n",
      "-0.2517781122523854 8408 -0.6705 the man who killed george floyd slowly and methodically as he stared the world in the eye knew exactly what would… https://t.co/tnhvylyvim \n",
      "\n",
      "-0.25094749736057903 22624 0.2732 honestly he’s right. the officer probably hugged george floyd before he knelt on his neck until he died. we just di… https://t.co/srhmbxjp1v \n",
      "\n",
      "-0.250548414053387 23276 -0.791 i’m a simple guy. all i really want is to meet omar apollo and for the cops who killed breonna taylor to be arrested. \n",
      "\n",
      "-0.25051308597892136 34397 0.0 i am so done with the mayor of los angeles i don’t even know why he’s trying to weigh in on the breonna taylor case… https://t.co/13ihxsi0zj \n",
      "\n",
      "-0.25036512068743794 19942 -0.3724 and the police wonder why they're not trusted. \n",
      "louisville police release the breonna taylor incident report. it's… https://t.co/7d4zu4atjh \n",
      "\n",
      "-0.24954996686194408 22832 -0.5574 officer brett hankison being fired from louisville police after breonna taylor shooting\n",
      "\n",
      "https://t.co/o95tzg2qkp \n",
      "\n",
      "-0.248938026870581 3470 -0.8442 the cop that killed george floyd only got fired.. how is that enough? \n",
      "\n",
      "-0.24876543142797464 23324 -0.7906 one of the cops who murdered george floyd out of prison casually buying oreo cookies and milk. https://t.co/jcew1w2u9x \n",
      "\n",
      "-0.24807092530117958 33087 -0.4215 may 30 we sent two us astronauts to space from the us but george floyd was murdered on may 25 and my excitement for… https://t.co/bcnxcfhhgh \n",
      "\n",
      "-0.24801046637713442 23930 -0.6597 y’all think memes will get the pigs who murdered breonna taylor put in jail huh \n",
      "\n",
      "-0.24737731672371893 27088 -0.6249 'rhoa' star porsha williams arrested at breonna taylor protest https://t.co/ldi97filsa (vía tmz) \n",
      "\n",
      "-0.24704463461644788 43565 -0.7506 paramedic clearly disgusted with the police activity surrounding the murder of george floyd https://t.co/ggsallqmku \n",
      "\n",
      "-0.24611664657169843 34107 -0.9022 breonna taylor was murdered, full stop. “wanton endangerment?” she wasn’t endangered, she was killed while at the s… https://t.co/imaaaoahfe \n",
      "\n",
      "-0.2450901956853429 22675 -0.449 @cher the cops that killed breonna taylor have not been arrested soooo.... y’all are still letting us down \n",
      "\n",
      "-0.24506452104318432 19719 0.0 breonna taylor’s police report is blank!!! justiceforbreonnataylor breonnataylor @andybeshearky @louisvillemayor… https://t.co/3pvdxa2qeq \n",
      "\n",
      "-0.24492727513426768 25333 -0.7845 hey @djaycameron arrest the cops that killed breonnataylor https://t.co/pjuxxqcxlj \n",
      "\n",
      "-0.24487663340403587 18484 -0.7845 arrest the cops who killed breonnataylor https://t.co/6un4t2z6bn \n",
      "\n",
      "-0.24415408510271971 19857 -0.872 one of the four ex minneapolis cops accused of killing george floyd now out of prison. thomas lane posts $750,000 b… https://t.co/quokpbs2a0 \n",
      "\n",
      "-0.2440120632524598 23815 0.0 who are the 3 louisville officers involved in the breonna taylor shooting? what we know https://t.co/oxqdxuaekg via @courierjournal \n",
      "\n",
      "-0.24398955235909978 30449 -0.765 i cannot understand why the cops who killed breonna taylor are still walking around, free as birds. they fucked up,… https://t.co/he1jv57lwr \n",
      "\n",
      "-0.24383206689145495 17414 -0.7845 arrest the cops who killed \n",
      "breonnataylor \n",
      "\n",
      "-0.2430134455462248 24620 0.4019 alex kueng thought being a cop could help. soon, he was holding george floyd down during his murder—and doing nothi… https://t.co/l2qyxhl9oz \n",
      "\n",
      "-0.24282781465385828 27939 -0.9208 nation: we’re angry breonna taylor was murdered at no fault of her own. arrest her killers to hold them accountable… https://t.co/36gp2nm24z \n",
      "\n",
      "-0.24281535356624093 28729 -0.9215 breonnataylor sayhername \n",
      "until the murderers that killed her in her own home are arrested! blacklivesmatter https://t.co/2r6veksgzp \n",
      "\n",
      "-0.24257190188872574 32424 0.0 @tiredofit10 if we had either wi &amp; breonna taylor would have been handled very different. the chief of police/sheri… https://t.co/ybxmsyq1cj \n",
      "\n",
      "-0.24216327166770224 22386 -0.7783 still waiting on the arrest of the officers who murdered breonnataylor \n",
      "\n",
      "-0.24187043986432738 25086 -0.327 it’s the of the day... why aren’t the people responsible for breonnataylor arrested??? \n",
      "\n",
      "-0.2411059162628835 25340 -0.7845 arrest the cops who killed breonnataylor https://t.co/6qnhcpt8tn \n",
      "\n",
      "-0.24046284097726373 15089 0.1184 no justice, no peace ✊🏽🖤 blm https://t.co/bdwxfneozv \n",
      "\n",
      "-0.24023090425094878 22344 -0.8516 i just know the cops who killed breonna taylor are getting a fat ass charge. maybe that is what’s taking so long. hurry it up though! \n",
      "\n",
      "-0.24015874075510604 27189 -0.7264 the cops really killed breonna taylor and said “yikes... wrong house. lol oop” \n",
      "\n",
      "-0.24004381877554803 19993 -0.7845 arrest the cops who killed breonnataylor https://t.co/gy44i9d9zl \n",
      "\n",
      "-0.24002266398818822 23347 -0.9062 it’s been 100 days since breonna taylor was murdered. arrest and charge the cops who killed her. \n",
      "\n",
      "-0.23946347899352746 33138 -0.4479 @lildrag86367388 @hisnameusedtobe @drkarlynb did breonna taylor resist arrest while she was sleeping in her bed???… https://t.co/q2jrlgdupe \n",
      "\n",
      "-0.2393619167909288 30736 -0.5106 so, when will the cops who killed breonna taylor in her sleep be brought to justice? their identities are no secret… https://t.co/c3nbrqpjbs \n",
      "\n",
      "-0.23891881571732376 45900 0.0 niggers !?!? \n",
      "\n",
      "-0.23853727617930082 20078 -0.836 on may 30th, the first saturday after george floyd was horribly killed, i was asked: “what is the asian american &amp;… https://t.co/u3btdnvcer \n",
      "\n",
      "-0.23771321029341885 1738 -0.6597 trump wonders what 'we didn't see on tape' of ahmaud arbery killing | no... https://t.co/outqcxuqh5 via @youtube \n",
      "\n",
      "-0.23706600348425624 23208 -0.8177 this kitty is very angry because the officers who killed breonna taylor have still have not been charged. you shoul… https://t.co/oeglwdg5ek \n",
      "\n",
      "-0.23704709980092742 27093 -0.449 hot take on this whole will and jada smith drama...\n",
      "\n",
      "...the cops who killed breonna taylor still haven't been arrested. \n",
      "\n",
      "-0.23677305034301455 22900 -0.6597 @senatemajldr any thoughts on what should happen to the men who murdered breonnataylor in her home? justiceforbreonnataylor \n",
      "\n",
      "-0.23643339807490305 5351 -0.7003 george floyd and that cop knew each other personally. is it crazy of me to think this is a conspiracy where someone… https://t.co/8hmxlardmb \n",
      "\n",
      "-0.23625822930829649 17436 -0.7845 arrest the cops who killed breonnataylor \n",
      "\n",
      "-0.2360065328154345 17374 -0.7506 wow. police hurt a white guy on tape - charges in two days. police kill a breonna taylor in her own house and we ar… https://t.co/b6jbx5ndof \n",
      "\n",
      "-0.235650994392715 1934 -0.5709 @dpb0101 wow i’m so tired of reading the word nigger today \n",
      "\n",
      "-0.23558699556241752 17541 -0.7845 arrest the cops who killed breonnataylor \n",
      "\n",
      "-0.2351150749430883 34321 -0.886 louisville, ky. (@ap) — louisville police: 2 officers shot amid protests over lack of charges in breonna taylor death; suspect in custody. \n",
      "\n",
      "-0.23478750062866294 22366 -0.9022 arrest the murderers who murdered breonna taylor in cold blood you cowards \n",
      "\n",
      "-0.23477443475665005 29472 -0.8885 if you can ban tik tok you can fire the cops who killed breonna taylor \n",
      "\n",
      "-0.23392725626858415 13093 -0.6705 when police killed breonna taylor in her own bed it wasn’t caught on video https://t.co/rmljoxx0y3 \n",
      "\n",
      "-0.23261713857790559 29295 -0.782 but george floyd died because of a “hunch” ???? \n",
      "\n",
      "-0.23256446789841065 26143 -0.8565 can u just arrest the fkn cops that killed breonna taylor already?!?! tf!!😾 \n",
      "\n",
      "-0.2322177091289039 2969 0.0 where was all the police intervention when georgefloyd had a knee to his neck?  icantbreathe eyeforaneye  givehimthedeathpenalty \n",
      "\n",
      "-0.23104284504527087 34654 0.3182 @chrismwolfe nice reporting cutting out major details of the breonna taylor case. police knocked on the door with a… https://t.co/kz5xhg2eqq \n",
      "\n",
      "-0.2310251529133077 1463 0.0 this young man is ahmaud arbery and he was lynched in georgia. while out a run, a father and son followed him and s… https://t.co/a5czxptcpw \n",
      "\n",
      "-0.22999045914054866 4297 0.0 bajo custodia el policía vinculado al arresto tras el cual murió el afroestadounidense george floyd en minnesota. https://t.co/2octxlgm1n \n",
      "\n",
      "-0.22995575484489247 42147 -0.9037 ahmaud arbery was brutally murdered 1 year ago today for “running while black.” we still have not seen justice for… https://t.co/ebwgguytvt \n",
      "\n",
      "-0.22972449035996004 4124 0.0 why aren’t more people reporting on the fact that george floyd and the cop were bouncers together for over a year a… https://t.co/xuzv0crmtm \n",
      "\n",
      "-0.22970965256275883 18927 -0.7845 so not done yet, everybody. they still need to arrest the cops who killed breonnataylor \n",
      "\n",
      "-0.22871042419404214 27569 -0.7418 @votenickmoutos those aren’t blm y’all haven’t even officially labeled the fucking kkk as a terrorist org. read a book!! \n",
      "\n",
      "-0.22870673086245302 35530 -0.3612 today is wednesday, october 7th. 6 months and 24 days since breonnataylor was murdered. \n",
      "\n",
      "today’s a good day to do… https://t.co/wv4a33we6q \n",
      "\n",
      "-0.22826187961985214 44572 0.0 derek chauvin handcuffed, led out of courtroom to jail. derekchauvintrial \n",
      "\n",
      "-0.22826187961985214 44573 -0.8957 fuck derek chauvin and all the bitch ass people who’ve spent the last year making excuses for that animal. \n",
      "\n",
      "-0.22826187961985214 44434 -0.5267 of terror and testimonies: living through the derek chauvin trial https://t.co/wueruyn7bj via @rns \n",
      "\n",
      "-0.22826187961985214 44576 -0.1514 derek chauvin look surprise and little shock. too bad and i don't give a fuck. \n",
      "\n",
      "-0.22826187961985214 4985 -0.4588 @traybridgewater it's highly likely that derek chauvin was abusing her. \n",
      "\n",
      "-0.22826187961985214 5121 -0.8559 derek chauvin doesn’t deserve a prison sentence; he does not deserve mercy. what that man deserves is to be dead &amp;… https://t.co/mtxfuewzkc \n",
      "\n",
      "-0.22826187961985214 44440 -0.296 derekchauvinverdict derek chauvin is going to jail. there is no way any normal human would think he's not guilty.… https://t.co/vnmaujvghu \n",
      "\n",
      "-0.22826187961985214 5124 -0.8559 derek chauvin doesn’t deserve a prison sentence; he does not deserve mercy. what that man deserves is to be dead &amp;… https://t.co/xc7ie7j7na \n",
      "\n",
      "-0.22826187961985214 44353 -0.2732 derek chauvin defense desperately trying to get judge to declare a mistrial based on all the media coverage. \n",
      "\n",
      "-0.22826187961985214 44385 0.471 @drjasonjohnson i have no faith in the justice system and i fully expect derek chauvin to be acquitted. \n",
      "\n",
      "-0.22826187961985214 44526 0.3612 derek chauvin on his way to jail like: https://t.co/whlweglenf \n",
      "\n",
      "-0.22826187961985214 44384 -0.296 as we prepare for the verdict in the derek chauvin murder trial, let’s focus on staying safe and working towards ta… https://t.co/gnpqvfae7h \n",
      "\n",
      "-0.22826187961985214 26025 -0.2617 @dylanischillin1 @lizizfine don’t get me wrong, derek chauvin deserves the electric chair. but the world needs to g… https://t.co/jpi99ilvti \n",
      "\n",
      "-0.22826187961985214 44390 -0.7717 maxine waters and kamala are insane.\n",
      "recall the fckng bastards..\n",
      ".. \n",
      "derek chauvin trial judge slams maxine waters'… https://t.co/gjxr8bfhe7 \n",
      "\n",
      "-0.22826187961985214 4336 -0.4767 derek chauvin has been arrested. https://t.co/b0imdezhtm \n",
      "\n",
      "-0.22826187961985214 44364 0.0 discussing the chauvin trial on clubhouse  https://t.co/hukvhjahxx https://t.co/cdjzfhpppw \n",
      "\n",
      "-0.22826187961985214 45458 0.0 derek chauvin next! \n",
      "\n",
      "-0.22826187961985214 44522 0.4404 it’s about to be a good 420, derek chauvin a whole pack baby chauvintrial \n",
      "\n",
      "-0.22826187961985214 33351 0.5859 @thewaryfox you sound like a big derek chauvin fan \n",
      "\n",
      "-0.22826187961985214 44797 -0.6808 rot in hell derek chauvin \n",
      "\n",
      "-0.22826187961985214 44354 0.0 judge says maxine waters’ comments may have given derek chauvin grounds for appeal. \n",
      "\n",
      "-0.22826187961985214 45653 0.0 derek chauvin is finally in jail. matt gaetz needs to be next. \n",
      "\n",
      "-0.22826187961985214 44699 -0.6808 rot in hell derek chauvin \n",
      "\n",
      "-0.22826187961985214 44475 0.0 derek chauvin deserves to be put in jail. \n",
      "\n",
      "-0.22826187961985214 44737 0.5994 rolling up this derek chauvin pack for 4/20, have a blessed day \n",
      "\n",
      "-0.22826187961985214 45542 0.8225 for the love of god please do not give derek chauvin a new trail. \n",
      "\n",
      "-0.22826187961985214 44666 0.8555 my mom just said she hopes derek chauvin becomes friends w my ex in jail and they both get killed 😍😍😍 mom goals tbh \n",
      "\n",
      "-0.22826187961985214 44669 0.0 derek chauvin ... https://t.co/cwtudwvtf3 \n",
      "\n",
      "-0.22826187961985214 27143 -0.34 of course there’s a gag order on derek chauvin trial. 🤦🏻‍♀️ \n",
      "\n",
      "-0.22826187961985214 44124 -0.5719 derek chauvins lawyer reminds me of every guy who went to my highschool and i hate him \n",
      "\n",
      "-0.22826187961985214 43292 -0.6908 derek chauvin murder trial starts live this morning on @ktla opening statements. justiceforgeorgefloyd blm ✊🏿✊🏾✊🏽✊🏼✊🏻✊ \n",
      "\n",
      "-0.22826187961985214 44178 0.0 i never would’ve expected pat robertson of all people to say that derek chauvin should be put under the jail, but h… https://t.co/dqmbdradvi \n",
      "\n",
      "-0.22826187961985214 45554 0.0 chauvin have the nerve to ask for a new trial.  alleging jury misconduct. \n",
      "\n",
      "-0.22826187961985214 44171 -0.6249 derek chauvin has pleaded the 5th.  i don't think he should have this right. his racism might show... https://t.co/k42axnnmb9 \n",
      "\n",
      "-0.22826187961985214 44170 -0.6597 the defense and prosecution rests in derek chauvin trial. closing arguments will be monday. judge is telling jury t… https://t.co/ptbnbqpxsd \n",
      "\n",
      "-0.22826187961985214 44690 -0.2244 finally some good news! fuck derek chauvin 🖕🏼 \n",
      "\n",
      "-0.22826187961985214 44167 -0.6249 derek chauvin is, from what is presented to me, the worst kind of human being. may he spend the rest of his life behind bars. \n",
      "\n",
      "-0.22826187961985214 45556 0.0 @monarchinmn the chauvin trial? \n",
      "\n",
      "-0.22826187961985214 43313 -0.6908 \"the murder trial of derek chauvin gets underway\"  https://t.co/lic1vzjmli \n",
      "\n",
      "-0.22826187961985214 44242 -0.6486 in readiness for potential civil disturbances related to the trial of derek chauvin for the death of george floyd,… https://t.co/vycnkydakv \n",
      "\n",
      "-0.22826187961985214 44123 0.0 derek chauvin only weighs 140 lbs. ??? \n",
      "\n",
      "-0.22826187961985214 44245 -0.6486 in readiness for potential civil disturbances related to the trial of derek chauvin for the death of george floyd,… https://t.co/mv6tlekwqw \n",
      "\n",
      "-0.22826187961985214 44160 -0.5434 derek chauvin is a little bitch. \n",
      "\n",
      "-0.22826187961985214 45218 0.5267 emmett till's cousin wheeler parker reacts to conviction of derek chauvin and today's state of racial justice\n",
      "https://t.co/yae1xblpou \n",
      "\n",
      "-0.22826187961985214 5120 -0.8559 derek chauvin doesn’t deserve a prison sentence. he does not deserve mercy. what he deserves is to be dead, killed… https://t.co/2amdercyqf \n",
      "\n",
      "-0.22826187961985214 6296 0.3182 @jordanuhl will the real derek chauvin please stand up. \n",
      "\n",
      "-0.22826187961985214 14183 0.6597 me @ derek chauvin and his buddies 🎉🎉 \n",
      "\n",
      "-0.22826187961985214 20267 0.128 i’m convinced derek chauvin is not the nigga they have in jail. i mean y’all literally see that no medics were on t… https://t.co/s3spgbizvw \n",
      "\n",
      "-0.22826187961985214 44454 -0.8689 verdict coming in soon. hate that it’s not a foregone conclusion that chauvin is a murderer. nervous about the afte… https://t.co/rfcegq93hh \n",
      "\n",
      "-0.22826187961985214 44301 0.0258 i pray to god derek chauvin is going to prison this week. \n",
      "\n",
      "-0.22826187961985214 44631 0.4404 hope derek chauvin rots \n",
      "\n",
      "-0.22826187961985214 45526 0.0 bombshell photo could get derek chauvin an appeal. one of the jurors (right) at his trial photographed wearing a ‘b… https://t.co/jqpsdo3vhz \n",
      "\n",
      "-0.22826187961985214 44646 -0.5423 fuck derek chauvin \n",
      "\n",
      "-0.22826187961985214 44119 0.25 the fact that there’s a slim chance of derek chauvin getting off, is unsettling \n",
      "\n",
      "-0.22826187961985214 16320 0.3612 derek chauvin needs to be in jail, 99.999% of people agree with that.\n",
      "\n",
      "blacklivesmatter \n",
      "\n",
      "-0.22826187961985214 44650 -0.8271 does derek chauvin get sentenced to prison in minnesota or florida, where he set up a fake residence to avoid taxes… https://t.co/polss2zwae \n",
      "\n",
      "-0.22826187961985214 45379 -0.765 the first derek chauvin murder trial juror speaks out. says protests and the racial climate were not a consideratio… https://t.co/5f34pjlypo \n",
      "\n",
      "-0.22826187961985214 13237 -0.8934 derek chauvin must be punished by a 40 year prison sentence blacklifematters murder georgefloyd… https://t.co/jgndsicb1q \n",
      "\n",
      "-0.22826187961985214 5198 0.0 my eight year old daughter just walked into the kitchen to let me know derek chauvin is, in her words, “a fucking asshole.” \n",
      "\n",
      "-0.22826187961985214 44483 -0.5423 fuck derek chauvin \n",
      "\n",
      "-0.22826187961985214 2295 0.0 derek chauvin should be locked up with his wife kellie chauvin. call kellie today!!!! https://t.co/e7lmnbh654 \n",
      "\n",
      "-0.22826187961985214 43838 0.7906 @thelauracoates i appreciate your legal and analytical dissection of the chauvin case.  you’re brilliant. \n",
      "\n",
      "-0.22826187961985214 4815 0.0 derek chauvin was showing them how to get away with it. fuck12 \n",
      "\n",
      "-0.22826187961985214 43963 -0.6908 receiving a master class in cardiology right now from a doctor testifying in the derek chauvin murder trial. and th… https://t.co/ooyusiqtc2 \n",
      "\n",
      "-0.22826187961985214 14535 0.7896 @mommydonelostit @lordbalvin yep! i’d love to see derek chauvin in gp too! \n",
      "\n",
      "-0.22826187961985214 18846 -0.5574 @jhollymc let's just hope he's that bad in court. i want derek chauvin to go to prison for a long time. \n",
      "\n",
      "-0.22826187961985214 42595 -0.7128 derek chauvin deserves to be punished to the fullest extent of the law, anything less is a disgrace \n",
      "\n",
      "-0.22826187961985214 3425 -0.5859 derek chauvin you’re going to die in prison or on the streets. your life is over. justice for poc, this is outrageo… https://t.co/fkkyycwgy4 \n",
      "\n",
      "-0.22826187961985214 43532 0.6369 derek chauvin trial day 3  | best analysis | tim black https://t.co/9m13mjlpxa via @youtube johnson derekchauvintrial @realtimblack \n",
      "\n",
      "-0.22826187961985214 45181 -0.34 fuck brett favre as an athlete, a man and a derek chauvin supporter. if you wanna be down with @brettfavre than fuc… https://t.co/gc9n5hcqtd \n",
      "\n",
      "-0.22826187961985214 43391 0.0 this judge who always breaks at the most heightened, detailed and visceral moments in the derek chauvin trial is re… https://t.co/sxabbeqvho \n",
      "\n",
      "-0.22826187961985214 4351 0.0 derek chauvin taken into custody https://t.co/wims1m2kba via @youtube \n",
      "\n",
      "-0.22826187961985214 43432 0.3682 i hope y’all watching derek chauvin’s trial right now, not just shouting blm but not tuning in and watching the case !! \n",
      "\n",
      "-0.22826187961985214 44862 0.2732 @mar_vel_lust well i’m smokin on that derek chauvin pack tonight \n",
      "\n",
      "-0.22826187961985214 43792 0.0 must be following the chauvin case and mitch mcconnell. \n",
      "\n",
      "-0.22826187961985214 3356 0.3769 thanks to my brother baldassles for sharing this!!! who is derek m. chauvin derekchauvin a habitual racist and vio… https://t.co/h0disg0eal \n",
      "\n",
      "-0.22826187961985214 30001 0.0 @ghostofn @deepfriedclorox derek chauvin is still in jail. the other 3 have been released. it took weeks of protest… https://t.co/6nojqtozn1 \n",
      "\n",
      "-0.22826187961985214 43656 0.5859 @complexmusic @complex i appreciate the reporting but please don’t call it the “george flyod trial.” derek chauvin is the one on trial. \n",
      "\n",
      "-0.22826187961985214 43427 0.0 thinking about how derek chauvin gets to go home every night instead of the jail cell he belongs in forever https://t.co/3faeml5xob \n",
      "\n",
      "-0.22826187961985214 45041 0.4019 i wish derek chauvin a very slippery soap bar \n",
      "\n",
      "-0.22826187961985214 43581 0.3182 please watch the derek chauvin trials \n",
      "\n",
      "-0.22826187961985214 43828 -0.2263 real talk: if derek chauvin doesn’t go to jail for the rest of his life, last summers protests are going to look li… https://t.co/62j1xrioct \n",
      "\n",
      "-0.22826187961985214 43601 0.0 derek chauvin trial day 4 | tim black show news coverage | tbshow https://t.co/pv1i0808vs via @youtube johnson @realtimblack \n",
      "\n"
     ]
    }
   ],
   "source": [
    "for i in np.argsort(metrics)[1000:1200]:\n",
    "    print(metrics[i], i, tweet_dict[i]['sent'], tweet_dict[i]['text'], '\\n')"
   ]
  },
  {
   "cell_type": "code",
   "execution_count": 192,
   "id": "7d7ecadd-6dc7-4c85-b683-429a3496deea",
   "metadata": {},
   "outputs": [],
   "source": [
    "metrics = []\n",
    "for tweet in tweet_dict:\n",
    "    metrics.append(tweet['sent'] * tweet['followers_count'])"
   ]
  },
  {
   "cell_type": "code",
   "execution_count": 194,
   "id": "d7a5d8a6-ae36-4429-a19e-19f4d768a861",
   "metadata": {},
   "outputs": [
    {
     "name": "stdout",
     "output_type": "stream",
     "text": [
      "-1878788.8642 24512 i spent a day with black lives matter protesters —\n",
      "\n",
      "diana fights for her brother daniel hernandez, who was killed b… https://t.co/0a4mh7jmsi \n",
      "\n",
      "-1499443.6871000002 23339 happy fathers day!!!! also, the men who killed breonna taylor still haven’t been arrested. \n",
      "\n",
      "-1476245.214 4140 a black man, georgefloyd is killed after pleading for his life from a police officer in minneapolis. the city erup… https://t.co/uztvpibb90 \n",
      "\n",
      "-900239.4815999999 2453 stop calling it a “death”. george floyd didn’t just die. he was asphyxiated. a police officer held him down with hi… https://t.co/fddhpubzfa \n",
      "\n",
      "-567958.1632 43009 https://t.co/4gwypd9s2a stop asian hate \n",
      "\n",
      "-528727.1658 33916 is the things i own. \n",
      "i want to personally fight for brown girls to have more ownership and not just be a slave to… https://t.co/ilokfmghjg \n",
      "\n",
      "-456317.29000000004 43460 when i watched the killing of george floyd i felt sick and sad, so sad. until i realized i just witnessed the death… https://t.co/r69uprqeyi \n",
      "\n",
      "-427422.138 27036 ...with blacklivesmatter calling it a terrorist organization and other defamatory tactics-it’s exactly the same st… https://t.co/tolfsru4on \n",
      "\n",
      "-427100.403 9202 ... and we’re talking about institutionalized racism in 2020? \n",
      "\n",
      "georgefloyd https://t.co/zckazkwsdg \n",
      "\n",
      "-427011.016 11931 stop racism blacklivesmatter georgefloyd https://t.co/fesk2qta7g \n",
      "\n",
      "-418908.2744 26370 @supersonicart what black lives matter protests are really about https://t.co/3kuk1q9jiv \n",
      "\n",
      "-418455.52499999997 14511 i’m a appalled at people looking at georgefloyd past and thinking that’s justified to murder him. shame on you! th… https://t.co/q3jkjievs9 \n",
      "\n",
      "-399729.638 10063 bad side? are you saying that peaceful protesters can’t protest georgefloyd death?  the looters are not the protes… https://t.co/rrhn1grlor \n",
      "\n",
      "-390991.3411 16815 @irenesbattle let's go! there's no place for racism anywhere!\n",
      "blm racism racist \n",
      "\n",
      "-377164.488 9048 why are most of these riots taking place in democratic cities? georgefloyd https://t.co/kt5wamwgem \n",
      "\n",
      "-364269.5502 36192 @jason_mccrypto blm are not the ones who riot. it’s the thugs and criminals that find it convenient to hide behind… https://t.co/ydcnek0ybd \n",
      "\n",
      "-308309.53500000003 24937 @ranquay @cameronfishboi i give my consent to any lesbian or lgbtqia+ person to call me a fag, faggot or if they wa… https://t.co/tckuoyz5a5 \n",
      "\n",
      "-302208.07320000004 17374 wow. police hurt a white guy on tape - charges in two days. police kill a breonna taylor in her own house and we ar… https://t.co/b6jbx5ndof \n",
      "\n",
      "-286012.2753 36194 @damienesu likewise, blm activists are not looters or rioters. criminals that hide behind the cause do. blm activis… https://t.co/rbb16ist0f \n",
      "\n",
      "-280713.6836 9192 all racists can leave my twitter now i will not tolerate this. blacklivesmatter \n",
      "\n",
      "-257098.773 14522 tweets pls feel free today to talk about georgefloyd on my twitter as we all mourn the death of him! may he fly hi… https://t.co/qphw7dhup8 \n",
      "\n",
      "-251805.9546 24979 @angeliaison @suniposum yea that’s what im hearing. i’ve offended gay men by saying fag too. \n",
      "\n",
      "-248901.09089999998 28719 watching the “top cop” not even acknowledge that there is a problem with policing policies or even that blm has me… https://t.co/vfxlr0wxob \n",
      "\n",
      "-239429.68000000002 12745 gm dawlings! waking up to this beautiful angel on tv saying she misses her daddy georgefloyd 😭😭 prayers up 4 her a… https://t.co/or0jr0lucw \n",
      "\n",
      "-231520.21659999999 25450 more importantly how about you address the murder of breonnataylor by members of your police force?! \n",
      "\n",
      "-229534.56 2853 it’s awful what happened to george. horrible!! justice for georgefloyd \n",
      "\n",
      "-227088.8924 28116 a bunch of blm idiots blocking a major boulevard in beverly hills. fortunately they are being arrested! \n",
      "\n",
      "-215952.29760000002 3950 @4foot9king murder was committed, 4 cops killed george floyd and they’re not being charged, you idiot \n",
      "\n",
      "-209509.9688 22619 who knew...in less than 30 days\n",
      "the world would change in so many ways,\n",
      "the murder of george floyd set the streets… https://t.co/lz9tjfxjw8 \n",
      "\n",
      "-206523.0432 42154 ahmaud arbery was murdered a year ago today. https://t.co/iq0ec7bggc \n",
      "\n",
      "-185865.9572 8695 america’s pre-existing condition remains untreated. i wrote about the murder of george floyd by minneapolis police… https://t.co/16hizdiunz \n",
      "\n",
      "-182803.94 37177 i’m now wondering when 2 suspects charged with murder in ahmaud arbery shooting is going to hit the msm again. if i… https://t.co/m7z4v7gtqr \n",
      "\n",
      "-182213.73720000003 38471 ...(the man in the high castle), la novela de philip k. dick sobre el mundo después del triunfo de hitler en la seg… https://t.co/kamfen6w9n \n",
      "\n",
      "-176885.3862 45034 just waiting for idiot relatives to dm that convicting derek chauvin for murder is somehow an assault on the rights… https://t.co/rgo18qeihr \n",
      "\n",
      "-175974.3153 6366 george floyd was murdered by four policemen, and with a few minor exceptions, we see the response of their law enfo… https://t.co/pjm3gg8ycl \n",
      "\n",
      "-172686.0608 42908 stopasianhate racism needs to end. why is this so difficult? https://t.co/hgptmgbcfx \n",
      "\n",
      "-169391.0124 43749 what is the derek chauvin defense exactly? i didn’t murder the person all of you saw me murder? \n",
      "\n",
      "-167081.005 30996 why is there no change?\n",
      "\n",
      "this is disturbing, sad and it is real. justiceforjacobblake blacklivesmatter \n",
      "\n",
      "donate:… https://t.co/siixppmigv \n",
      "\n",
      "-166893.273 43824 derek chauvin murdered george floyd. \n",
      "\n",
      "it was not an accident. \n",
      "\n",
      "it was not justified. \n",
      "\n",
      "it was murder. \n",
      "\n",
      "-164011.0482 11470 @kawaiijackblack where i am rioters and looters are mostly people who give a shit less about blm and are trying to… https://t.co/6fhnvapri3 \n",
      "\n",
      "-160668.0214 17298 about those georgefloyd protests...\n",
      "\n",
      "https://t.co/hvyvfzk0ae\n",
      "\n",
      "wevegotacountrytosave \n",
      "\n",
      "-158929.6464 4497 @jefflovesnudes that’s what you took from that post? george floyd was murdered in broad daylight by four cops who k… https://t.co/u4hsvgmf4r \n",
      "\n",
      "-155257.576 45315 46% of republicans think the derek chauvin verdict was wrong. \n",
      "\n",
      "after watching him murder george floyd. \n",
      "\n",
      "on. tape. \n",
      "\n",
      "-155169.912 18742 good afternoon. arrest the cops who killed breonnataylor \n",
      "\n",
      "-154508.304 36610 mysleeptweet anti mainstream blm - tupac shakur destroys the narrative of defunding police we need protection too.… https://t.co/ty5gnpggxm \n",
      "\n",
      "-151129.325 14508 @realcandaceo dredging up georgefloyd record does not help the situation. he didn’t ask to be a martyr he was mur… https://t.co/vvk4slwe2n \n",
      "\n",
      "-145127.4048 31415 and the oakland police officer was tragically killed by right wing boogaloo boys. not by the blm protesters. \n",
      "\n",
      "mike… https://t.co/svzkfzpn85 \n",
      "\n",
      "-143311.113 27183 when protesters demanded that someone be arrested in the breonna taylor murder, we never thought that the first peo… https://t.co/s8gdnz7ybv \n",
      "\n",
      "-140580.4344 2616 call it what it is.. state sponsored terrorism 💯 bluekluxklan georgefloyd https://t.co/xzmqaa0njw \n",
      "\n",
      "-138470.688 40823 @flyotegirl i’m actually ok being divided from fascist, racist nazis \n",
      "\n",
      "-130399.814 44622 i am sickened and saddened that georgefloyd died the way he did, that it was filmed on camera, that the world watc… https://t.co/xfsjmo9ezj \n",
      "\n",
      "-129553.67069999999 4272 white (liberal) complacency is part of the problem. enoughisenough blacklivesmatter  \n",
      "\n",
      "-129319.1643 3499 the nfl is preemptively mad at colin kaepernick because george floyd is the kind of injustice he’d protest against… https://t.co/uanadicdjo \n",
      "\n",
      "-128695.0995 43719 derek chauvin killed george floyd. \n",
      "\n",
      "everything else is just chatter. \n",
      "\n",
      "-127260.9 12100 8 minutes and 46 seconds: how george floyd was killed in police custody https://t.co/basx4hylxp \n",
      "\n",
      "-124347.6451 37505 @colleen12254232 it’s post traumatic slave syndrome to be more accurate. \n",
      "\n",
      "-121540.19820000001 13184 this must be stopped! blacklivesmatter 🙏🏾🙏🏽🙏🏼🙏🏻 @ los angeles, california https://t.co/sixpsonhkd \n",
      "\n",
      "-120771.2985 45049 only in america would police murder a 15 year-old black girl in columbus mere minutes after the chauvin verdict. be… https://t.co/gybrgbn3ql \n",
      "\n",
      "-119953.97249999999 18122 arrest the cops who killed breonnataylor \n",
      "\n",
      "-119378.3022 14084 jamel floyd was pepper sprayed to death in his cell today in brooklyn.\n",
      "blacklivesmatters justiceforjamel… https://t.co/11wegfncot \n",
      "\n",
      "-115969.0095 34475 hey @tomilahren\n",
      "breonna taylor was a sleep in\n",
      "bed just before she was killed.\n",
      "her boyfriend kenneth walker,\n",
      "was a l… https://t.co/ijfdgdyjbi \n",
      "\n",
      "-109729.5 13872 derek chauvin just had his charge upgraded to 2nd degree murder &amp; the other officers have been arrested! yes this i… https://t.co/1gebweqwfm \n",
      "\n",
      "-109542.685 25001 @theklins exactly.  my misinformed view points do not excuse transphobia and the spread of hate and cancellation. \n",
      "\n",
      "-109010.0193 25003 those who oppose blm (racists); what is wrong with you? how could you possibly feel entitled? how dare you. educat… https://t.co/h8wjzh3izm \n",
      "\n",
      "-108384.0304 17186 today, black lives matter protests spread to every corner of the globe. \n",
      "\n",
      "i’m starting to think the racist trump pa… https://t.co/l5lp8mismx \n",
      "\n",
      "-105153.7417 4444 officer derek chauvin has been taken into custody 👏🏽👏🏽👏🏽 got his ass 🙌🏽 dude has been a bum for a long time!!! \n",
      "\n",
      "-104778.85770000001 33448 on my feed, i have people— not boys, people i know claiming that blm are terrorists and the dems are linked to pedo… https://t.co/haknlhwdct \n",
      "\n",
      "-101240.7408 11495 “tu lucha es mi lucha!!” \n",
      "\n",
      "“your battle is my battle” \n",
      "\n",
      "blm https://t.co/cbwqqumcwv \n",
      "\n",
      "-101066.8032 13993 first degree murder for chauvin 🙏🏻🤞🏼 \n",
      "\n",
      "-99922.0204 4684 what happened to george floyd is absolutely disgusting. we as humans need to be better. i’m not proud to be an amer… https://t.co/fv495ggdnn \n",
      "\n",
      "-99493.9011 26680 blocked another couple of nazi followers today. jeez! so boring. go chat with your white supremacy loser buddies. m… https://t.co/e6ijadpe6g \n",
      "\n",
      "-98648.422 8266 yet the 3 cops that watched george floyd get murdered remain free. \n",
      "\n",
      "-98452.7064 19153 woke up with a noisy head. \n",
      "so should you. \n",
      "blacklivesmatter \n",
      "peacefulprotest \n",
      "nocomplacency defundthepolice @… https://t.co/eleuee2jf7 \n",
      "\n",
      "-97046.12700000001 37363 i’m entering a phase where i never again need to give a shit what cheeto hitler think or says. 🍺 \n",
      "\n",
      "-96786.78300000001 43836 if the american people truly are sick and tired of watching movies with chattel slave narratives, then it’s high ti… https://t.co/f7md9qd1ze \n",
      "\n",
      "-96491.18759999999 34879 don’t argue with stupid people online, block them! \n",
      "\n",
      "oh. and if you think i am stupid... please, do me the honor... and block me! blm ✊🏿✊🏻 \n",
      "\n",
      "-90079.6202 886 qr code tracking, cardi &amp; bernie, drag queen falls asleep 23 minutes into 3 hour live stream and goes viral for all… https://t.co/bky4zjhnqe \n",
      "\n",
      "-88545.8634 42032 what was worst ?\n",
      "\n",
      "the holocaust which was from 1941-1945 ?\n",
      "\n",
      "or the slavery of african americans which lasted ballpa… https://t.co/cokcwbkccz \n",
      "\n",
      "-88269.9884 38062 @psherryr @theperezhilton perez hilton really wanted to call https://t.co/m3hwlw7zao a nigger but settled for faggo… https://t.co/ccsah4tbub \n",
      "\n",
      "-87025.004 31709 yo @joebiden racist.. don’t vote for racist joe! democrats were the slave masters. brother malcom x told you they w… https://t.co/gwpyqb9ekm \n",
      "\n",
      "-86801.6724 21929 how you think george floyd lived doesn’t invalidate how we know he died. \n",
      "\n",
      "-85741.5125 2725 george floyd died brutally at the hands (knee) of someone in a position of power. anyone who tries to justify his m… https://t.co/fllxcaunxd \n",
      "\n",
      "-82379.8412 45671 i'm not going to  lie i wanted to get even with that jackal so bad what a terrible horrible troll man. perverted devil \n",
      "\n",
      "-81917.7152 41399 we have a mentally ill congresswoman in georgia, @mtgreenee, who is an off the charts qanon lunatic and a nazi who… https://t.co/h4kuqzeyel \n",
      "\n",
      "-81917.7152 41400 we have a mentally ill congresswoman in georgia, @mtgreenee, who is an off the charts qanon lunatic and a nazi who… https://t.co/s3vlsow2ma \n",
      "\n",
      "-80250.2415 22142 🚨 🚨 the killers of breonna taylor are still free -- four months later. killed by police for sleeping while black. p… https://t.co/ouj0pefplr \n",
      "\n",
      "-79373.1474 40905 📢 trump thugs in action- this time they are bullying with transphobia rhetoric against the pa health secretary.\n",
      "\n",
      "rt… https://t.co/a6kuxdmtnm \n",
      "\n",
      "-78649.285 20344 18 killings within a 24-hour period on may 31 in chicago during riots over georgefloyd @chicagosmayor failed to p… https://t.co/foggxt8ng4 \n",
      "\n",
      "-78518.403 44435 come on. guilty. \n",
      "all three charges. \n",
      "get on with it. justiceforgeorgefloyd chauvintrial blacklivesmatter \n",
      "\n",
      "-77589.4587 32961 i smell the racism through your blm bio. \n",
      "\n",
      "-74889.09330000001 45949 @beaubutlerxxx fag \n",
      "\n",
      "-74381.583 17715 arrest the cops who killed breonnataylor \n",
      "\n",
      "-74017.8384 35019 when police are defunded and dismantled by democrats, and blm &amp; antifa terrorist take over our cities, who you gonn… https://t.co/tb8qzkt4uc \n",
      "\n",
      "-73639.0226 2072 citizens who turn in their neighbors are no better than the french turning in their neighbors to the nazis in world war ii. shame \n",
      "\n",
      "-73241.0009 4328 3rd degree murder is death without intent. how can you tell anyone watching that tape that that murderer chauvin di… https://t.co/buqbhmnrx2 \n",
      "\n",
      "-73241.0009 4330 3rd degree murder is death without intent. how can you tell anyone watching that tape that that murderer chauvin di… https://t.co/xr8bq5c1kh \n",
      "\n",
      "-71631.8705 11144 @latimes getting killed by police is the leading cause of death for young black men in 🇺🇸 america blacklivesmatter https://t.co/eswc5jptnk \n",
      "\n",
      "-71603.6685 18131 arrest the cops who killed breonnataylor \n",
      "\n",
      "-70962.0288 33136 hearing chiefs fan boo our players during a blm moment of silence is beyond disappointing. it’s disgusting. yet som… https://t.co/aptjyodvii \n",
      "\n",
      "-70479.81599999999 34150 shocking report leaked in breonna taylor death investigation shows how involved she really was https://t.co/fmqhi35766 \n",
      "\n"
     ]
    }
   ],
   "source": [
    "for i in np.argsort(metrics)[:100]:\n",
    "    print(metrics[i], i, tweet_dict[i]['text'], '\\n')"
   ]
  },
  {
   "cell_type": "code",
   "execution_count": null,
   "id": "c1fc3658-66d2-438f-9679-30636e1fb920",
   "metadata": {},
   "outputs": [],
   "source": []
  },
  {
   "cell_type": "code",
   "execution_count": null,
   "id": "33bf4382-19ad-4ab7-80ce-3dfb27572456",
   "metadata": {},
   "outputs": [],
   "source": []
  },
  {
   "cell_type": "code",
   "execution_count": null,
   "id": "91ea4f87-f224-4194-93b8-69a3a17164d6",
   "metadata": {},
   "outputs": [],
   "source": []
  },
  {
   "cell_type": "code",
   "execution_count": null,
   "id": "fc6dbf28-b876-4a6d-886d-0e707967d348",
   "metadata": {},
   "outputs": [],
   "source": []
  },
  {
   "cell_type": "code",
   "execution_count": null,
   "id": "cbbf12e0-181e-4da7-8d1c-0b6bdf2db8d0",
   "metadata": {},
   "outputs": [],
   "source": []
  },
  {
   "cell_type": "code",
   "execution_count": null,
   "id": "f06df050-b4a8-4747-acc2-d0c6e68e62af",
   "metadata": {},
   "outputs": [],
   "source": []
  },
  {
   "cell_type": "code",
   "execution_count": null,
   "id": "04ef37f2-8ff9-4c95-ab7b-c68aed442a58",
   "metadata": {},
   "outputs": [],
   "source": []
  },
  {
   "cell_type": "code",
   "execution_count": null,
   "id": "6104b7a6-bda0-42d2-8e9b-827ac90ccb70",
   "metadata": {},
   "outputs": [],
   "source": []
  },
  {
   "cell_type": "code",
   "execution_count": 45,
   "id": "bdd3d809-a058-467f-a42c-2dca2220bc66",
   "metadata": {},
   "outputs": [
    {
     "name": "stderr",
     "output_type": "stream",
     "text": [
      "100%|██████████████████████████████████| 46571/46571 [00:01<00:00, 37470.56it/s]\n"
     ]
    }
   ],
   "source": [
    "tweet_topic_relations = []\n",
    "\n",
    "for tweet in tqdm(tweet_dict):\n",
    "    for top in top_list:\n",
    "        if tweet[f'{top}'] >= 0.01:\n",
    "            \n",
    "            relation = []\n",
    "            relation.append(entity2id[(tweet['tweet_id'], 't')])\n",
    "            relation.append(entity2id[top2name[top]])\n",
    "            relation.append(relation2id['in_topic'])\n",
    "            relation.append(tweet[f'{top}'])\n",
    "            \n",
    "            tweet_topic_relations.append(relation)\n",
    "\n",
    "all_relations = [*all_relations, *tweet_topic_relations]"
   ]
  },
  {
   "cell_type": "code",
   "execution_count": 46,
   "id": "222b503f-13b7-4e1c-a07a-4d2431444b59",
   "metadata": {},
   "outputs": [
    {
     "data": {
      "text/plain": [
       "181729"
      ]
     },
     "execution_count": 46,
     "metadata": {},
     "output_type": "execute_result"
    }
   ],
   "source": [
    "len(all_relations)"
   ]
  },
  {
   "cell_type": "markdown",
   "id": "cdc83bbe-1cc7-4f52-9885-4e5861746821",
   "metadata": {},
   "source": [
    "## Topic Node"
   ]
  },
  {
   "cell_type": "code",
   "execution_count": 45,
   "id": "2c88fdac-74cd-4264-92be-23d574141c84",
   "metadata": {},
   "outputs": [],
   "source": [
    "mean_sents = df.groupby('topics')['sent'].mean().reset_index()\n",
    "mean_sents = mean_sents.groupby('topics')['sent'].first().to_dict()"
   ]
  },
  {
   "cell_type": "code",
   "execution_count": 211,
   "id": "3aa1da59-4c49-4389-aebf-3ae4b489cb0c",
   "metadata": {},
   "outputs": [],
   "source": [
    "df2 = df.sample(n=5000)"
   ]
  },
  {
   "cell_type": "code",
   "execution_count": 212,
   "id": "9aeb6513-7d5f-480d-905c-9d3e9f770db7",
   "metadata": {},
   "outputs": [],
   "source": [
    "df2.to_csv('sample.csv', index=False)"
   ]
  },
  {
   "cell_type": "code",
   "execution_count": 213,
   "id": "81a2f3f0-cc66-4ebe-baea-ec7785962ddb",
   "metadata": {},
   "outputs": [
    {
     "data": {
      "text/plain": [
       "{-1: -0.03882251830512544,\n",
       " 0: -0.06413855755894592,\n",
       " 1: 0.04231398135818908,\n",
       " 2: 0.020721279654924516,\n",
       " 3: -0.16811972049689441,\n",
       " 4: -0.22826187961985214,\n",
       " 5: 0.009419831223628692,\n",
       " 6: 0.11968666666666668,\n",
       " 7: 0.02498124238733252,\n",
       " 8: 0.5622661016949153,\n",
       " 9: 0.06219897435897436,\n",
       " 11: -0.1311759941089838,\n",
       " 12: 0.16808045977011493,\n",
       " 13: -0.3254626666666667,\n",
       " 15: 0.0018508992805755394,\n",
       " 18: -0.06213333333333334,\n",
       " 19: 0.024890203327171904,\n",
       " 20: -0.19523866666666667,\n",
       " 21: 0.036982894736842103,\n",
       " 23: 0.08022602459016394,\n",
       " 25: -0.5717568445475638,\n",
       " 26: -0.4820834196891192,\n",
       " 27: 0.1332798525798526,\n",
       " 28: 0.11710424028268553,\n",
       " 30: 0.06911333333333333,\n",
       " 31: 0.5689339285714285,\n",
       " 33: -0.05235882352941176,\n",
       " 34: -0.4590514018691589,\n",
       " 36: -0.7845,\n",
       " 38: -0.4104597269624573,\n",
       " 40: 0.05644775086505191,\n",
       " 41: -0.17800104895104893,\n",
       " 42: 0.24076405693950179,\n",
       " 43: 0.13083684210526317,\n",
       " 44: -0.07880221402214022,\n",
       " 45: 0.04745291828793774,\n",
       " 46: 0.24406091954022988,\n",
       " 47: 0.04624453125,\n",
       " 48: 0.10355844748858448,\n",
       " 50: -0.6625286885245902,\n",
       " 51: 0.24965252100840335,\n",
       " 52: 0.19089669421487604,\n",
       " 53: 0.0009587412587412611,\n",
       " 54: 0.06920643564356437,\n",
       " 55: -0.28313333333333335,\n",
       " 56: -0.0631206278026906,\n",
       " 57: 0.8074,\n",
       " 58: -0.13855361445783132,\n",
       " 61: -0.045089032258064515,\n",
       " 62: -0.22513864734299519,\n",
       " 63: 0.11778656716417911,\n",
       " 64: 0.08630815217391304,\n",
       " 66: 0.21716476683937821,\n",
       " 67: -0.28218933333333335,\n",
       " 68: -0.06795469613259668,\n",
       " 70: 0.12980454545454545,\n",
       " 71: 0.07638611111111111,\n",
       " 73: 0.02557865853658537,\n",
       " 74: 0.08412558139534884,\n",
       " 75: 0.003926315789473684,\n",
       " 76: -0.0037855345911949707,\n",
       " 77: 0.05155,\n",
       " 78: -0.5992929577464788,\n",
       " 81: -0.024211111111111114,\n",
       " 82: 0.04765241379310345,\n",
       " 83: -0.48306499999999997,\n",
       " 84: 0.08974809160305344,\n",
       " 86: 0.018246341463414632,\n",
       " 88: 0.008487301587301587,\n",
       " 91: -0.14463269230769232,\n",
       " 92: -0.2934706766917294,\n",
       " 93: 0.2196609022556391,\n",
       " 94: 0.03050923076923077,\n",
       " 95: 0.12176000000000001,\n",
       " 98: 0.055510227272727274,\n",
       " 101: 0.22692941176470588,\n",
       " 102: 0.09057102803738318,\n",
       " 105: -0.3514269565217391,\n",
       " 106: 0.08096548672566373,\n",
       " 107: 0.09633214285714285,\n",
       " 109: 0.0986144144144144,\n",
       " 111: 0.019462264150943397,\n",
       " 112: -0.08094444444444446,\n",
       " 114: -0.000522448979591834,\n",
       " 117: -0.2552979591836735,\n",
       " 118: 0.17934067796610167,\n",
       " 119: 0.007643298969072165,\n",
       " 120: 0.7770600000000001,\n",
       " 121: -0.03091684210526316,\n",
       " 122: -0.1326436170212766,\n",
       " 123: -0.30557849462365594,\n",
       " 124: -0.5554903225806452,\n",
       " 125: 0.2616023809523809,\n",
       " 126: -0.045492391304347825,\n",
       " 128: 0.011601666666666665,\n",
       " 129: 0.043500000000000004,\n",
       " 130: 0.08050701754385967,\n",
       " 131: 0.1702340909090909,\n",
       " 132: 0.6041590909090909,\n",
       " 133: 0.009591780821917808,\n",
       " 134: 0.027229166666666665,\n",
       " 137: 0.19491951219512194,\n",
       " 138: 0.151975,\n",
       " 140: 0.08914230769230769,\n",
       " 141: -0.0797325,\n",
       " 142: -0.08165555555555555,\n",
       " 143: 0.015006153846153846,\n",
       " 144: 0.4363552631578947,\n",
       " 145: 0.2088,\n",
       " 146: 0.014566666666666667,\n",
       " 147: 0.11249066666666667,\n",
       " 148: -0.06785333333333335,\n",
       " 149: 0.19452837837837836,\n",
       " 150: 0.0369527027027027,\n",
       " 151: -0.01950138888888889,\n",
       " 152: 0.0258,\n",
       " 153: 0.03494027777777778,\n",
       " 154: 0.17348611111111112,\n",
       " 155: 0.5028677966101694,\n",
       " 156: 0.2967358974358974,\n",
       " 157: -0.3585695652173913,\n",
       " 158: -0.9093,\n",
       " 159: 0.007153571428571426,\n",
       " 160: -0.5736567164179105,\n",
       " 162: 0.28557575757575754,\n",
       " 163: 0.30423692307692307,\n",
       " 164: 0.005301666666666665,\n",
       " 165: 0.17771875,\n",
       " 166: 0.09937868852459017,\n",
       " 167: 0.157025,\n",
       " 168: -0.004625,\n",
       " 169: 0.17704603174603176,\n",
       " 170: 0.18606428571428574,\n",
       " 171: 0.041925396825396824,\n",
       " 172: -0.009343548387096773,\n",
       " 174: -0.6311375,\n",
       " 176: 0.155078125,\n",
       " 177: -0.023979661016949153,\n",
       " 178: 0.17194426229508197,\n",
       " 179: 0.07389344262295082,\n",
       " 180: 0.08342622950819671,\n",
       " 181: 0.2090103448275862,\n",
       " 183: 0.7184,\n",
       " 184: -0.11694827586206896,\n",
       " 186: -0.14627719298245614,\n",
       " 187: -0.03799642857142858,\n",
       " 188: -0.0813421052631579,\n",
       " 189: -0.07029999999999999,\n",
       " 191: 0.3193134615384615,\n",
       " 192: -0.2325391304347826,\n",
       " 193: 0.021311111111111117,\n",
       " 194: 0.03976521739130435,\n",
       " 196: -0.051198039215686275,\n",
       " 197: 0.2862764705882353,\n",
       " 199: 0.12354499999999999,\n",
       " 200: 0.083346,\n",
       " 202: -0.4350571428571428,\n",
       " 203: 0.02464166666666667,\n",
       " 206: -0.4823666666666667,\n",
       " 207: 0.28171250000000003,\n",
       " 208: -0.5304955555555556,\n",
       " 210: 0.045693333333333336,\n",
       " 211: 0.02827111111111111,\n",
       " 212: 0.12419333333333334,\n",
       " 213: 0.038242857142857134,\n",
       " 214: -0.25456666666666666,\n",
       " 215: 0.053285714285714283,\n",
       " 216: 0.47712325581395354,\n",
       " 218: 0.13747619047619047,\n",
       " 219: 0.23001666666666667,\n",
       " 220: -0.37042619047619046,\n",
       " 222: 0.08400238095238095,\n",
       " 223: -0.03518292682926829,\n",
       " 224: -0.1427390243902439,\n",
       " 225: -0.43259756097560975,\n",
       " 226: 0.03489024390243902,\n",
       " 228: -0.1783325,\n",
       " 229: 0.394865,\n",
       " 230: 0.0,\n",
       " 231: 0.20672000000000001,\n",
       " 233: -0.05166153846153847,\n",
       " 235: 0.22802894736842108,\n",
       " 236: -0.47586666666666666,\n",
       " 237: -0.29384285714285713,\n",
       " 238: 0.1376,\n",
       " 239: -0.42089999999999994,\n",
       " 242: 0.49653513513513514,\n",
       " 244: 0.04773611111111112,\n",
       " 245: 0.04209166666666667,\n",
       " 246: 0.0060833333333333295,\n",
       " 247: 0.4229,\n",
       " 248: -0.3612,\n",
       " 249: 0.0,\n",
       " 250: 0.19425294117647057,\n",
       " 251: 0.0,\n",
       " 252: -0.19699999999999998,\n",
       " 253: -0.07119696969696969,\n",
       " 254: 0.5008363636363636,\n",
       " 255: -0.021530303030303035,\n",
       " 256: 0.09832424242424243,\n",
       " 257: 0.0,\n",
       " 259: -0.014996969696969701,\n",
       " 260: 0.25378125,\n",
       " 261: -0.006300000000000001,\n",
       " 262: -0.5423,\n",
       " 266: 0.001886666666666668,\n",
       " 268: 0.15656666666666666,\n",
       " 269: 0.18362333333333333}"
      ]
     },
     "execution_count": 213,
     "metadata": {},
     "output_type": "execute_result"
    }
   ],
   "source": [
    "mean_sents"
   ]
  },
  {
   "cell_type": "code",
   "execution_count": 217,
   "id": "50e86809-78b5-47e9-9cd7-61fc113394fa",
   "metadata": {},
   "outputs": [
    {
     "data": {
      "text/plain": [
       "25606      arrest the cops who killed breonnataylor\n",
       "25653    arrest the cops who killed \\nbreonnataylor\n",
       "25657      arrest the cops who killed breonnataylor\n",
       "25667      arrest the cops who killed breonnataylor\n",
       "25670      arrest the cops who killed breonnataylor\n",
       "                            ...                    \n",
       "32959      arrest the cops who killed breonnataylor\n",
       "33190      arrest the cops who killed breonnataylor\n",
       "33326      arrest the cops who killed breonnataylor\n",
       "33469      arrest the cops who killed breonnataylor\n",
       "34680      arrest the cops who killed breonnataylor\n",
       "Name: text, Length: 276, dtype: object"
      ]
     },
     "execution_count": 217,
     "metadata": {},
     "output_type": "execute_result"
    }
   ],
   "source": [
    "df[df['topics'] == 36]['text']"
   ]
  },
  {
   "cell_type": "code",
   "execution_count": null,
   "id": "faf5fe5a-523a-4cea-9c82-e7045a8499a1",
   "metadata": {},
   "outputs": [],
   "source": []
  },
  {
   "cell_type": "code",
   "execution_count": null,
   "id": "fea6cb12-28c0-4b4d-a75a-22cd767b063c",
   "metadata": {},
   "outputs": [],
   "source": []
  },
  {
   "cell_type": "code",
   "execution_count": 43,
   "id": "54f52f8f-a86c-41b5-a36c-16ff8104402a",
   "metadata": {},
   "outputs": [
    {
     "name": "stderr",
     "output_type": "stream",
     "text": [
      "100%|█████████████████████████████████| 46571/46571 [00:00<00:00, 558734.24it/s]\n"
     ]
    }
   ],
   "source": [
    "tweet_date_relations = []\n",
    "\n",
    "for tweet in tqdm(tweet_dict):\n",
    "        \n",
    "    relation = []\n",
    "    relation.append(entity2id[(tweet['tweet_id'], 't')])\n",
    "    relation.append(entity2id[tweet['date']])\n",
    "    relation.append(relation2id['tweeted_on'])\n",
    "    # relation.append(1.0)\n",
    "        \n",
    "    tweet_date_relations.append(relation)\n",
    "\n",
    "all_relations = [*all_relations, *tweet_date_relations]"
   ]
  },
  {
   "cell_type": "code",
   "execution_count": 44,
   "id": "76a1de4f-084c-4df8-ad84-3f1858d3d2bc",
   "metadata": {},
   "outputs": [
    {
     "data": {
      "text/plain": [
       "49023"
      ]
     },
     "execution_count": 44,
     "metadata": {},
     "output_type": "execute_result"
    }
   ],
   "source": [
    "len(all_relations)"
   ]
  },
  {
   "cell_type": "markdown",
   "id": "36a1f1df-c2b6-498c-8001-e7a5a3093468",
   "metadata": {
    "tags": []
   },
   "source": [
    "## Saving"
   ]
  },
  {
   "cell_type": "code",
   "execution_count": 49,
   "id": "d659a0fe-9056-4bcf-94dc-0ac018b6641c",
   "metadata": {},
   "outputs": [
    {
     "data": {
      "text/plain": [
       "228300"
      ]
     },
     "execution_count": 49,
     "metadata": {},
     "output_type": "execute_result"
    }
   ],
   "source": [
    "len(all_relations)"
   ]
  },
  {
   "cell_type": "code",
   "execution_count": 50,
   "id": "de201054-87fa-4844-9da2-cf3051d80865",
   "metadata": {},
   "outputs": [],
   "source": [
    "all_relations2 = []"
   ]
  },
  {
   "cell_type": "code",
   "execution_count": 51,
   "id": "50de2e33-8d69-44d2-ae75-0e9e178140f6",
   "metadata": {},
   "outputs": [
    {
     "name": "stderr",
     "output_type": "stream",
     "text": [
      "100%|███████████████████████████████| 228300/228300 [00:00<00:00, 403580.11it/s]\n"
     ]
    }
   ],
   "source": [
    "for trip in tqdm(all_relations):\n",
    "    relation = []\n",
    "    if isinstance(id2entity[trip[0]], tuple):\n",
    "        relation.append((int(id2entity[trip[0]][0]), id2entity[trip[0]][1]))\n",
    "    else:    \n",
    "        relation.append(id2entity[trip[0]])\n",
    "    \n",
    "    if isinstance(id2entity[trip[1]], tuple):\n",
    "        relation.append((int(id2entity[trip[1]][0]), id2entity[trip[1]][1]))\n",
    "    else:\n",
    "        relation.append(id2entity[trip[1]])\n",
    "    relation.append(id2relation[trip[2]])\n",
    "    try:\n",
    "        relation.append(trip[3])\n",
    "    except:\n",
    "        relation.append(np.nan)\n",
    "    \n",
    "    all_relations2.append(relation)"
   ]
  },
  {
   "cell_type": "code",
   "execution_count": 52,
   "id": "a047b580-3ee2-4ae3-a37c-899b48d5c6c1",
   "metadata": {},
   "outputs": [],
   "source": [
    "all_relations_df = pd.DataFrame(all_relations2, columns=['head', 'tail', 'relation', 'weight'])"
   ]
  },
  {
   "cell_type": "code",
   "execution_count": 53,
   "id": "8dac3531-ea22-44eb-bf11-f3692e330e3d",
   "metadata": {},
   "outputs": [
    {
     "data": {
      "text/html": [
       "<div>\n",
       "<style scoped>\n",
       "    .dataframe tbody tr th:only-of-type {\n",
       "        vertical-align: middle;\n",
       "    }\n",
       "\n",
       "    .dataframe tbody tr th {\n",
       "        vertical-align: top;\n",
       "    }\n",
       "\n",
       "    .dataframe thead th {\n",
       "        text-align: right;\n",
       "    }\n",
       "</style>\n",
       "<table border=\"1\" class=\"dataframe\">\n",
       "  <thead>\n",
       "    <tr style=\"text-align: right;\">\n",
       "      <th></th>\n",
       "      <th>head</th>\n",
       "      <th>tail</th>\n",
       "      <th>relation</th>\n",
       "      <th>weight</th>\n",
       "    </tr>\n",
       "  </thead>\n",
       "  <tbody>\n",
       "    <tr>\n",
       "      <th>0</th>\n",
       "      <td>(1237876074970636288, t)</td>\n",
       "      <td>(2251240369, u)</td>\n",
       "      <td>replied_to</td>\n",
       "      <td>NaN</td>\n",
       "    </tr>\n",
       "    <tr>\n",
       "      <th>1</th>\n",
       "      <td>(1237970493170274304, t)</td>\n",
       "      <td>(756682591994916864, u)</td>\n",
       "      <td>replied_to</td>\n",
       "      <td>NaN</td>\n",
       "    </tr>\n",
       "    <tr>\n",
       "      <th>2</th>\n",
       "      <td>(1237978875977588736, t)</td>\n",
       "      <td>(135319858, u)</td>\n",
       "      <td>replied_to</td>\n",
       "      <td>NaN</td>\n",
       "    </tr>\n",
       "    <tr>\n",
       "      <th>3</th>\n",
       "      <td>(1238628359921270784, t)</td>\n",
       "      <td>(363269363, u)</td>\n",
       "      <td>replied_to</td>\n",
       "      <td>NaN</td>\n",
       "    </tr>\n",
       "    <tr>\n",
       "      <th>4</th>\n",
       "      <td>(1239082835232690176, t)</td>\n",
       "      <td>(13753532, u)</td>\n",
       "      <td>replied_to</td>\n",
       "      <td>NaN</td>\n",
       "    </tr>\n",
       "    <tr>\n",
       "      <th>...</th>\n",
       "      <td>...</td>\n",
       "      <td>...</td>\n",
       "      <td>...</td>\n",
       "      <td>...</td>\n",
       "    </tr>\n",
       "    <tr>\n",
       "      <th>228295</th>\n",
       "      <td>(4499019023, u)</td>\n",
       "      <td>(1405364891972603904, t)</td>\n",
       "      <td>tweeted</td>\n",
       "      <td>NaN</td>\n",
       "    </tr>\n",
       "    <tr>\n",
       "      <th>228296</th>\n",
       "      <td>(364412285, u)</td>\n",
       "      <td>(1405370661778825216, t)</td>\n",
       "      <td>tweeted</td>\n",
       "      <td>NaN</td>\n",
       "    </tr>\n",
       "    <tr>\n",
       "      <th>228297</th>\n",
       "      <td>(4499019023, u)</td>\n",
       "      <td>(1405374487667695616, t)</td>\n",
       "      <td>tweeted</td>\n",
       "      <td>NaN</td>\n",
       "    </tr>\n",
       "    <tr>\n",
       "      <th>228298</th>\n",
       "      <td>(2381476945, u)</td>\n",
       "      <td>(1405382223663009792, t)</td>\n",
       "      <td>tweeted</td>\n",
       "      <td>NaN</td>\n",
       "    </tr>\n",
       "    <tr>\n",
       "      <th>228299</th>\n",
       "      <td>(233748969, u)</td>\n",
       "      <td>(1405409095050358784, t)</td>\n",
       "      <td>tweeted</td>\n",
       "      <td>NaN</td>\n",
       "    </tr>\n",
       "  </tbody>\n",
       "</table>\n",
       "<p>228300 rows × 4 columns</p>\n",
       "</div>"
      ],
      "text/plain": [
       "                            head                      tail    relation  weight\n",
       "0       (1237876074970636288, t)           (2251240369, u)  replied_to     NaN\n",
       "1       (1237970493170274304, t)   (756682591994916864, u)  replied_to     NaN\n",
       "2       (1237978875977588736, t)            (135319858, u)  replied_to     NaN\n",
       "3       (1238628359921270784, t)            (363269363, u)  replied_to     NaN\n",
       "4       (1239082835232690176, t)             (13753532, u)  replied_to     NaN\n",
       "...                          ...                       ...         ...     ...\n",
       "228295           (4499019023, u)  (1405364891972603904, t)     tweeted     NaN\n",
       "228296            (364412285, u)  (1405370661778825216, t)     tweeted     NaN\n",
       "228297           (4499019023, u)  (1405374487667695616, t)     tweeted     NaN\n",
       "228298           (2381476945, u)  (1405382223663009792, t)     tweeted     NaN\n",
       "228299            (233748969, u)  (1405409095050358784, t)     tweeted     NaN\n",
       "\n",
       "[228300 rows x 4 columns]"
      ]
     },
     "execution_count": 53,
     "metadata": {},
     "output_type": "execute_result"
    }
   ],
   "source": [
    "all_relations_df"
   ]
  },
  {
   "cell_type": "code",
   "execution_count": 55,
   "id": "ab0282d1-0ed4-45a9-a3f9-5acc2d422395",
   "metadata": {},
   "outputs": [],
   "source": [
    "all_relations_df.to_csv('./data/kg_black_3.csv', index=False)"
   ]
  }
 ],
 "metadata": {
  "kernelspec": {
   "display_name": "Python 3 (ipykernel)",
   "language": "python",
   "name": "python3"
  },
  "language_info": {
   "codemirror_mode": {
    "name": "ipython",
    "version": 3
   },
   "file_extension": ".py",
   "mimetype": "text/x-python",
   "name": "python",
   "nbconvert_exporter": "python",
   "pygments_lexer": "ipython3",
   "version": "3.9.7"
  },
  "toc-autonumbering": false,
  "toc-showcode": false,
  "toc-showmarkdowntxt": false,
  "toc-showtags": false
 },
 "nbformat": 4,
 "nbformat_minor": 5
}
