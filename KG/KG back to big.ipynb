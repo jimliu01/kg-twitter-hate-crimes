{
 "cells": [
  {
   "cell_type": "code",
   "execution_count": 2,
   "id": "c0895ae9-2078-4c23-ba5e-16cb0f8d7488",
   "metadata": {
    "tags": []
   },
   "outputs": [],
   "source": [
    "import numpy as np\n",
    "import pandas as pd\n",
    "import matplotlib.pyplot as plt\n",
    "from plotly import express as px\n",
    "\n",
    "import ast\n",
    "import pickle\n",
    "from tqdm import tqdm\n",
    "\n",
    "import networkx as nx\n",
    "import random\n",
    "import json\n",
    "\n",
    "from collections import Counter"
   ]
  },
  {
   "cell_type": "markdown",
   "id": "5e1db540-da2e-4afd-a6a6-b7f2dea33e50",
   "metadata": {
    "tags": []
   },
   "source": [
    "## Load in Data"
   ]
  },
  {
   "cell_type": "markdown",
   "id": "34caefad-1d81-408f-9c24-5f66d724abf6",
   "metadata": {
    "tags": []
   },
   "source": [
    "### Load in Tweet Data"
   ]
  },
  {
   "cell_type": "code",
   "execution_count": 3,
   "id": "16e712cf-f5de-4ab0-a49b-e1ed8f8830e2",
   "metadata": {},
   "outputs": [],
   "source": [
    "df = pd.read_csv('/Users/jchang153/Documents/UCLA-CAM/GV KG/Data/Tweets/All/bigbabies/bigbaby_r_t_30_s.csv')"
   ]
  },
  {
   "cell_type": "code",
   "execution_count": 4,
   "id": "d23981c9-174b-4121-815e-87268cba39c5",
   "metadata": {},
   "outputs": [],
   "source": [
    "# evaluating strings of lists as lists\n",
    "df['hashtags'] = df['hashtags'].apply(ast.literal_eval)\n",
    "df['mentions'] = df['mentions'].apply(ast.literal_eval)\n",
    "# df['keywords'] = df['keywords'].apply(ast.literal_eval)"
   ]
  },
  {
   "cell_type": "code",
   "execution_count": 5,
   "id": "f69d6379-a2e1-48d9-9a0a-666e21276f89",
   "metadata": {
    "tags": []
   },
   "outputs": [
    {
     "data": {
      "text/plain": [
       "Index(['created_at', 'tweet_id', 'text', 'in_reply_to_tweet_id',\n",
       "       'in_reply_to_user_id', 'geo', 'quote_count', 'reply_count',\n",
       "       'retweet_count', 'favorite_count', 'lang', 'quoted_tweet_id',\n",
       "       'possibly_sensitive', 'user_id', 'screen_name', 'followers_count',\n",
       "       'friends_count', 'statuses_count', 'verified', 'hashtags', 'mentions',\n",
       "       'date', '0', '1', '2', '3', '4', '5', '6', '7', '8', '9', '10', '11',\n",
       "       '12'],\n",
       "      dtype='object')"
      ]
     },
     "execution_count": 5,
     "metadata": {},
     "output_type": "execute_result"
    }
   ],
   "source": [
    "df.columns[:35]"
   ]
  },
  {
   "cell_type": "markdown",
   "id": "04d12cb4-2e09-455f-9f19-2c23828fccfa",
   "metadata": {},
   "source": [
    "### Load in Crime Data"
   ]
  },
  {
   "cell_type": "markdown",
   "id": "77b3252b-8cf4-4dfe-b1e2-946045fef2fe",
   "metadata": {},
   "source": [
    "Load in the hate crime `hatecrimedata.csv` dataframe."
   ]
  },
  {
   "cell_type": "code",
   "execution_count": 6,
   "id": "2810bb9e-88c7-483d-87cd-dc979185555b",
   "metadata": {},
   "outputs": [],
   "source": [
    "df_crime = pd.read_csv('/Users/jchang153/Documents/UCLA-CAM/GV KG/Data/hatecrimedata.csv')"
   ]
  },
  {
   "cell_type": "code",
   "execution_count": 7,
   "id": "626050fc-ace1-4c5c-9b4f-c827b109cd02",
   "metadata": {},
   "outputs": [],
   "source": [
    "# limiting to only dates that have associated tweets\n",
    "df_crime['incident_date'] = pd.to_datetime(df_crime['incident_date'])\n",
    "start_date = pd.to_datetime('2020-03-11')\n",
    "end_date = pd.to_datetime('2021-06-17')\n",
    "\n",
    "df_crime = df_crime[(df_crime['incident_date'] >= start_date) & (df_crime['incident_date'] <= end_date)]\n",
    "df_crime['incident_date'] = pd.to_datetime(df_crime['incident_date']).dt.strftime('%Y-%m-%d')"
   ]
  },
  {
   "cell_type": "code",
   "execution_count": 8,
   "id": "28fd80af-79b8-4ddd-9781-e54085da7873",
   "metadata": {},
   "outputs": [],
   "source": [
    "df_crime = df_crime[df_crime['state_name'] == 'California']"
   ]
  },
  {
   "cell_type": "code",
   "execution_count": 9,
   "id": "f8bfafec-5821-4780-a5a3-c93dc6542f26",
   "metadata": {},
   "outputs": [
    {
     "data": {
      "text/plain": [
       "Index(['incident_id', 'data_year', 'ori', 'pug_agency_name', 'pub_agency_unit',\n",
       "       'agency_type_name', 'state_abbr', 'state_name', 'division_name',\n",
       "       'region_name', 'population_group_code', 'population_group_description',\n",
       "       'incident_date', 'adult_victim_count', 'juvenile_victim_count',\n",
       "       'total_offender_count', 'adult_offender_count',\n",
       "       'juvenile_offender_count', 'offender_race', 'offender_ethnicity',\n",
       "       'victim_count', 'offense_name', 'total_individual_victims',\n",
       "       'location_name', 'bias_desc', 'victim_types', 'multiple_offense',\n",
       "       'multiple_bias'],\n",
       "      dtype='object')"
      ]
     },
     "execution_count": 9,
     "metadata": {},
     "output_type": "execute_result"
    }
   ],
   "source": [
    "df_crime.columns"
   ]
  },
  {
   "cell_type": "markdown",
   "id": "ee1c73e3-8141-4260-bd9c-df9cfd85ce12",
   "metadata": {},
   "source": [
    "### Load in Topic Data"
   ]
  },
  {
   "cell_type": "code",
   "execution_count": 6,
   "id": "0cc9cd08-913e-4e16-bc85-6fe6c198d73b",
   "metadata": {},
   "outputs": [],
   "source": [
    "doc_info = pd.read_csv('/Users/jchang153/Documents/UCLA-CAM/GV KG/Data/Tweets/All/topics/bigbaby_r_30_docs.csv')\n",
    "top_info = pd.read_csv('/Users/jchang153/Documents/UCLA-CAM/GV KG/Data/Tweets/All/topics/bigbaby_r_30_tops.csv')"
   ]
  },
  {
   "cell_type": "code",
   "execution_count": 7,
   "id": "de57f38b-169d-4089-80b6-492e173d5e00",
   "metadata": {},
   "outputs": [],
   "source": [
    "top_info['Representation'] = top_info['Representation'].apply(ast.literal_eval)"
   ]
  },
  {
   "cell_type": "code",
   "execution_count": 8,
   "id": "8b29ef7e-1181-4fb2-9adc-67309e1959e0",
   "metadata": {},
   "outputs": [
    {
     "data": {
      "text/plain": [
       "Index(['Topic', 'Count', 'Name', 'Representation', 'Representative_Docs'], dtype='object')"
      ]
     },
     "execution_count": 8,
     "metadata": {},
     "output_type": "execute_result"
    }
   ],
   "source": [
    "top_info.columns"
   ]
  },
  {
   "cell_type": "code",
   "execution_count": 9,
   "id": "78f738f9-7eff-453e-a65a-7b285207eb01",
   "metadata": {},
   "outputs": [],
   "source": [
    "top2name = top_info.set_index('Topic')['Name'].to_dict()"
   ]
  },
  {
   "cell_type": "markdown",
   "id": "9e17e526-22b7-43b6-9ec0-4af21fc6ac72",
   "metadata": {},
   "source": [
    "### Querying by a Given Group"
   ]
  },
  {
   "cell_type": "markdown",
   "id": "e78ecaec-afab-48ea-a241-0e58e0d8f4cd",
   "metadata": {},
   "source": [
    "Only black-related topics:"
   ]
  },
  {
   "cell_type": "code",
   "execution_count": 10,
   "id": "153421c9-a490-49cf-a938-0092e806909a",
   "metadata": {},
   "outputs": [],
   "source": [
    "# [32,35,65,135,142]\n",
    "black_topics = [1,2,3,4,7,8,9,11,13,15,19,20,21,23,25,27,31,34,36,38,40,41,42,44,45,46,47,48,50,\n",
    "51,52,56,62,63,64,66,68,70,71,73,75,76,78,82,83,84,86,88,92,93,94,101,102,105,106,\n",
    "107,109,111,114,117,119,120, 121,122,123,124,125,126,131,132,133,137,140,143,144,145,\n",
    "146,147,149,150,151,153,154,155,157,160,162,163,164,165,166,168,169,171,172,177,178,179,\n",
    "180,184,186,187,188,191,193,196,200,202,203,206,208,211,212,216,218,220,222,223,224,225,\n",
    "226,228,229,230,233,235,242,244,245,250,251,253,254,255,256,259,260,261,266,268,269]\n",
    "lgbt_topics = [28,26,58,175,57,209,22,53,168,180,18,156,182,104,215,247]\n",
    "jewish_topics = [79,24,72,0,30,37,55,87,91,129,121,129,199,205,264,10,59,5,6,100,262]\n",
    "asian_topics = [67,69,96,115,135,147,161,16,99,183,195,201,221,243,101]\n",
    "hispanic_topics = [32,35,65,135,142]\n",
    "\n",
    "top_list = set(black_topics + lgbt_topics + asian_topics + jewish_topics + hispanic_topics)"
   ]
  },
  {
   "cell_type": "code",
   "execution_count": 11,
   "id": "fed993e9-56cd-4ab8-9b22-67ae3f018b4a",
   "metadata": {},
   "outputs": [],
   "source": [
    "groups = {('black', 'g'), ('lgbt', 'g'), ('asian', 'g'), ('jewish', 'g'), ('hispanic', 'g')}"
   ]
  },
  {
   "cell_type": "code",
   "execution_count": 12,
   "id": "93932cb8-f8e8-4828-9085-711e3775ee53",
   "metadata": {},
   "outputs": [
    {
     "data": {
      "text/plain": [
       "191"
      ]
     },
     "execution_count": 12,
     "metadata": {},
     "output_type": "execute_result"
    }
   ],
   "source": [
    "len(top_list)"
   ]
  },
  {
   "cell_type": "code",
   "execution_count": 13,
   "id": "974fefd6-0c73-4aa4-b958-307dc6f2bf39",
   "metadata": {},
   "outputs": [],
   "source": [
    "# topic2group = {\\\n",
    "# '78_blacklivesmatter_justiceforgeorgefloyd_blackouttuesday_blackheartredhandsfilm': [('black', 'g')],\n",
    "# '166_blackouttuesday_lockdown_locked_theshowmustbepaused': [('black', 'g')],\n",
    "# '181_black_tear_torn_men': [('black', 'g')],\n",
    "# '341_africa_afrokixcollection_afropunk_african': [('black', 'g')],\n",
    "# '560_naacp_african_image_awards': [('black', 'g')],\n",
    "# '131_pride_gay_lgbtq_lgbt': [('lesbian', 'g'), ('gay', 'g'), ('bisexual', 'g'), ('transgender', 'g')],\n",
    "# '740_saveartspace_futures_queer_selected': [('lesbian', 'g'),  ('gay', 'g'), ('bisexual', 'g'), ('transgender', 'g')],\n",
    "# '632_jewcla_chabadlovesyou_chabadoncampus_jewishpride': [('jewish', 'g')],\n",
    "# '262_floyd_george_lewis_floyds': [('black', 'g')],\n",
    "# '396_breonna_taylor_taylors_cops': [('black', 'g')]\n",
    "# }\n",
    "\n",
    "topic2group = {}\n",
    "for top in black_topics:\n",
    "    if top in topic2group.keys():\n",
    "        topic2group[top] = topic2group[top]+[('black', 'g')]\n",
    "    else: \n",
    "        topic2group[top] = [('black', 'g')]\n",
    "\n",
    "for top in lgbt_topics:\n",
    "    if top in topic2group.keys():\n",
    "        topic2group[top] = topic2group[top]+[('lgbt', 'g')]\n",
    "    else: \n",
    "        topic2group[top] = [('lgbt', 'g')]\n",
    "        \n",
    "for top in asian_topics:\n",
    "    if top in topic2group.keys():\n",
    "        topic2group[top] = topic2group[top]+[('asian', 'g')]\n",
    "    else: \n",
    "        topic2group[top] = [('asian', 'g')]\n",
    "        \n",
    "for top in jewish_topics:\n",
    "    if top in topic2group.keys():\n",
    "        topic2group[top] = topic2group[top]+[('jewish', 'g')]\n",
    "    else: \n",
    "        topic2group[top] = [('jewish', 'g')]\n",
    "        \n",
    "for top in hispanic_topics:\n",
    "    if top in topic2group.keys():\n",
    "        topic2group[top] = topic2group[top]+[('hispanic', 'g')]\n",
    "    else: \n",
    "        topic2group[top] = [('hispanic', 'g')]"
   ]
  },
  {
   "cell_type": "markdown",
   "id": "ef026e71-d2a4-4dd5-8c37-e13b2293dfb0",
   "metadata": {},
   "source": [
    "Only tweets who have at least 0.01 probability of being in one of the above topics:"
   ]
  },
  {
   "cell_type": "code",
   "execution_count": 14,
   "id": "fac20daa-5b42-4402-9a11-9dc77f540d72",
   "metadata": {},
   "outputs": [
    {
     "data": {
      "text/plain": [
       "57158"
      ]
     },
     "execution_count": 14,
     "metadata": {},
     "output_type": "execute_result"
    }
   ],
   "source": [
    "df = df[df[[str(num) for num in top_list]].ge(0.01).any(axis=1)]\n",
    "len(df)"
   ]
  },
  {
   "cell_type": "markdown",
   "id": "433211ac-ad2d-431b-a4c2-dc3de51b31cc",
   "metadata": {},
   "source": []
  },
  {
   "cell_type": "code",
   "execution_count": 13,
   "id": "4cf170a5-ecaa-4a24-a1e6-8136a6231fce",
   "metadata": {
    "collapsed": true,
    "jupyter": {
     "outputs_hidden": true
    },
    "tags": []
   },
   "outputs": [
    {
     "ename": "NameError",
     "evalue": "name 'df_crime' is not defined",
     "output_type": "error",
     "traceback": [
      "\u001b[0;31m---------------------------------------------------------------------------\u001b[0m",
      "\u001b[0;31mNameError\u001b[0m                                 Traceback (most recent call last)",
      "Cell \u001b[0;32mIn[13], line 1\u001b[0m\n\u001b[0;32m----> 1\u001b[0m \u001b[43mdf_crime\u001b[49m[\u001b[38;5;124m'\u001b[39m\u001b[38;5;124mbias_desc\u001b[39m\u001b[38;5;124m'\u001b[39m]\u001b[38;5;241m.\u001b[39munique()\n",
      "\u001b[0;31mNameError\u001b[0m: name 'df_crime' is not defined"
     ]
    }
   ],
   "source": [
    "df_crime['bias_desc'].unique()"
   ]
  },
  {
   "cell_type": "code",
   "execution_count": 19,
   "id": "3cf25b03-7656-47cc-b624-1e5eae2c7590",
   "metadata": {},
   "outputs": [],
   "source": [
    "df_crime = df_crime[df_crime['bias_desc'].str.contains('|'.join(['black', 'asian', 'lesbian', 'transgender', 'gay', 'bisexual']), case=False)]"
   ]
  },
  {
   "cell_type": "code",
   "execution_count": 20,
   "id": "3ae48966-a3eb-425b-b3b4-c826ffa480cb",
   "metadata": {},
   "outputs": [
    {
     "data": {
      "text/plain": [
       "738"
      ]
     },
     "execution_count": 20,
     "metadata": {},
     "output_type": "execute_result"
    }
   ],
   "source": [
    "len(df_crime)"
   ]
  },
  {
   "cell_type": "markdown",
   "id": "61eb2eb7-e77f-4c71-8e6d-ec890af749ab",
   "metadata": {
    "tags": []
   },
   "source": [
    "## Building the KG"
   ]
  },
  {
   "cell_type": "code",
   "execution_count": 15,
   "id": "f2eac882-095e-46f7-bee1-f1377426983c",
   "metadata": {
    "tags": []
   },
   "outputs": [],
   "source": [
    "# turns the dataframes into lists of dictionaries\n",
    "tweet_dict = df.to_dict(orient='records')\n",
    "# crime_dict = df_crime.to_dict(orient='records')\n",
    "topic_dict = top_info.to_dict(orient='records')"
   ]
  },
  {
   "cell_type": "markdown",
   "id": "294f0aaf-7d92-43c0-aff0-895d11a9d9c4",
   "metadata": {
    "tags": []
   },
   "source": [
    "### Getting unique entities, hashtags, topics"
   ]
  },
  {
   "cell_type": "code",
   "execution_count": 16,
   "id": "93ea7497-acb0-468a-a29e-981e4c1af964",
   "metadata": {
    "tags": []
   },
   "outputs": [
    {
     "name": "stderr",
     "output_type": "stream",
     "text": [
      "100%|███████████████████████████████████████████████████████████████████████████████████████| 57158/57158 [00:00<00:00, 200108.03it/s]\n"
     ]
    }
   ],
   "source": [
    "entities = set()\n",
    "tags = set()\n",
    "topics = set()\n",
    "tweets = set()\n",
    "users = set()\n",
    "# crimes = set()\n",
    "dates = set()\n",
    "\n",
    "for tweet in tqdm(tweet_dict):\n",
    "    entities.add((tweet['tweet_id'], 't'))\n",
    "    # entities.add(tweet['screen_name']) # this one gives less entities, indicating some repeated screen names\n",
    "    entities.add((tweet['user_id'], 'u'))\n",
    "    entities.add(tweet['date'])\n",
    "    # entities.add(tweet['topics'])\n",
    "    \n",
    "    tweets.add((tweet['tweet_id'], 't'))\n",
    "    users.add((tweet['user_id'], 'u'))\n",
    "    dates.add(tweet['date'])\n",
    "    # topics.add(tweet['topics'])\n",
    "\n",
    "    for tag in tweet['hashtags']:\n",
    "        entities.add(tag)\n",
    "        tags.add(tag)\n",
    "        \n",
    "# for crime in crime_dict:\n",
    "#     entities.add((crime['incident_id'], 'c')) \n",
    "#     crimes.add((crime['incident_id'], 'c')) \n",
    "#     entities.add(crime['incident_date']) # in case not all are captured in tweets\n",
    "\n",
    "for top in top_list:\n",
    "    entities.add(top2name[top])\n",
    "    topics.add(top2name[top])\n",
    "\n",
    "entities = entities | groups\n",
    "# entities.add('negative_sentiment')\n",
    "# entities.add('positive_sentiment')\n",
    "# entities.add('neutral_sentiment')"
   ]
  },
  {
   "cell_type": "code",
   "execution_count": 17,
   "id": "1de0474a-4ef8-4548-a3e6-b7f2b469d177",
   "metadata": {},
   "outputs": [
    {
     "data": {
      "text/plain": [
       "57158"
      ]
     },
     "execution_count": 17,
     "metadata": {},
     "output_type": "execute_result"
    }
   ],
   "source": [
    "len(tweet_dict)"
   ]
  },
  {
   "cell_type": "code",
   "execution_count": 18,
   "id": "5aa244d6-f63b-46ec-8a94-5ff739670bd3",
   "metadata": {},
   "outputs": [
    {
     "name": "stdout",
     "output_type": "stream",
     "text": [
      "90815 57142 22065 464 10948 191 5\n"
     ]
    }
   ],
   "source": [
    "# print(len(entities), len(tweets), len(users), len(crimes), len(dates), len(tags), len(topics), len(groups))\n",
    "print(len(entities), len(tweets), len(users), len(dates), len(tags), len(topics), len(groups))"
   ]
  },
  {
   "cell_type": "code",
   "execution_count": 19,
   "id": "f46369ce-a7c6-454b-9b9e-ba3a3da41654",
   "metadata": {},
   "outputs": [
    {
     "data": {
      "text/plain": [
       "84381"
      ]
     },
     "execution_count": 19,
     "metadata": {},
     "output_type": "execute_result"
    }
   ],
   "source": [
    "sum([51476, 21032, 738, 464, 10438, 230, 3])"
   ]
  },
  {
   "cell_type": "code",
   "execution_count": 20,
   "id": "48363770-0ec3-4704-83ec-1018b9bd36ae",
   "metadata": {},
   "outputs": [],
   "source": [
    "ent_list = list(entities)\n",
    "entity2id = {k:v for v,k in enumerate(ent_list)}\n",
    "id2entity = {v:k for v,k in enumerate(ent_list)}"
   ]
  },
  {
   "cell_type": "markdown",
   "id": "d6994927-aa0d-4274-98a8-07891168097f",
   "metadata": {},
   "source": [
    "### Creating relation dictionaries"
   ]
  },
  {
   "cell_type": "code",
   "execution_count": 28,
   "id": "f81a94ca-cd16-44ad-83d3-bc5925b330d6",
   "metadata": {},
   "outputs": [],
   "source": [
    "# relations = ['tweeted_on', 'has_hashtag', 'in_topic', 'has_sentiment', 'tweeted', 'associated_with', 'occurred_on', 'mentioned', 'replied_to', 'victimized']\n",
    "relations = ['tweeted_on', 'has_hashtag', 'in_topic', 'tweeted', 'mentioned', 'replied_to', 'associated_with']\n",
    "\n",
    "relation2id = {}\n",
    "id2relation = {}\n",
    "j = 0 \n",
    "for r in relations:\n",
    "    relation2id[r] = j\n",
    "    id2relation[j] = r\n",
    "    j += 1"
   ]
  },
  {
   "cell_type": "code",
   "execution_count": 29,
   "id": "a571a24e-f338-4739-8367-83ba79f92420",
   "metadata": {},
   "outputs": [],
   "source": [
    "all_relations = []"
   ]
  },
  {
   "cell_type": "markdown",
   "id": "ba90e320-bebc-4008-9e79-70506ce61baf",
   "metadata": {
    "tags": []
   },
   "source": [
    "## Mentions, Quotes, Replies Triples"
   ]
  },
  {
   "cell_type": "markdown",
   "id": "62d206aa-53a2-49a4-a53d-6b2edd1ca4c6",
   "metadata": {
    "jp-MarkdownHeadingCollapsed": true,
    "tags": []
   },
   "source": [
    "### Exploring replies, quotes, mentions"
   ]
  },
  {
   "cell_type": "markdown",
   "id": "a5c5852d-59a6-4e60-af6a-b6ea52f4f10d",
   "metadata": {},
   "source": [
    "Number of users that were replied to"
   ]
  },
  {
   "cell_type": "code",
   "execution_count": 24,
   "id": "cd570838-49b2-4698-9495-dbaca07ed441",
   "metadata": {},
   "outputs": [],
   "source": [
    "all_replied_users = df.dropna(subset='in_reply_to_user_id')['in_reply_to_user_id'].tolist()"
   ]
  },
  {
   "cell_type": "code",
   "execution_count": 25,
   "id": "1ff79363-c385-422a-8b0f-2a04dede666c",
   "metadata": {},
   "outputs": [
    {
     "data": {
      "text/plain": [
       "(20543, 15790)"
      ]
     },
     "execution_count": 25,
     "metadata": {},
     "output_type": "execute_result"
    }
   ],
   "source": [
    "len(all_replied_users), len(set(all_replied_users))"
   ]
  },
  {
   "cell_type": "markdown",
   "id": "4269269b-54a9-4004-bb93-b5c5c2d1cafb",
   "metadata": {},
   "source": [
    "Number of users replied to in our dataset (not counting multiplicity, e.g., if a given user in our dataset was replied to multiple times, this would become multiple triples, but here we are just counting how many unique users that were replied to that are among the unique users in our dataset)"
   ]
  },
  {
   "cell_type": "code",
   "execution_count": 26,
   "id": "eb39d1e7-64bd-4995-b349-a2f6f52bc655",
   "metadata": {},
   "outputs": [
    {
     "data": {
      "text/plain": [
       "674"
      ]
     },
     "execution_count": 26,
     "metadata": {},
     "output_type": "execute_result"
    }
   ],
   "source": [
    "len(set(df['user_id']).intersection(set(all_replied_users)))"
   ]
  },
  {
   "cell_type": "markdown",
   "id": "95d58212-c972-4cdd-b563-7269baa4e714",
   "metadata": {},
   "source": [
    "Number of tweets that were replied to"
   ]
  },
  {
   "cell_type": "code",
   "execution_count": 27,
   "id": "e7fb21bd-48f2-4181-bec6-2c764595365e",
   "metadata": {},
   "outputs": [],
   "source": [
    "all_replied_tweets=df.dropna(subset='in_reply_to_tweet_id')['in_reply_to_tweet_id'].tolist()"
   ]
  },
  {
   "cell_type": "code",
   "execution_count": 28,
   "id": "9f899063-229e-4bea-bafc-87cdad796c92",
   "metadata": {},
   "outputs": [
    {
     "data": {
      "text/plain": [
       "(1149, 1134)"
      ]
     },
     "execution_count": 28,
     "metadata": {},
     "output_type": "execute_result"
    }
   ],
   "source": [
    "len(all_replied_tweets), len(set(all_replied_tweets))"
   ]
  },
  {
   "cell_type": "markdown",
   "id": "93a05be1-fc0f-4a8d-8d9f-3b4551a07ea9",
   "metadata": {},
   "source": [
    "Number of tweets replied to in our dataset (not counting multiplicity, e.g., if a given tweet in our dataset was replied to multiple times, this would become multiple triples, but here we are just counting how many unique tweets that were replied to that are among the unique tweets in our dataset)"
   ]
  },
  {
   "cell_type": "code",
   "execution_count": 29,
   "id": "50086df8-23de-4426-83aa-926f2df1bafe",
   "metadata": {},
   "outputs": [
    {
     "data": {
      "text/plain": [
       "44"
      ]
     },
     "execution_count": 29,
     "metadata": {},
     "output_type": "execute_result"
    }
   ],
   "source": [
    "len(set(df['tweet_id']).intersection(set(all_replied_tweets)))"
   ]
  },
  {
   "cell_type": "markdown",
   "id": "a42c9f87-9588-42ef-a0c8-e7963ca824a6",
   "metadata": {},
   "source": [
    "Number of tweets that were quoted"
   ]
  },
  {
   "cell_type": "code",
   "execution_count": 30,
   "id": "496416ee-d28e-4022-8fc1-e328780283a4",
   "metadata": {},
   "outputs": [
    {
     "data": {
      "text/plain": [
       "13003"
      ]
     },
     "execution_count": 30,
     "metadata": {},
     "output_type": "execute_result"
    }
   ],
   "source": [
    "len(df.dropna(subset='quoted_tweet_id'))"
   ]
  },
  {
   "cell_type": "markdown",
   "id": "d0ba360d-d21b-463e-9eda-a6f5dee0fb95",
   "metadata": {},
   "source": [
    "Number of tweets quoted in our dataset"
   ]
  },
  {
   "cell_type": "code",
   "execution_count": 31,
   "id": "9b563cc2-074a-4c33-9be9-37fa574d1928",
   "metadata": {},
   "outputs": [],
   "source": [
    "all_quoted_tweets=df.dropna(subset='quoted_tweet_id')['quoted_tweet_id'].explode().tolist()"
   ]
  },
  {
   "cell_type": "code",
   "execution_count": 32,
   "id": "eec294f8-b3ab-4a4d-aa9e-7937a4f09daa",
   "metadata": {},
   "outputs": [
    {
     "data": {
      "text/plain": [
       "3"
      ]
     },
     "execution_count": 32,
     "metadata": {},
     "output_type": "execute_result"
    }
   ],
   "source": [
    "len(set(df['tweet_id']).intersection(set(all_quoted_tweets)))"
   ]
  },
  {
   "cell_type": "code",
   "execution_count": 33,
   "id": "f9e24dab-15dd-4a05-a006-8b55efe1015d",
   "metadata": {},
   "outputs": [
    {
     "data": {
      "text/plain": [
       "5"
      ]
     },
     "execution_count": 33,
     "metadata": {},
     "output_type": "execute_result"
    }
   ],
   "source": [
    "len(df[df['tweet_id'].isin(all_quoted_tweets)])"
   ]
  },
  {
   "cell_type": "markdown",
   "id": "fefdebf7-564e-4d59-8031-8071798c4f58",
   "metadata": {},
   "source": [
    "Number of users that were mentioned (counting multiplicity)"
   ]
  },
  {
   "cell_type": "code",
   "execution_count": 34,
   "id": "e53a8313-bfe0-40ef-b486-e18db3d10f20",
   "metadata": {},
   "outputs": [],
   "source": [
    "all_mentions = df[df[\"mentions\"].apply(lambda x: len(x) > 0)]['mentions'].explode().tolist()"
   ]
  },
  {
   "cell_type": "code",
   "execution_count": 35,
   "id": "adf968cf-6550-4358-bd90-d4dd4346f306",
   "metadata": {},
   "outputs": [
    {
     "data": {
      "text/plain": [
       "(117814, 53935)"
      ]
     },
     "execution_count": 35,
     "metadata": {},
     "output_type": "execute_result"
    }
   ],
   "source": [
    "len(all_mentions), len(set(all_mentions))"
   ]
  },
  {
   "cell_type": "markdown",
   "id": "7b03a013-8543-4ba8-a33a-0319fd42591a",
   "metadata": {},
   "source": [
    "Number of mentioned users in our dataset"
   ]
  },
  {
   "cell_type": "code",
   "execution_count": 36,
   "id": "f0fa6dfb-e2f1-4074-92b3-81073333b445",
   "metadata": {},
   "outputs": [
    {
     "data": {
      "text/plain": [
       "4563"
      ]
     },
     "execution_count": 36,
     "metadata": {},
     "output_type": "execute_result"
    }
   ],
   "source": [
    "len(set(df['user_id']).intersection(set(all_mentions)))"
   ]
  },
  {
   "cell_type": "markdown",
   "id": "91869b23-902b-4e93-8d93-e4b883b610d6",
   "metadata": {},
   "source": [
    "From the analysis above, we create only triples between tweets that reply to users and tweets that mention users."
   ]
  },
  {
   "cell_type": "markdown",
   "id": "b58d5288-0ca0-4ad9-8666-2b0d4de11eeb",
   "metadata": {
    "tags": []
   },
   "source": [
    "### Tweet to User (reply) Triples"
   ]
  },
  {
   "cell_type": "code",
   "execution_count": 30,
   "id": "64c3c11c-6468-4f68-8313-af4407e323c2",
   "metadata": {
    "tags": []
   },
   "outputs": [
    {
     "name": "stderr",
     "output_type": "stream",
     "text": [
      "100%|███████████████████████████████████████████████████████████████████████████████████████| 57158/57158 [00:00<00:00, 177337.42it/s]\n"
     ]
    }
   ],
   "source": [
    "reply_relations = []\n",
    "\n",
    "for tweet in tqdm(tweet_dict):\n",
    "    replied_user = tweet['in_reply_to_user_id']\n",
    "    \n",
    "    if not np.isnan(replied_user):\n",
    "        if (replied_user, 'u') in entities:\n",
    "\n",
    "            relation = []\n",
    "            relation.append(entity2id[(tweet['tweet_id'], 't')])\n",
    "            relation.append(entity2id[(replied_user, 'u')])\n",
    "            relation.append(relation2id['replied_to'])\n",
    "            relation.append(np.nan)\n",
    "\n",
    "            reply_relations.append(relation)\n",
    "\n",
    "all_relations = [*all_relations, *reply_relations]"
   ]
  },
  {
   "cell_type": "code",
   "execution_count": 31,
   "id": "0dc002eb-6eea-4ff4-ad77-b1c7a5c46ead",
   "metadata": {},
   "outputs": [
    {
     "data": {
      "text/plain": [
       "2533"
      ]
     },
     "execution_count": 31,
     "metadata": {},
     "output_type": "execute_result"
    }
   ],
   "source": [
    "len(all_relations)"
   ]
  },
  {
   "cell_type": "markdown",
   "id": "5fda61c8-334a-4e96-b6ab-ea67334a56e3",
   "metadata": {
    "tags": []
   },
   "source": [
    "### Tweet to User (mention) Triples"
   ]
  },
  {
   "cell_type": "code",
   "execution_count": 32,
   "id": "d3607148-75be-459d-a028-2f90c367c164",
   "metadata": {},
   "outputs": [
    {
     "name": "stderr",
     "output_type": "stream",
     "text": [
      "100%|███████████████████████████████████████████████████████████████████████████████████████| 57158/57158 [00:00<00:00, 817557.23it/s]\n"
     ]
    }
   ],
   "source": [
    "mention_relations = []\n",
    "\n",
    "for tweet in tqdm(tweet_dict):  \n",
    "    for men in tweet['mentions']:\n",
    "        if (men, 'u') in entities:\n",
    "            \n",
    "            relation=[]\n",
    "            relation.append(entity2id[(tweet['tweet_id'], 't')])\n",
    "            relation.append(entity2id[(men, 'u')])\n",
    "            relation.append(relation2id['mentioned'])\n",
    "            relation.append(np.nan)\n",
    "            \n",
    "            mention_relations.append(relation)\n",
    "\n",
    "all_relations = [*all_relations, *mention_relations]"
   ]
  },
  {
   "cell_type": "code",
   "execution_count": 33,
   "id": "efdd5dd4-e03a-46b2-a590-bd75d676e602",
   "metadata": {},
   "outputs": [
    {
     "data": {
      "text/plain": [
       "604"
      ]
     },
     "execution_count": 33,
     "metadata": {},
     "output_type": "execute_result"
    }
   ],
   "source": [
    "len(mention_relations)"
   ]
  },
  {
   "cell_type": "code",
   "execution_count": 122,
   "id": "524aee74-2086-4200-ad04-5f8e923eefb2",
   "metadata": {},
   "outputs": [
    {
     "data": {
      "text/plain": [
       "3137"
      ]
     },
     "execution_count": 122,
     "metadata": {},
     "output_type": "execute_result"
    }
   ],
   "source": [
    "len(all_relations)"
   ]
  },
  {
   "cell_type": "markdown",
   "id": "e4d98fb5-c6d6-4ec4-881a-7d5038055603",
   "metadata": {
    "tags": []
   },
   "source": [
    "## Tweet-to-? Triples"
   ]
  },
  {
   "cell_type": "markdown",
   "id": "0bb71764-291e-4818-a1c9-33dcedcb4fdb",
   "metadata": {
    "tags": [],
    "toc-hr-collapsed": true
   },
   "source": [
    "### Tweet-to-Hashtag Triples"
   ]
  },
  {
   "cell_type": "code",
   "execution_count": 34,
   "id": "cce86aaa-f114-4ffd-a50c-7fcb4052779f",
   "metadata": {},
   "outputs": [
    {
     "name": "stderr",
     "output_type": "stream",
     "text": [
      "100%|████████████████████████████████████████████████████████████████████████████████████████| 57158/57158 [00:00<00:00, 98571.18it/s]\n"
     ]
    }
   ],
   "source": [
    "tweet_hashtag_relations = []\n",
    "\n",
    "for tweet in tqdm(tweet_dict):\n",
    "    for tag in tweet['hashtags']:\n",
    "        \n",
    "        relation = []\n",
    "        relation.append(entity2id[(tweet['tweet_id'], 't')])\n",
    "        relation.append(entity2id[tag])\n",
    "        relation.append(relation2id['has_hashtag'])\n",
    "        relation.append(np.nan)\n",
    "        \n",
    "        tweet_hashtag_relations.append(relation)\n",
    "        \n",
    "all_relations = [*all_relations, *tweet_hashtag_relations]"
   ]
  },
  {
   "cell_type": "code",
   "execution_count": 35,
   "id": "575535f9-c090-4cc5-86ef-94390741e849",
   "metadata": {},
   "outputs": [
    {
     "data": {
      "text/plain": [
       "58264"
      ]
     },
     "execution_count": 35,
     "metadata": {},
     "output_type": "execute_result"
    }
   ],
   "source": [
    "len(all_relations)"
   ]
  },
  {
   "cell_type": "code",
   "execution_count": 36,
   "id": "d38ba383-74a8-47e3-ba49-4188587b648b",
   "metadata": {},
   "outputs": [
    {
     "data": {
      "text/plain": [
       "55127"
      ]
     },
     "execution_count": 36,
     "metadata": {},
     "output_type": "execute_result"
    }
   ],
   "source": [
    "len(tweet_hashtag_relations)"
   ]
  },
  {
   "cell_type": "markdown",
   "id": "22fedb5d-ac8d-45fb-b388-586e81437eb4",
   "metadata": {
    "tags": []
   },
   "source": [
    "### Tweet-to-Date Triples"
   ]
  },
  {
   "cell_type": "code",
   "execution_count": 37,
   "id": "54f52f8f-a86c-41b5-a36c-16ff8104402a",
   "metadata": {},
   "outputs": [
    {
     "name": "stderr",
     "output_type": "stream",
     "text": [
      "100%|███████████████████████████████████████████████████████████████████████████████████████| 57158/57158 [00:00<00:00, 508431.21it/s]\n"
     ]
    }
   ],
   "source": [
    "tweet_date_relations = []\n",
    "\n",
    "for tweet in tqdm(tweet_dict):\n",
    "        \n",
    "    relation = []\n",
    "    relation.append(entity2id[(tweet['tweet_id'], 't')])\n",
    "    relation.append(entity2id[tweet['date']])\n",
    "    relation.append(relation2id['tweeted_on'])\n",
    "    relation.append(np.nan)\n",
    "        \n",
    "    tweet_date_relations.append(relation)\n",
    "\n",
    "all_relations = [*all_relations, *tweet_date_relations]"
   ]
  },
  {
   "cell_type": "code",
   "execution_count": 39,
   "id": "03ea725f-2385-4029-9d88-e626e600e1d3",
   "metadata": {},
   "outputs": [
    {
     "data": {
      "text/plain": [
       "57158"
      ]
     },
     "execution_count": 39,
     "metadata": {},
     "output_type": "execute_result"
    }
   ],
   "source": [
    "len(tweet_date_relations)"
   ]
  },
  {
   "cell_type": "code",
   "execution_count": 38,
   "id": "f6a311c8-4081-4af4-b402-27555fb3fb79",
   "metadata": {},
   "outputs": [
    {
     "data": {
      "text/plain": [
       "115422"
      ]
     },
     "execution_count": 38,
     "metadata": {},
     "output_type": "execute_result"
    }
   ],
   "source": [
    "len(all_relations)"
   ]
  },
  {
   "cell_type": "markdown",
   "id": "923ab349-c163-4f79-8548-8ce9e93040e8",
   "metadata": {
    "tags": []
   },
   "source": [
    "### Tweet-to-Topic Triples"
   ]
  },
  {
   "cell_type": "code",
   "execution_count": 40,
   "id": "bdd3d809-a058-467f-a42c-2dca2220bc66",
   "metadata": {},
   "outputs": [
    {
     "name": "stderr",
     "output_type": "stream",
     "text": [
      "100%|████████████████████████████████████████████████████████████████████████████████████████| 57158/57158 [00:02<00:00, 22525.17it/s]\n"
     ]
    }
   ],
   "source": [
    "tweet_topic_relations = []\n",
    "\n",
    "for tweet in tqdm(tweet_dict):\n",
    "    for top in top_list:\n",
    "        if tweet[f'{top}'] >= 0.01:\n",
    "            # print(top)\n",
    "            relation = []\n",
    "            relation.append(entity2id[(tweet['tweet_id'], 't')])\n",
    "            relation.append(entity2id[top2name[top]])\n",
    "            relation.append(relation2id['in_topic'])\n",
    "            relation.append(tweet[f'{top}'])\n",
    "            \n",
    "            tweet_topic_relations.append(relation)\n",
    "\n",
    "all_relations = [*all_relations, *tweet_topic_relations]"
   ]
  },
  {
   "cell_type": "code",
   "execution_count": 41,
   "id": "0b67e9a5-da34-48d1-ad32-8ffba7e91c0c",
   "metadata": {},
   "outputs": [
    {
     "data": {
      "text/plain": [
       "214821"
      ]
     },
     "execution_count": 41,
     "metadata": {},
     "output_type": "execute_result"
    }
   ],
   "source": [
    "len(tweet_topic_relations)"
   ]
  },
  {
   "cell_type": "code",
   "execution_count": 42,
   "id": "d89cdedf-de5e-4770-9a75-03578ba66f46",
   "metadata": {},
   "outputs": [
    {
     "data": {
      "text/plain": [
       "330243"
      ]
     },
     "execution_count": 42,
     "metadata": {},
     "output_type": "execute_result"
    }
   ],
   "source": [
    "len(all_relations)"
   ]
  },
  {
   "cell_type": "markdown",
   "id": "0f16b00c-675f-46ae-8187-6ef45148b0b4",
   "metadata": {
    "jp-MarkdownHeadingCollapsed": true,
    "tags": []
   },
   "source": [
    "### Tweet-to-Sentiment Triples"
   ]
  },
  {
   "cell_type": "code",
   "execution_count": null,
   "id": "c66da05a-158c-487b-acb1-cd549eb6134c",
   "metadata": {},
   "outputs": [],
   "source": [
    "tweet_sentiment_relations = []\n",
    "\n",
    "for tweet in tqdm(tweet_dict):\n",
    "        \n",
    "    relation = []\n",
    "    relation.append(entity2id[(tweet['tweet_id'], 't')])\n",
    "    sent = tweet['sentiment']\n",
    "    \n",
    "    if sent > 0:\n",
    "        relation.append(entity2id['positive_sentiment'])\n",
    "    elif sent == 0:\n",
    "        relation.append(entity2id['neutral_sentiment'])\n",
    "    else:\n",
    "        relation.append(entity2id['negative_sentiment'])\n",
    "    relation.append(relation2id['has_sentiment'])\n",
    "    \n",
    "    tweet_sentiment_relations.append(relation)\n",
    "\n",
    "all_relations = [*all_relations, *tweet_sentiment_relations]"
   ]
  },
  {
   "cell_type": "markdown",
   "id": "211f96e1-a373-4988-8196-39e745770e3a",
   "metadata": {
    "tags": []
   },
   "source": [
    "## Other Triples"
   ]
  },
  {
   "cell_type": "markdown",
   "id": "8139820f-adc4-48ea-86ea-91257f3b35d1",
   "metadata": {
    "tags": []
   },
   "source": [
    "### User-to-Tweet Triples"
   ]
  },
  {
   "cell_type": "code",
   "execution_count": 43,
   "id": "1ed25d50-20a1-4f34-bd68-e6a7b485675c",
   "metadata": {
    "tags": []
   },
   "outputs": [
    {
     "name": "stderr",
     "output_type": "stream",
     "text": [
      "100%|███████████████████████████████████████████████████████████████████████████████████████| 57158/57158 [00:00<00:00, 371407.01it/s]\n"
     ]
    }
   ],
   "source": [
    "user_tweet_relations = []\n",
    "\n",
    "for tweet in tqdm(tweet_dict):\n",
    "        \n",
    "    relation = []\n",
    "    relation.append(entity2id[(tweet['user_id'], 'u')])\n",
    "    relation.append(entity2id[(tweet['tweet_id'], 't')])\n",
    "    relation.append(relation2id['tweeted'])\n",
    "    relation.append(np.nan)\n",
    "\n",
    "    user_tweet_relations.append(relation)\n",
    "        \n",
    "all_relations = [*all_relations, *user_tweet_relations]"
   ]
  },
  {
   "cell_type": "code",
   "execution_count": 44,
   "id": "769b115e-3503-4b9e-b9cb-683ec3d5f6bc",
   "metadata": {},
   "outputs": [
    {
     "data": {
      "text/plain": [
       "57158"
      ]
     },
     "execution_count": 44,
     "metadata": {},
     "output_type": "execute_result"
    }
   ],
   "source": [
    "len(user_tweet_relations)"
   ]
  },
  {
   "cell_type": "code",
   "execution_count": 132,
   "id": "15727b55-0a90-4ffb-afb7-7b31d8794056",
   "metadata": {},
   "outputs": [
    {
     "data": {
      "text/plain": [
       "387401"
      ]
     },
     "execution_count": 132,
     "metadata": {},
     "output_type": "execute_result"
    }
   ],
   "source": [
    "len(all_relations)"
   ]
  },
  {
   "cell_type": "markdown",
   "id": "42a9ba0b-ad90-47b7-940d-07e5841ee2f6",
   "metadata": {
    "tags": []
   },
   "source": [
    "### Topic-to-Group Triples"
   ]
  },
  {
   "cell_type": "code",
   "execution_count": 133,
   "id": "9a9e0a8f-d9b7-4e1b-a912-3fd23922a30b",
   "metadata": {},
   "outputs": [
    {
     "name": "stderr",
     "output_type": "stream",
     "text": [
      "100%|█████████████████████████████████████████████████████████████████████████████████████████████████████████████| 271/271 [00:00<00:00, 504731.96it/s]\n"
     ]
    }
   ],
   "source": [
    "topic_group_relations = []\n",
    "\n",
    "for topic in tqdm(topic_dict):\n",
    "    if topic['Topic'] in topic2group.keys():\n",
    "        for group in topic2group[topic['Topic']]:\n",
    "            \n",
    "            relation = []\n",
    "            relation.append(entity2id[topic['Name']])\n",
    "            relation.append(entity2id[group])\n",
    "            relation.append(relation2id['associated_with']) \n",
    "            relation.append(np.nan)\n",
    "\n",
    "            topic_group_relations.append(relation)\n",
    "        \n",
    "all_relations = [*all_relations, *topic_group_relations]\n",
    "\n",
    "# topic_group_relations = []\n",
    "# for topic in tqdm(black_topics):\n",
    "    \n",
    "#     num = ast.literal_eval(topic)\n",
    "#     top = topic_info.iloc[num+1]['Name']\n",
    "#     relation = []\n",
    "#     relation.append(entity2id[top])\n",
    "#     relation.append(entity2id[('black', 'g')])\n",
    "#     relation.append(relation2id['associated_with'])\n",
    "    \n",
    "#     topic_group_relations.append(relation)\n",
    "\n",
    "# all_relations = [*all_relations, *topic_group_relations]"
   ]
  },
  {
   "cell_type": "code",
   "execution_count": 134,
   "id": "1d2b4323-238b-41a9-a5e9-ae3bbb9d9c1b",
   "metadata": {},
   "outputs": [
    {
     "data": {
      "text/plain": [
       "198"
      ]
     },
     "execution_count": 134,
     "metadata": {},
     "output_type": "execute_result"
    }
   ],
   "source": [
    "len(topic_group_relations)"
   ]
  },
  {
   "cell_type": "markdown",
   "id": "093f6a24-b115-4d85-81ec-fb1d0b74e108",
   "metadata": {
    "jp-MarkdownHeadingCollapsed": true,
    "tags": []
   },
   "source": [
    "### Crime-to-Date Triples"
   ]
  },
  {
   "cell_type": "code",
   "execution_count": 59,
   "id": "83455466-9686-4207-914c-43d02d9d4965",
   "metadata": {},
   "outputs": [
    {
     "name": "stderr",
     "output_type": "stream",
     "text": [
      "100%|██████████████████████████████████████| 738/738 [00:00<00:00, 67323.42it/s]\n"
     ]
    }
   ],
   "source": [
    "crime_date_relations = []\n",
    "\n",
    "for crime in tqdm(crime_dict):\n",
    "    \n",
    "    relation = []\n",
    "    relation.append(entity2id[(crime['incident_id'], 'c')])\n",
    "    relation.append(entity2id[crime['incident_date']])\n",
    "    relation.append(relation2id['occurred_on'])\n",
    "    \n",
    "    crime_date_relations.append(relation)\n",
    "\n",
    "all_relations = [*all_relations, *crime_date_relations]"
   ]
  },
  {
   "cell_type": "code",
   "execution_count": 60,
   "id": "8adb8f64-7b1f-45ef-a605-1d72e699b597",
   "metadata": {},
   "outputs": [
    {
     "data": {
      "text/plain": [
       "738"
      ]
     },
     "execution_count": 60,
     "metadata": {},
     "output_type": "execute_result"
    }
   ],
   "source": [
    "len(crime_date_relations)"
   ]
  },
  {
   "cell_type": "markdown",
   "id": "b7cab7b5-776e-43ab-9a7f-44428028794a",
   "metadata": {
    "jp-MarkdownHeadingCollapsed": true,
    "tags": []
   },
   "source": [
    "### Crime-to-Group Triples"
   ]
  },
  {
   "cell_type": "code",
   "execution_count": 61,
   "id": "5c43252f-245a-4bc3-bd41-644eb79ca098",
   "metadata": {},
   "outputs": [
    {
     "name": "stderr",
     "output_type": "stream",
     "text": [
      "100%|██████████████████████████████████████| 738/738 [00:00<00:00, 62495.38it/s]\n"
     ]
    }
   ],
   "source": [
    "crime_group_relations = []\n",
    "\n",
    "for crime in tqdm(crime_dict):\n",
    "    for group in groups:\n",
    "        if group[0] in crime['bias_desc'].lower():\n",
    "            \n",
    "            relation = []\n",
    "            relation.append(entity2id[(crime['incident_id'], 'c')])\n",
    "            relation.append(entity2id[group])\n",
    "            relation.append(relation2id['victimized'])\n",
    "            \n",
    "            crime_group_relations.append(relation)\n",
    "    \n",
    "all_relations = [*all_relations, *crime_group_relations]"
   ]
  },
  {
   "cell_type": "code",
   "execution_count": 68,
   "id": "abd33c86-61fc-46db-b411-462aee6ecd6e",
   "metadata": {
    "collapsed": true,
    "jupyter": {
     "outputs_hidden": true
    },
    "tags": []
   },
   "outputs": [
    {
     "data": {
      "text/plain": [
       "[[80647, 16597, 9],\n",
       " [56385, 16597, 9],\n",
       " [54613, 16597, 9],\n",
       " [65946, 16597, 9],\n",
       " [43312, 64110, 9],\n",
       " [47955, 64110, 9],\n",
       " [80200, 16597, 9],\n",
       " [27980, 16597, 9],\n",
       " [546, 64110, 9],\n",
       " [57549, 16597, 9],\n",
       " [83570, 16597, 9],\n",
       " [59277, 16597, 9],\n",
       " [62147, 64110, 9],\n",
       " [34758, 16597, 9],\n",
       " [68063, 16597, 9],\n",
       " [36429, 64110, 9],\n",
       " [43816, 64110, 9],\n",
       " [71727, 16597, 9],\n",
       " [22590, 16597, 9],\n",
       " [30670, 64110, 9],\n",
       " [4863, 16597, 9],\n",
       " [42051, 64110, 9],\n",
       " [17469, 16597, 9],\n",
       " [48437, 16597, 9],\n",
       " [76098, 16597, 9],\n",
       " [30185, 16597, 9],\n",
       " [84061, 64110, 9],\n",
       " [2643, 16597, 9],\n",
       " [7810, 16597, 9],\n",
       " [67691, 16597, 9],\n",
       " [12519, 64110, 9],\n",
       " [75158, 64110, 9],\n",
       " [66064, 16597, 9],\n",
       " [68950, 16597, 9],\n",
       " [15276, 16597, 9],\n",
       " [44447, 16597, 9],\n",
       " [75058, 16597, 9],\n",
       " [78052, 16597, 9],\n",
       " [17163, 16597, 9],\n",
       " [50664, 16597, 9],\n",
       " [53588, 64110, 9],\n",
       " [76811, 16597, 9],\n",
       " [18790, 64110, 9],\n",
       " [49471, 64110, 9],\n",
       " [78714, 16597, 9],\n",
       " [25004, 64110, 9],\n",
       " [30829, 16597, 9],\n",
       " [477, 16597, 9],\n",
       " [3319, 16597, 9],\n",
       " [26999, 16597, 9],\n",
       " [32487, 16597, 9],\n",
       " [34713, 16597, 9],\n",
       " [66545, 16597, 9],\n",
       " [72839, 16597, 9],\n",
       " [4211, 16597, 9],\n",
       " [7119, 64110, 9],\n",
       " [8855, 64110, 9],\n",
       " [68604, 16597, 9],\n",
       " [12296, 16597, 9],\n",
       " [17830, 16597, 9],\n",
       " [44374, 16597, 9],\n",
       " [76481, 16597, 9],\n",
       " [51064, 16597, 9],\n",
       " [53966, 16597, 9],\n",
       " [77214, 16597, 9],\n",
       " [3011, 64110, 9],\n",
       " [26670, 16597, 9],\n",
       " [60815, 16597, 9],\n",
       " [63663, 64110, 9],\n",
       " [66205, 16597, 9],\n",
       " [9827, 16597, 9],\n",
       " [12781, 16597, 9],\n",
       " [11533, 16597, 9],\n",
       " [74219, 16597, 9],\n",
       " [47075, 16597, 9],\n",
       " [49879, 16597, 9],\n",
       " [73226, 16597, 9],\n",
       " [23165, 16597, 9],\n",
       " [28828, 16597, 9],\n",
       " [82730, 16597, 9],\n",
       " [29393, 16597, 9],\n",
       " [35107, 16597, 9],\n",
       " [7643, 16597, 9],\n",
       " [30996, 16597, 9],\n",
       " [62956, 16597, 9],\n",
       " [9380, 64110, 9],\n",
       " [66241, 16597, 9],\n",
       " [8108, 16597, 9],\n",
       " [11028, 16597, 9],\n",
       " [40189, 64110, 9],\n",
       " [15658, 16597, 9],\n",
       " [74257, 16597, 9],\n",
       " [72489, 16597, 9],\n",
       " [75444, 16597, 9],\n",
       " [75994, 16597, 9],\n",
       " [78893, 16597, 9],\n",
       " [20716, 16597, 9],\n",
       " [77728, 16597, 9],\n",
       " [83457, 16597, 9],\n",
       " [27176, 16597, 9],\n",
       " [25393, 16597, 9],\n",
       " [5914, 16597, 9],\n",
       " [40225, 16597, 9],\n",
       " [46082, 16597, 9],\n",
       " [72010, 16597, 9],\n",
       " [18499, 16597, 9],\n",
       " [41882, 64110, 9],\n",
       " [24884, 16597, 9],\n",
       " [52772, 64110, 9],\n",
       " [81699, 64110, 9],\n",
       " [25428, 16597, 9],\n",
       " [26618, 16597, 9],\n",
       " [54466, 16597, 9],\n",
       " [83410, 64110, 9],\n",
       " [27132, 64110, 9],\n",
       " [59100, 16597, 9],\n",
       " [2459, 16597, 9],\n",
       " [5422, 16597, 9],\n",
       " [31650, 16597, 9],\n",
       " [66960, 16597, 9],\n",
       " [8824, 16597, 9],\n",
       " [11747, 64110, 9],\n",
       " [39693, 16597, 9],\n",
       " [42652, 16597, 9],\n",
       " [15174, 16597, 9],\n",
       " [74976, 16597, 9],\n",
       " [73175, 16597, 9],\n",
       " [21445, 16597, 9],\n",
       " [49403, 16597, 9],\n",
       " [78372, 16597, 9],\n",
       " [81230, 64110, 9],\n",
       " [24918, 64110, 9],\n",
       " [57419, 16597, 9],\n",
       " [55711, 16597, 9],\n",
       " [59136, 16597, 9],\n",
       " [3708, 16597, 9],\n",
       " [34630, 64110, 9],\n",
       " [60791, 16597, 9],\n",
       " [63645, 16597, 9],\n",
       " [66454, 16597, 9],\n",
       " [36298, 16597, 9],\n",
       " [39217, 16597, 9],\n",
       " [42130, 16597, 9],\n",
       " [68111, 16597, 9],\n",
       " [14704, 16597, 9],\n",
       " [43865, 16597, 9],\n",
       " [71593, 16597, 9],\n",
       " [13474, 16597, 9],\n",
       " [73213, 16597, 9],\n",
       " [22436, 16597, 9],\n",
       " [82247, 16597, 9],\n",
       " [21484, 16597, 9],\n",
       " [24417, 16597, 9],\n",
       " [83900, 16597, 9],\n",
       " [29372, 16597, 9],\n",
       " [35079, 16597, 9],\n",
       " [61262, 16597, 9],\n",
       " [7630, 16597, 9],\n",
       " [10529, 16597, 9],\n",
       " [69120, 16597, 9],\n",
       " [41907, 16597, 9],\n",
       " [44838, 64110, 9],\n",
       " [17330, 16597, 9],\n",
       " [20215, 16597, 9],\n",
       " [43632, 64110, 9],\n",
       " [74234, 64110, 9],\n",
       " [77258, 16597, 9],\n",
       " [80045, 64110, 9],\n",
       " [75975, 64110, 9],\n",
       " [78874, 64110, 9],\n",
       " [23637, 64110, 9],\n",
       " [30068, 64110, 9],\n",
       " [31674, 64110, 9],\n",
       " [59635, 16597, 9],\n",
       " [62518, 16597, 9],\n",
       " [60770, 64110, 9],\n",
       " [4212, 16597, 9],\n",
       " [33340, 16597, 9],\n",
       " [64138, 16597, 9],\n",
       " [36786, 16597, 9],\n",
       " [39715, 16597, 9],\n",
       " [70774, 16597, 9],\n",
       " [54427, 16597, 9],\n",
       " [2421, 64110, 9],\n",
       " [57818, 16597, 9],\n",
       " [4157, 16597, 9],\n",
       " [5844, 16597, 9],\n",
       " [8781, 16597, 9],\n",
       " [62911, 16597, 9],\n",
       " [40138, 64110, 9],\n",
       " [43079, 16597, 9],\n",
       " [70814, 16597, 9],\n",
       " [18423, 16597, 9],\n",
       " [75394, 16597, 9],\n",
       " [21918, 16597, 9],\n",
       " [81148, 16597, 9],\n",
       " [27764, 16597, 9],\n",
       " [31106, 16597, 9],\n",
       " [36869, 16597, 9],\n",
       " [68018, 16597, 9],\n",
       " [19115, 16597, 9],\n",
       " [22072, 16597, 9],\n",
       " [45431, 16597, 9],\n",
       " [77847, 16597, 9],\n",
       " [79479, 16597, 9],\n",
       " [28967, 16597, 9],\n",
       " [4361, 64110, 9],\n",
       " [30622, 16597, 9],\n",
       " [66848, 16597, 9],\n",
       " [8978, 16597, 9],\n",
       " [65888, 16597, 9],\n",
       " [7719, 16597, 9],\n",
       " [15079, 16597, 9],\n",
       " [41554, 16597, 9],\n",
       " [67520, 16597, 9],\n",
       " [18595, 16597, 9],\n",
       " [75585, 16597, 9],\n",
       " [21846, 16597, 9],\n",
       " [53854, 16597, 9],\n",
       " [23800, 16597, 9],\n",
       " [29499, 16597, 9],\n",
       " [57315, 16597, 9],\n",
       " [7028, 16597, 9],\n",
       " [8752, 16597, 9],\n",
       " [11676, 64110, 9],\n",
       " [42577, 16597, 9],\n",
       " [40798, 16597, 9],\n",
       " [53884, 16597, 9],\n",
       " [58548, 64110, 9],\n",
       " [34014, 16597, 9],\n",
       " [61941, 16597, 9],\n",
       " [6541, 16597, 9],\n",
       " [35691, 16597, 9],\n",
       " [8240, 16597, 9],\n",
       " [11166, 16597, 9],\n",
       " [65196, 64110, 9],\n",
       " [68038, 16597, 9],\n",
       " [71005, 16597, 9],\n",
       " [9906, 16597, 9],\n",
       " [19137, 16597, 9],\n",
       " [48376, 16597, 9],\n",
       " [74317, 16597, 9],\n",
       " [17929, 64110, 9],\n",
       " [48884, 16597, 9],\n",
       " [82355, 16597, 9],\n",
       " [28998, 16597, 9],\n",
       " [55163, 16597, 9],\n",
       " [58049, 16597, 9],\n",
       " [1486, 16597, 9],\n",
       " [27739, 16597, 9],\n",
       " [56801, 16597, 9],\n",
       " [3122, 16597, 9],\n",
       " [6042, 16597, 9],\n",
       " [32297, 64110, 9],\n",
       " [35192, 64110, 9],\n",
       " [10649, 16597, 9],\n",
       " [67533, 16597, 9],\n",
       " [40343, 16597, 9],\n",
       " [43283, 16597, 9],\n",
       " [66324, 16597, 9],\n",
       " [14065, 64110, 9],\n",
       " [44954, 16597, 9],\n",
       " [72653, 16597, 9],\n",
       " [70963, 16597, 9],\n",
       " [73799, 16597, 9],\n",
       " [17437, 16597, 9],\n",
       " [50000, 16597, 9],\n",
       " [76061, 16597, 9],\n",
       " [81847, 16597, 9],\n",
       " [82396, 16597, 9],\n",
       " [53343, 16597, 9],\n",
       " [62641, 16597, 9],\n",
       " [64232, 16597, 9],\n",
       " [8957, 16597, 9],\n",
       " [68721, 64110, 9],\n",
       " [67504, 16597, 9],\n",
       " [16950, 16597, 9],\n",
       " [45002, 16597, 9],\n",
       " [43234, 16597, 9],\n",
       " [46722, 16597, 9],\n",
       " [49509, 64110, 9],\n",
       " [52153, 16597, 9],\n",
       " [51181, 16597, 9],\n",
       " [80123, 16597, 9],\n",
       " [29477, 16597, 9],\n",
       " [980, 16597, 9],\n",
       " [37384, 16597, 9],\n",
       " [63747, 16597, 9],\n",
       " [12903, 16597, 9],\n",
       " [11649, 16597, 9],\n",
       " [14571, 16597, 9],\n",
       " [38101, 16597, 9],\n",
       " [41031, 16597, 9],\n",
       " [71479, 16597, 9],\n",
       " [13613, 64110, 9],\n",
       " [16472, 16597, 9],\n",
       " [44279, 16597, 9],\n",
       " [79517, 16597, 9],\n",
       " [47903, 16597, 9],\n",
       " [81146, 64110, 9],\n",
       " [84022, 16597, 9],\n",
       " [23271, 16597, 9],\n",
       " [56818, 16597, 9],\n",
       " [32323, 16597, 9],\n",
       " [58529, 16597, 9],\n",
       " [33999, 16597, 9],\n",
       " [61917, 64110, 9],\n",
       " [63065, 16597, 9],\n",
       " [9479, 64110, 9],\n",
       " [42039, 64110, 9],\n",
       " [19116, 16597, 9],\n",
       " [45430, 16597, 9],\n",
       " [48360, 16597, 9],\n",
       " [23770, 16597, 9],\n",
       " [77846, 16597, 9],\n",
       " [27278, 16597, 9],\n",
       " [56294, 16597, 9],\n",
       " [79472, 16597, 9],\n",
       " [23046, 16597, 9],\n",
       " [42029, 16597, 9],\n",
       " [74364, 16597, 9],\n",
       " [75547, 16597, 9],\n",
       " [37429, 16597, 9],\n",
       " [40119, 16597, 9],\n",
       " [63562, 16597, 9],\n",
       " [66360, 16597, 9],\n",
       " [36207, 16597, 9],\n",
       " [64057, 64110, 9],\n",
       " [66899, 64110, 9],\n",
       " [8763, 16597, 9],\n",
       " [44307, 64110, 9],\n",
       " [77259, 16597, 9],\n",
       " [9384, 16597, 9],\n",
       " [37309, 16597, 9],\n",
       " [11031, 16597, 9],\n",
       " [67902, 16597, 9],\n",
       " [14486, 16597, 9],\n",
       " [40711, 16597, 9],\n",
       " [75475, 16597, 9],\n",
       " [65463, 16597, 9],\n",
       " [68309, 16597, 9],\n",
       " [14922, 16597, 9],\n",
       " [38183, 16597, 9],\n",
       " [13706, 16597, 9],\n",
       " [16562, 16597, 9],\n",
       " [44595, 64110, 9],\n",
       " [76431, 64110, 9],\n",
       " [22664, 16597, 9],\n",
       " [75151, 16597, 9],\n",
       " [50753, 16597, 9],\n",
       " [1734, 16597, 9],\n",
       " [29830, 16597, 9],\n",
       " [32415, 16597, 9],\n",
       " [35310, 16597, 9],\n",
       " [67649, 16597, 9],\n",
       " [36020, 16597, 9],\n",
       " [46795, 16597, 9],\n",
       " [74458, 16597, 9],\n",
       " [50112, 16597, 9],\n",
       " [79096, 16597, 9],\n",
       " [51798, 16597, 9],\n",
       " [54723, 16597, 9],\n",
       " [78171, 16597, 9],\n",
       " [1111, 64110, 9],\n",
       " [83632, 16597, 9],\n",
       " [30265, 16597, 9],\n",
       " [56400, 16597, 9],\n",
       " [84137, 64110, 9],\n",
       " [2723, 16597, 9],\n",
       " [7351, 16597, 9],\n",
       " [33573, 16597, 9],\n",
       " [64337, 64110, 9],\n",
       " [3449, 16597, 9],\n",
       " [6126, 64110, 9],\n",
       " [6126, 16597, 9],\n",
       " [63425, 16597, 9],\n",
       " [65957, 64110, 9],\n",
       " [12520, 16597, 9],\n",
       " [15444, 16597, 9],\n",
       " [45102, 64110, 9],\n",
       " [71102, 16597, 9],\n",
       " [76965, 64110, 9],\n",
       " [52538, 16597, 9],\n",
       " [78604, 16597, 9],\n",
       " [54188, 16597, 9],\n",
       " [81998, 16597, 9],\n",
       " [83665, 16597, 9],\n",
       " [56428, 16597, 9],\n",
       " [7404, 16597, 9],\n",
       " [62710, 16597, 9],\n",
       " [65492, 16597, 9],\n",
       " [9114, 16597, 9],\n",
       " [73459, 16597, 9],\n",
       " [17087, 16597, 9],\n",
       " [18216, 16597, 9],\n",
       " [46321, 16597, 9],\n",
       " [49192, 16597, 9],\n",
       " [18715, 16597, 9],\n",
       " [21725, 16597, 9],\n",
       " [19909, 16597, 9],\n",
       " [47997, 16597, 9],\n",
       " [78646, 16597, 9],\n",
       " [20439, 16597, 9],\n",
       " [26405, 16597, 9],\n",
       " [49578, 16597, 9],\n",
       " [52487, 16597, 9],\n",
       " [1755, 16597, 9],\n",
       " [28047, 16597, 9],\n",
       " [55970, 16597, 9],\n",
       " [58894, 64110, 9],\n",
       " [31443, 16597, 9],\n",
       " [57625, 16597, 9],\n",
       " [60528, 16597, 9],\n",
       " [3985, 16597, 9],\n",
       " [2182, 16597, 9],\n",
       " [5143, 64110, 9],\n",
       " [59330, 16597, 9],\n",
       " [62192, 16597, 9],\n",
       " [65017, 16597, 9],\n",
       " [8595, 16597, 9],\n",
       " [68357, 16597, 9],\n",
       " [66653, 16597, 9],\n",
       " [41200, 16597, 9],\n",
       " [14901, 16597, 9],\n",
       " [42887, 16597, 9],\n",
       " [16541, 16597, 9],\n",
       " [76416, 16597, 9],\n",
       " [19946, 16597, 9],\n",
       " [50809, 16597, 9],\n",
       " [49149, 16597, 9],\n",
       " [79814, 16597, 9],\n",
       " [52533, 16597, 9],\n",
       " [53664, 16597, 9],\n",
       " [81454, 16597, 9],\n",
       " [84319, 16597, 9],\n",
       " [28096, 16597, 9],\n",
       " [26369, 16597, 9],\n",
       " [57124, 16597, 9],\n",
       " [83135, 16597, 9],\n",
       " [1727, 16597, 9],\n",
       " [35545, 16597, 9],\n",
       " [58846, 16597, 9],\n",
       " [5183, 16597, 9],\n",
       " [37207, 16597, 9],\n",
       " [6821, 16597, 9],\n",
       " [9768, 16597, 9],\n",
       " [69549, 16597, 9],\n",
       " [11477, 16597, 9],\n",
       " [14388, 16597, 9],\n",
       " [68323, 16597, 9],\n",
       " [71300, 64110, 9],\n",
       " [47021, 16597, 9],\n",
       " [19446, 16597, 9],\n",
       " [22394, 64110, 9],\n",
       " [45753, 16597, 9],\n",
       " [48676, 16597, 9],\n",
       " [79356, 16597, 9],\n",
       " [21180, 16597, 9],\n",
       " [24096, 16597, 9],\n",
       " [52028, 16597, 9],\n",
       " [54692, 16597, 9],\n",
       " [78154, 16597, 9],\n",
       " [56634, 16597, 9],\n",
       " [84358, 16597, 9],\n",
       " [4688, 64110, 9],\n",
       " [61747, 64110, 9],\n",
       " [76944, 16597, 9],\n",
       " [49596, 16597, 9],\n",
       " [78587, 16597, 9],\n",
       " [25157, 16597, 9],\n",
       " [48699, 16597, 9],\n",
       " [51529, 16597, 9],\n",
       " [607, 16597, 9],\n",
       " [54748, 16597, 9],\n",
       " [31390, 16597, 9],\n",
       " [62213, 16597, 9],\n",
       " [3939, 64110, 9],\n",
       " [31916, 16597, 9],\n",
       " [80240, 64110, 9],\n",
       " [83156, 16597, 9],\n",
       " [31421, 16597, 9],\n",
       " [62248, 16597, 9],\n",
       " [46421, 16597, 9],\n",
       " [82808, 64110, 9],\n",
       " [17126, 16597, 9],\n",
       " [83273, 16597, 9],\n",
       " [40260, 16597, 9],\n",
       " [22515, 16597, 9],\n",
       " [5439, 16597, 9],\n",
       " [77308, 16597, 9],\n",
       " [16213, 64110, 9],\n",
       " [52371, 16597, 9],\n",
       " [84165, 64110, 9],\n",
       " [26166, 64110, 9],\n",
       " [9609, 16597, 9],\n",
       " [40486, 16597, 9],\n",
       " [68921, 64110, 9],\n",
       " [38257, 16597, 9],\n",
       " [76986, 64110, 9],\n",
       " [26908, 16597, 9],\n",
       " [16650, 64110, 9],\n",
       " [35239, 16597, 9]]"
      ]
     },
     "execution_count": 68,
     "metadata": {},
     "output_type": "execute_result"
    }
   ],
   "source": [
    "for x in [x for x in all_relations if x[2] == relation2id['victimized']]"
   ]
  },
  {
   "cell_type": "markdown",
   "id": "36a1f1df-c2b6-498c-8001-e7a5a3093468",
   "metadata": {
    "tags": []
   },
   "source": [
    "## Analysis"
   ]
  },
  {
   "cell_type": "code",
   "execution_count": 135,
   "id": "d659a0fe-9056-4bcf-94dc-0ac018b6641c",
   "metadata": {},
   "outputs": [
    {
     "data": {
      "text/plain": [
       "387599"
      ]
     },
     "execution_count": 135,
     "metadata": {},
     "output_type": "execute_result"
    }
   ],
   "source": [
    "len(all_relations)"
   ]
  },
  {
   "cell_type": "markdown",
   "id": "8b8fc81b-9bda-4e6d-b6a8-e66793151383",
   "metadata": {},
   "source": [
    "Looking at numbers. crime-group is wrong bc it's not recognizing the lgbtq group..."
   ]
  },
  {
   "cell_type": "code",
   "execution_count": 65,
   "id": "beb6945a-8d22-4136-9385-ab22f5350884",
   "metadata": {},
   "outputs": [
    {
     "data": {
      "text/plain": [
       "(2187, 545, 53275, 51491, 158057, 51491, 738, 502)"
      ]
     },
     "execution_count": 65,
     "metadata": {},
     "output_type": "execute_result"
    }
   ],
   "source": [
    "len(reply_relations), len(mention_relations), len(tweet_hashtag_relations), len(tweet_date_relations), len(tweet_topic_relations), len(user_tweet_relations), len(crime_date_relations), len(crime_group_relations)"
   ]
  },
  {
   "cell_type": "code",
   "execution_count": 71,
   "id": "3d59bea6-a1b6-476a-9995-8d1d4a5eed23",
   "metadata": {},
   "outputs": [
    {
     "data": {
      "text/plain": [
       "318694"
      ]
     },
     "execution_count": 71,
     "metadata": {},
     "output_type": "execute_result"
    }
   ],
   "source": [
    "sum((2187, 545, 53275, 51491, 158057, 51491, 738, 738)) + 172"
   ]
  },
  {
   "cell_type": "markdown",
   "id": "26244e7b-e538-4d92-b5f5-e69fa0eb229b",
   "metadata": {},
   "source": [
    "Plus the length of topic to group triples"
   ]
  },
  {
   "cell_type": "code",
   "execution_count": 63,
   "id": "24d262cd-3073-4159-972d-1f159fc7a7fb",
   "metadata": {},
   "outputs": [
    {
     "data": {
      "text/plain": [
       "318458"
      ]
     },
     "execution_count": 63,
     "metadata": {},
     "output_type": "execute_result"
    }
   ],
   "source": [
    "len(all_relations) + len(top_list)"
   ]
  },
  {
   "cell_type": "code",
   "execution_count": 64,
   "id": "284cbd01-0c4b-4353-b113-4e1022355061",
   "metadata": {},
   "outputs": [
    {
     "data": {
      "text/plain": [
       "172"
      ]
     },
     "execution_count": 64,
     "metadata": {},
     "output_type": "execute_result"
    }
   ],
   "source": [
    "len(top_list)"
   ]
  },
  {
   "cell_type": "code",
   "execution_count": null,
   "id": "01575227-24bd-4593-bd8b-8662e97e780d",
   "metadata": {},
   "outputs": [],
   "source": []
  },
  {
   "cell_type": "code",
   "execution_count": 136,
   "id": "de201054-87fa-4844-9da2-cf3051d80865",
   "metadata": {},
   "outputs": [],
   "source": [
    "all_relations2 = all_relations.copy()"
   ]
  },
  {
   "cell_type": "code",
   "execution_count": 137,
   "id": "50de2e33-8d69-44d2-ae75-0e9e178140f6",
   "metadata": {},
   "outputs": [
    {
     "name": "stderr",
     "output_type": "stream",
     "text": [
      "100%|██████████████████████████████████████████████████████████████████████████████████████████████████████| 387599/387599 [00:00<00:00, 1625740.55it/s]\n"
     ]
    }
   ],
   "source": [
    "for i in tqdm(all_relations2):\n",
    "    i[0] = id2entity[i[0]]\n",
    "    i[1] = id2entity[i[1]]\n",
    "    i[2] = id2relation[i[2]]"
   ]
  },
  {
   "cell_type": "code",
   "execution_count": 138,
   "id": "a047b580-3ee2-4ae3-a37c-899b48d5c6c1",
   "metadata": {},
   "outputs": [],
   "source": [
    "all_relations_df = pd.DataFrame(all_relations2, columns=['head', 'tail', 'relation', 'weight'])"
   ]
  },
  {
   "cell_type": "code",
   "execution_count": 139,
   "id": "8dac3531-ea22-44eb-bf11-f3692e330e3d",
   "metadata": {},
   "outputs": [
    {
     "data": {
      "text/html": [
       "<div>\n",
       "<style scoped>\n",
       "    .dataframe tbody tr th:only-of-type {\n",
       "        vertical-align: middle;\n",
       "    }\n",
       "\n",
       "    .dataframe tbody tr th {\n",
       "        vertical-align: top;\n",
       "    }\n",
       "\n",
       "    .dataframe thead th {\n",
       "        text-align: right;\n",
       "    }\n",
       "</style>\n",
       "<table border=\"1\" class=\"dataframe\">\n",
       "  <thead>\n",
       "    <tr style=\"text-align: right;\">\n",
       "      <th></th>\n",
       "      <th>head</th>\n",
       "      <th>tail</th>\n",
       "      <th>relation</th>\n",
       "      <th>weight</th>\n",
       "    </tr>\n",
       "  </thead>\n",
       "  <tbody>\n",
       "    <tr>\n",
       "      <th>0</th>\n",
       "      <td>(1.2378760749706363e+18, t)</td>\n",
       "      <td>(2251240369.0, u)</td>\n",
       "      <td>replied_to</td>\n",
       "      <td>NaN</td>\n",
       "    </tr>\n",
       "    <tr>\n",
       "      <th>1</th>\n",
       "      <td>(1.2379704931702743e+18, t)</td>\n",
       "      <td>(7.566825919949169e+17, u)</td>\n",
       "      <td>replied_to</td>\n",
       "      <td>NaN</td>\n",
       "    </tr>\n",
       "    <tr>\n",
       "      <th>2</th>\n",
       "      <td>(1.2379788759775887e+18, t)</td>\n",
       "      <td>(135319858.0, u)</td>\n",
       "      <td>replied_to</td>\n",
       "      <td>NaN</td>\n",
       "    </tr>\n",
       "    <tr>\n",
       "      <th>3</th>\n",
       "      <td>(1.2386283599212708e+18, t)</td>\n",
       "      <td>(363269363.0, u)</td>\n",
       "      <td>replied_to</td>\n",
       "      <td>NaN</td>\n",
       "    </tr>\n",
       "    <tr>\n",
       "      <th>4</th>\n",
       "      <td>(1.2390828352326902e+18, t)</td>\n",
       "      <td>(13753532.0, u)</td>\n",
       "      <td>replied_to</td>\n",
       "      <td>NaN</td>\n",
       "    </tr>\n",
       "    <tr>\n",
       "      <th>...</th>\n",
       "      <td>...</td>\n",
       "      <td>...</td>\n",
       "      <td>...</td>\n",
       "      <td>...</td>\n",
       "    </tr>\n",
       "    <tr>\n",
       "      <th>387594</th>\n",
       "      <td>262_hitler youth_youth_hitler_the hitler youth</td>\n",
       "      <td>(jewish, g)</td>\n",
       "      <td>associated_with</td>\n",
       "      <td>NaN</td>\n",
       "    </tr>\n",
       "    <tr>\n",
       "      <th>387595</th>\n",
       "      <td>264_nazi rally_rally_1939_madison square</td>\n",
       "      <td>(jewish, g)</td>\n",
       "      <td>associated_with</td>\n",
       "      <td>NaN</td>\n",
       "    </tr>\n",
       "    <tr>\n",
       "      <th>387596</th>\n",
       "      <td>266_blacklivesmatter theshowmustbepaused https...</td>\n",
       "      <td>(black, g)</td>\n",
       "      <td>associated_with</td>\n",
       "      <td>NaN</td>\n",
       "    </tr>\n",
       "    <tr>\n",
       "      <th>387597</th>\n",
       "      <td>268_truth_georgefloyd_nojusticenopeace_georgef...</td>\n",
       "      <td>(black, g)</td>\n",
       "      <td>associated_with</td>\n",
       "      <td>NaN</td>\n",
       "    </tr>\n",
       "    <tr>\n",
       "      <th>387598</th>\n",
       "      <td>269_slaves_slave_the slave_of the slave</td>\n",
       "      <td>(black, g)</td>\n",
       "      <td>associated_with</td>\n",
       "      <td>NaN</td>\n",
       "    </tr>\n",
       "  </tbody>\n",
       "</table>\n",
       "<p>387599 rows × 4 columns</p>\n",
       "</div>"
      ],
      "text/plain": [
       "                                                     head  \\\n",
       "0                             (1.2378760749706363e+18, t)   \n",
       "1                             (1.2379704931702743e+18, t)   \n",
       "2                             (1.2379788759775887e+18, t)   \n",
       "3                             (1.2386283599212708e+18, t)   \n",
       "4                             (1.2390828352326902e+18, t)   \n",
       "...                                                   ...   \n",
       "387594     262_hitler youth_youth_hitler_the hitler youth   \n",
       "387595           264_nazi rally_rally_1939_madison square   \n",
       "387596  266_blacklivesmatter theshowmustbepaused https...   \n",
       "387597  268_truth_georgefloyd_nojusticenopeace_georgef...   \n",
       "387598            269_slaves_slave_the slave_of the slave   \n",
       "\n",
       "                              tail         relation  weight  \n",
       "0                (2251240369.0, u)       replied_to     NaN  \n",
       "1       (7.566825919949169e+17, u)       replied_to     NaN  \n",
       "2                 (135319858.0, u)       replied_to     NaN  \n",
       "3                 (363269363.0, u)       replied_to     NaN  \n",
       "4                  (13753532.0, u)       replied_to     NaN  \n",
       "...                            ...              ...     ...  \n",
       "387594                 (jewish, g)  associated_with     NaN  \n",
       "387595                 (jewish, g)  associated_with     NaN  \n",
       "387596                  (black, g)  associated_with     NaN  \n",
       "387597                  (black, g)  associated_with     NaN  \n",
       "387598                  (black, g)  associated_with     NaN  \n",
       "\n",
       "[387599 rows x 4 columns]"
      ]
     },
     "execution_count": 139,
     "metadata": {},
     "output_type": "execute_result"
    }
   ],
   "source": [
    "all_relations_df"
   ]
  },
  {
   "cell_type": "code",
   "execution_count": 140,
   "id": "ab0282d1-0ed4-45a9-a3f9-5acc2d422395",
   "metadata": {},
   "outputs": [],
   "source": [
    "all_relations_df.to_csv('./data/kg_all_nocrimes.csv', index=False)"
   ]
  },
  {
   "cell_type": "markdown",
   "id": "340c7644-2fcb-4f34-8627-39efa1d88449",
   "metadata": {
    "tags": []
   },
   "source": [
    "### Analyzing Graph"
   ]
  },
  {
   "cell_type": "code",
   "execution_count": 100,
   "id": "ed82cc7a-9f84-4ca0-9a49-24490b29e18a",
   "metadata": {},
   "outputs": [],
   "source": [
    "graph = nx.DiGraph()\n",
    "\n",
    "# Add edges from the DataFrame\n",
    "for _, row in all_relations_df.iterrows():\n",
    "    graph.add_edge(row['head'], row['tail'], predicate=row['relation'])\n",
    "\n",
    "# Draw the graph\n",
    "# pos = nx.spring_layout(G, seed=42)  # Layout algorithm (you can try other layouts too)\n",
    "# nx.draw(G, pos, with_labels=True, node_color='lightblue', font_size=12, node_size=2000, arrowsize=15)\n",
    "# labels = nx.get_edge_attributes(G, 'predicate')\n",
    "# nx.draw_networkx_edge_labels(G, pos, edge_labels=labels, font_size=10)\n",
    "\n",
    "# plt.title(\"Triplet Data Graph\")\n",
    "# plt.show()"
   ]
  },
  {
   "cell_type": "code",
   "execution_count": 104,
   "id": "7b312f36-0e27-4732-a29b-7ca36eccc926",
   "metadata": {},
   "outputs": [
    {
     "name": "stdout",
     "output_type": "stream",
     "text": [
      "True False\n"
     ]
    }
   ],
   "source": [
    "print(nx.is_weakly_connected(graph), nx.is_strongly_connected(graph))"
   ]
  },
  {
   "cell_type": "code",
   "execution_count": 105,
   "id": "65062bc5-34dc-4ca7-9fc9-89c017af7508",
   "metadata": {},
   "outputs": [
    {
     "name": "stdout",
     "output_type": "stream",
     "text": [
      "7638 14313\n"
     ]
    }
   ],
   "source": [
    "num_nodes = graph.number_of_nodes()\n",
    "num_edges = graph.number_of_edges()\n",
    "\n",
    "print(num_nodes, num_edges)"
   ]
  },
  {
   "cell_type": "code",
   "execution_count": 106,
   "id": "122afe29-094e-4593-8aef-9f6c121593f9",
   "metadata": {
    "tags": []
   },
   "outputs": [
    {
     "ename": "NetworkXError",
     "evalue": "Found infinite path length because the digraph is not strongly connected",
     "output_type": "error",
     "traceback": [
      "\u001b[0;31m---------------------------------------------------------------------------\u001b[0m",
      "\u001b[0;31mNetworkXError\u001b[0m                             Traceback (most recent call last)",
      "Cell \u001b[0;32mIn[106], line 1\u001b[0m\n\u001b[0;32m----> 1\u001b[0m diameter \u001b[38;5;241m=\u001b[39m \u001b[43mnx\u001b[49m\u001b[38;5;241;43m.\u001b[39;49m\u001b[43mdiameter\u001b[49m\u001b[43m(\u001b[49m\u001b[43mgraph\u001b[49m\u001b[43m)\u001b[49m\n\u001b[1;32m      2\u001b[0m \u001b[38;5;28mprint\u001b[39m(diameter)\n",
      "File \u001b[0;32m~/opt/anaconda3/lib/python3.9/site-packages/networkx/algorithms/distance_measures.py:388\u001b[0m, in \u001b[0;36mdiameter\u001b[0;34m(G, e, usebounds)\u001b[0m\n\u001b[1;32m    386\u001b[0m     \u001b[38;5;28;01mreturn\u001b[39;00m _extrema_bounding(G, compute\u001b[38;5;241m=\u001b[39m\u001b[38;5;124m\"\u001b[39m\u001b[38;5;124mdiameter\u001b[39m\u001b[38;5;124m\"\u001b[39m)\n\u001b[1;32m    387\u001b[0m \u001b[38;5;28;01mif\u001b[39;00m e \u001b[38;5;129;01mis\u001b[39;00m \u001b[38;5;28;01mNone\u001b[39;00m:\n\u001b[0;32m--> 388\u001b[0m     e \u001b[38;5;241m=\u001b[39m \u001b[43meccentricity\u001b[49m\u001b[43m(\u001b[49m\u001b[43mG\u001b[49m\u001b[43m)\u001b[49m\n\u001b[1;32m    389\u001b[0m \u001b[38;5;28;01mreturn\u001b[39;00m \u001b[38;5;28mmax\u001b[39m(e\u001b[38;5;241m.\u001b[39mvalues())\n",
      "File \u001b[0;32m~/opt/anaconda3/lib/python3.9/site-packages/networkx/algorithms/distance_measures.py:347\u001b[0m, in \u001b[0;36meccentricity\u001b[0;34m(G, v, sp)\u001b[0m\n\u001b[1;32m    345\u001b[0m         \u001b[38;5;28;01melse\u001b[39;00m:\n\u001b[1;32m    346\u001b[0m             msg \u001b[38;5;241m=\u001b[39m \u001b[38;5;124m\"\u001b[39m\u001b[38;5;124mFound infinite path length because the graph is not\u001b[39m\u001b[38;5;124m\"\u001b[39m \u001b[38;5;124m\"\u001b[39m\u001b[38;5;124m connected\u001b[39m\u001b[38;5;124m\"\u001b[39m\n\u001b[0;32m--> 347\u001b[0m         \u001b[38;5;28;01mraise\u001b[39;00m nx\u001b[38;5;241m.\u001b[39mNetworkXError(msg)\n\u001b[1;32m    349\u001b[0m     e[n] \u001b[38;5;241m=\u001b[39m \u001b[38;5;28mmax\u001b[39m(length\u001b[38;5;241m.\u001b[39mvalues())\n\u001b[1;32m    351\u001b[0m \u001b[38;5;28;01mif\u001b[39;00m v \u001b[38;5;129;01min\u001b[39;00m G:\n",
      "\u001b[0;31mNetworkXError\u001b[0m: Found infinite path length because the digraph is not strongly connected"
     ]
    }
   ],
   "source": [
    "diameter = nx.diameter(graph)\n",
    "print(diameter)"
   ]
  },
  {
   "cell_type": "code",
   "execution_count": 107,
   "id": "e63def94-abbc-46b2-81c7-7b2158173591",
   "metadata": {
    "tags": []
   },
   "outputs": [
    {
     "name": "stdout",
     "output_type": "stream",
     "text": [
      "0.0\n"
     ]
    }
   ],
   "source": [
    "clustering_coefficient = nx.average_clustering(graph)\n",
    "print(clustering_coefficient)"
   ]
  },
  {
   "cell_type": "code",
   "execution_count": 108,
   "id": "416249d5-bb2b-4830-aea0-0490c9ea41ff",
   "metadata": {
    "collapsed": true,
    "jupyter": {
     "outputs_hidden": true
    },
    "tags": []
   },
   "outputs": [
    {
     "ename": "KeyboardInterrupt",
     "evalue": "",
     "output_type": "error",
     "traceback": [
      "\u001b[0;31m---------------------------------------------------------------------------\u001b[0m",
      "\u001b[0;31mKeyboardInterrupt\u001b[0m                         Traceback (most recent call last)",
      "Cell \u001b[0;32mIn[108], line 2\u001b[0m\n\u001b[1;32m      1\u001b[0m degree_centrality \u001b[38;5;241m=\u001b[39m nx\u001b[38;5;241m.\u001b[39mdegree_centrality(graph)\n\u001b[0;32m----> 2\u001b[0m betweenness_centrality \u001b[38;5;241m=\u001b[39m \u001b[43mnx\u001b[49m\u001b[38;5;241;43m.\u001b[39;49m\u001b[43mbetweenness_centrality\u001b[49m\u001b[43m(\u001b[49m\u001b[43mgraph\u001b[49m\u001b[43m)\u001b[49m\n\u001b[1;32m      3\u001b[0m closeness_centrality \u001b[38;5;241m=\u001b[39m nx\u001b[38;5;241m.\u001b[39mcloseness_centrality(graph)\n",
      "File \u001b[0;32m~/opt/anaconda3/lib/python3.9/site-packages/networkx/utils/decorators.py:845\u001b[0m, in \u001b[0;36margmap.__call__.<locals>.func\u001b[0;34m(_argmap__wrapper, *args, **kwargs)\u001b[0m\n\u001b[1;32m    844\u001b[0m \u001b[38;5;28;01mdef\u001b[39;00m \u001b[38;5;21mfunc\u001b[39m(\u001b[38;5;241m*\u001b[39margs, __wrapper\u001b[38;5;241m=\u001b[39m\u001b[38;5;28;01mNone\u001b[39;00m, \u001b[38;5;241m*\u001b[39m\u001b[38;5;241m*\u001b[39mkwargs):\n\u001b[0;32m--> 845\u001b[0m     \u001b[38;5;28;01mreturn\u001b[39;00m \u001b[43margmap\u001b[49m\u001b[38;5;241;43m.\u001b[39;49m\u001b[43m_lazy_compile\u001b[49m\u001b[43m(\u001b[49m\u001b[43m__wrapper\u001b[49m\u001b[43m)\u001b[49m\u001b[43m(\u001b[49m\u001b[38;5;241;43m*\u001b[39;49m\u001b[43margs\u001b[49m\u001b[43m,\u001b[49m\u001b[43m \u001b[49m\u001b[38;5;241;43m*\u001b[39;49m\u001b[38;5;241;43m*\u001b[39;49m\u001b[43mkwargs\u001b[49m\u001b[43m)\u001b[49m\n",
      "File \u001b[0;32m<class 'networkx.utils.decorators.argmap'> compilation 28:4\u001b[0m, in \u001b[0;36margmap_betweenness_centrality_25\u001b[0;34m(G, k, normalized, weight, endpoints, seed)\u001b[0m\n\u001b[1;32m      2\u001b[0m \u001b[38;5;28;01mimport\u001b[39;00m \u001b[38;5;21;01mcollections\u001b[39;00m\n\u001b[1;32m      3\u001b[0m \u001b[38;5;28;01mimport\u001b[39;00m \u001b[38;5;21;01mgzip\u001b[39;00m\n\u001b[0;32m----> 4\u001b[0m \u001b[38;5;28;01mimport\u001b[39;00m \u001b[38;5;21;01minspect\u001b[39;00m\n\u001b[1;32m      5\u001b[0m \u001b[38;5;28;01mimport\u001b[39;00m \u001b[38;5;21;01mitertools\u001b[39;00m\n\u001b[1;32m      6\u001b[0m \u001b[38;5;28;01mimport\u001b[39;00m \u001b[38;5;21;01mre\u001b[39;00m\n",
      "File \u001b[0;32m~/opt/anaconda3/lib/python3.9/site-packages/networkx/algorithms/centrality/betweenness.py:130\u001b[0m, in \u001b[0;36mbetweenness_centrality\u001b[0;34m(G, k, normalized, weight, endpoints, seed)\u001b[0m\n\u001b[1;32m    127\u001b[0m \u001b[38;5;28;01mfor\u001b[39;00m s \u001b[38;5;129;01min\u001b[39;00m nodes:\n\u001b[1;32m    128\u001b[0m     \u001b[38;5;66;03m# single source shortest paths\u001b[39;00m\n\u001b[1;32m    129\u001b[0m     \u001b[38;5;28;01mif\u001b[39;00m weight \u001b[38;5;129;01mis\u001b[39;00m \u001b[38;5;28;01mNone\u001b[39;00m:  \u001b[38;5;66;03m# use BFS\u001b[39;00m\n\u001b[0;32m--> 130\u001b[0m         S, P, sigma, _ \u001b[38;5;241m=\u001b[39m \u001b[43m_single_source_shortest_path_basic\u001b[49m\u001b[43m(\u001b[49m\u001b[43mG\u001b[49m\u001b[43m,\u001b[49m\u001b[43m \u001b[49m\u001b[43ms\u001b[49m\u001b[43m)\u001b[49m\n\u001b[1;32m    131\u001b[0m     \u001b[38;5;28;01melse\u001b[39;00m:  \u001b[38;5;66;03m# use Dijkstra's algorithm\u001b[39;00m\n\u001b[1;32m    132\u001b[0m         S, P, sigma, _ \u001b[38;5;241m=\u001b[39m _single_source_dijkstra_path_basic(G, s, weight)\n",
      "File \u001b[0;32m~/opt/anaconda3/lib/python3.9/site-packages/networkx/algorithms/centrality/betweenness.py:260\u001b[0m, in \u001b[0;36m_single_source_shortest_path_basic\u001b[0;34m(G, s)\u001b[0m\n\u001b[1;32m    258\u001b[0m P \u001b[38;5;241m=\u001b[39m {}\n\u001b[1;32m    259\u001b[0m \u001b[38;5;28;01mfor\u001b[39;00m v \u001b[38;5;129;01min\u001b[39;00m G:\n\u001b[0;32m--> 260\u001b[0m     P[v] \u001b[38;5;241m=\u001b[39m []\n\u001b[1;32m    261\u001b[0m sigma \u001b[38;5;241m=\u001b[39m \u001b[38;5;28mdict\u001b[39m\u001b[38;5;241m.\u001b[39mfromkeys(G, \u001b[38;5;241m0.0\u001b[39m)  \u001b[38;5;66;03m# sigma[v]=0 for v in G\u001b[39;00m\n\u001b[1;32m    262\u001b[0m D \u001b[38;5;241m=\u001b[39m {}\n",
      "\u001b[0;31mKeyboardInterrupt\u001b[0m: "
     ]
    }
   ],
   "source": [
    "degree_centrality = nx.degree_centrality(graph)\n",
    "betweenness_centrality = nx.betweenness_centrality(graph)\n",
    "closeness_centrality = nx.closeness_centrality(graph)"
   ]
  },
  {
   "cell_type": "code",
   "execution_count": 111,
   "id": "e0af2634-1a3c-48bc-b02e-feec9adec4a1",
   "metadata": {},
   "outputs": [
    {
     "data": {
      "text/plain": [
       "7638"
      ]
     },
     "execution_count": 111,
     "metadata": {},
     "output_type": "execute_result"
    }
   ],
   "source": [
    "list(nx.strongly_connected_components(graph))"
   ]
  },
  {
   "cell_type": "code",
   "execution_count": 113,
   "id": "7c9a58e4-9c0c-4af3-9936-69e6540827fe",
   "metadata": {},
   "outputs": [
    {
     "name": "stdout",
     "output_type": "stream",
     "text": [
      "Most central node(s) by degree centrality: 2_blacks_people_word_non\n"
     ]
    }
   ],
   "source": [
    "degree_centrality = nx.degree_centrality(graph)\n",
    "\n",
    "# Get the most central node(s)\n",
    "most_central_nodes = max(degree_centrality, key=degree_centrality.get)\n",
    "\n",
    "print(\"Most central node(s) by degree centrality:\", most_central_nodes)"
   ]
  },
  {
   "cell_type": "code",
   "execution_count": 114,
   "id": "1c17e763-2d0a-4cba-ad01-89a931d8deaa",
   "metadata": {
    "collapsed": true,
    "jupyter": {
     "outputs_hidden": true
    },
    "tags": []
   },
   "outputs": [
    {
     "data": {
      "text/plain": [
       "{(1.2376865718364242e+18, 't'): 0.00026188293832656804,\n",
       " '2020-03-11': 0.0006547073458164201,\n",
       " (1.2377159175359734e+18, 't'): 0.00026188293832656804,\n",
       " (1.2377608926341898e+18, 't'): 0.00026188293832656804,\n",
       " (1.237764192116953e+18, 't'): 0.00026188293832656804,\n",
       " (1.237818232062407e+18, 't'): 0.00026188293832656804,\n",
       " (1.2379137078306245e+18, 't'): 0.00026188293832656804,\n",
       " '2020-03-12': 0.0011784732224695562,\n",
       " (1.2379166352115466e+18, 't'): 0.00026188293832656804,\n",
       " (1.2379447074826772e+18, 't'): 0.00026188293832656804,\n",
       " (1.2379788759775887e+18, 't'): 0.00026188293832656804,\n",
       " (1.2379802084031035e+18, 't'): 0.00026188293832656804,\n",
       " (1.2381052296539914e+18, 't'): 0.00026188293832656804,\n",
       " (1.2382028469164278e+18, 't'): 0.00026188293832656804,\n",
       " (1.2382547500906086e+18, 't'): 0.00026188293832656804,\n",
       " '2020-03-13': 0.0014403561607961243,\n",
       " (1.2382705550835098e+18, 't'): 0.00026188293832656804,\n",
       " (1.2383056563496755e+18, 't'): 0.00026188293832656804,\n",
       " (1.238323544003494e+18, 't'): 0.00026188293832656804,\n",
       " (1.2385408727879557e+18, 't'): 0.00026188293832656804,\n",
       " (1.2385429713954324e+18, 't'): 0.00026188293832656804,\n",
       " (1.2385949984523592e+18, 't'): 0.00026188293832656804,\n",
       " (1.2386158245517066e+18, 't'): 0.00026188293832656804,\n",
       " (1.238618361686143e+18, 't'): 0.00026188293832656804,\n",
       " '2020-03-14': 0.0007856488149797041,\n",
       " (1.238639487900463e+18, 't'): 0.00026188293832656804,\n",
       " (1.238890780254548e+18, 't'): 0.00026188293832656804,\n",
       " (1.238905656465191e+18, 't'): 0.00026188293832656804,\n",
       " (1.2389088342754427e+18, 't'): 0.00026188293832656804,\n",
       " (1.2389983144834007e+18, 't'): 0.00026188293832656804,\n",
       " '2020-03-15': 0.0005237658766531361,\n",
       " (1.2391593188023828e+18, 't'): 0.00026188293832656804,\n",
       " (1.239211348770173e+18, 't'): 0.00026188293832656804,\n",
       " (1.2393737288254628e+18, 't'): 0.00026188293832656804,\n",
       " '2020-03-16': 0.0006547073458164201,\n",
       " (1.2395841854104166e+18, 't'): 0.00026188293832656804,\n",
       " (1.239631479409234e+18, 't'): 0.00026188293832656804,\n",
       " (1.2396468105382584e+18, 't'): 0.00026188293832656804,\n",
       " (1.2396682380084552e+18, 't'): 0.00026188293832656804,\n",
       " (1.2397201140034314e+18, 't'): 0.00026188293832656804,\n",
       " '2020-03-17': 0.0010475317533062722,\n",
       " (1.2397401272717435e+18, 't'): 0.00026188293832656804,\n",
       " (1.2397466485252997e+18, 't'): 0.00026188293832656804,\n",
       " (1.2397699156423598e+18, 't'): 0.00026188293832656804,\n",
       " (1.2398184561296302e+18, 't'): 0.00026188293832656804,\n",
       " (1.2398908443808727e+18, 't'): 0.00026188293832656804,\n",
       " (1.239897619205247e+18, 't'): 0.00026188293832656804,\n",
       " (1.2400075668615987e+18, 't'): 0.00026188293832656804,\n",
       " (1.2400802059363942e+18, 't'): 0.00026188293832656804,\n",
       " '2020-03-18': 0.0018331805682859762,\n",
       " (1.2400869000833147e+18, 't'): 0.00026188293832656804,\n",
       " (1.240088337899065e+18, 't'): 0.00026188293832656804,\n",
       " (1.2400987892448625e+18, 't'): 0.00026188293832656804,\n",
       " (1.240106251456938e+18, 't'): 0.00026188293832656804,\n",
       " (1.2401214215248443e+18, 't'): 0.00026188293832656804,\n",
       " (1.2401610500177183e+18, 't'): 0.00026188293832656804,\n",
       " (1.2401612200086692e+18, 't'): 0.00026188293832656804,\n",
       " (1.2403879995417272e+18, 't'): 0.00026188293832656804,\n",
       " (1.240392546913665e+18, 't'): 0.00026188293832656804,\n",
       " (1.240405395727962e+18, 't'): 0.00026188293832656804,\n",
       " (1.2404397098236928e+18, 't'): 0.00026188293832656804,\n",
       " '2020-03-19': 0.0006547073458164201,\n",
       " (1.240459941942571e+18, 't'): 0.00026188293832656804,\n",
       " (1.2405504832294584e+18, 't'): 0.00026188293832656804,\n",
       " (1.2407052268830065e+18, 't'): 0.00026188293832656804,\n",
       " (1.2407070620587336e+18, 't'): 0.00026188293832656804,\n",
       " (1.2408054636476498e+18, 't'): 0.00026188293832656804,\n",
       " '2020-03-20': 0.0009165902841429881,\n",
       " (1.2408783160950415e+18, 't'): 0.00026188293832656804,\n",
       " (1.2408817044467343e+18, 't'): 0.00026188293832656804,\n",
       " (1.240882831091327e+18, 't'): 0.00026188293832656804,\n",
       " (1.2409961755047936e+18, 't'): 0.00026188293832656804,\n",
       " (1.241027291393581e+18, 't'): 0.00026188293832656804,\n",
       " (1.2410362070538158e+18, 't'): 0.00026188293832656804,\n",
       " (1.2411876550705275e+18, 't'): 0.00026188293832656804,\n",
       " '2020-03-21': 0.0006547073458164201,\n",
       " (1.2414365103452938e+18, 't'): 0.00026188293832656804,\n",
       " (1.241454562742915e+18, 't'): 0.00026188293832656804,\n",
       " (1.2414658531382395e+18, 't'): 0.00026188293832656804,\n",
       " (1.2418008651171144e+18, 't'): 0.00026188293832656804,\n",
       " '2020-03-22': 0.0005237658766531361,\n",
       " (1.2418073493728543e+18, 't'): 0.00026188293832656804,\n",
       " (1.2418284156840182e+18, 't'): 0.00026188293832656804,\n",
       " (1.241836960479494e+18, 't'): 0.00026188293832656804,\n",
       " (1.241881602382127e+18, 't'): 0.00026188293832656804,\n",
       " '2020-03-23': 0.0007856488149797041,\n",
       " (1.2419581117341614e+18, 't'): 0.00026188293832656804,\n",
       " (1.2419872577345864e+18, 't'): 0.00026188293832656804,\n",
       " (1.2421071312910377e+18, 't'): 0.00026188293832656804,\n",
       " (1.2421229041349755e+18, 't'): 0.00026188293832656804,\n",
       " (1.2421439451753595e+18, 't'): 0.00026188293832656804,\n",
       " (1.2422810053370675e+18, 't'): 0.00026188293832656804,\n",
       " '2020-03-24': 0.0006547073458164201,\n",
       " (1.242322376588583e+18, 't'): 0.00026188293832656804,\n",
       " (1.242335924509266e+18, 't'): 0.00026188293832656804,\n",
       " (1.2425614986201293e+18, 't'): 0.00026188293832656804,\n",
       " (1.242591927674921e+18, 't'): 0.00026188293832656804,\n",
       " (1.2426327764377395e+18, 't'): 0.00026188293832656804,\n",
       " '2020-03-25': 0.0011784732224695562,\n",
       " (1.2426750022075023e+18, 't'): 0.00026188293832656804,\n",
       " (1.2428605625574892e+18, 't'): 0.00026188293832656804,\n",
       " (1.242879259607044e+18, 't'): 0.00026188293832656804,\n",
       " (1.2428793774418452e+18, 't'): 0.00026188293832656804,\n",
       " (1.2429484745025577e+18, 't'): 0.00026188293832656804,\n",
       " (1.2429497911615406e+18, 't'): 0.00026188293832656804,\n",
       " (1.242972404663472e+18, 't'): 0.00026188293832656804,\n",
       " '2020-03-26': 0.0007856488149797041,\n",
       " (1.2429866919602708e+18, 't'): 0.00026188293832656804,\n",
       " (1.2430136821723177e+18, 't'): 0.00026188293832656804,\n",
       " (1.243211139711783e+18, 't'): 0.00026188293832656804,\n",
       " (1.2432738472577556e+18, 't'): 0.00026188293832656804,\n",
       " (1.2433707049987643e+18, 't'): 0.00026188293832656804,\n",
       " '2020-03-27': 0.0005237658766531361,\n",
       " (1.2435457713556357e+18, 't'): 0.00026188293832656804,\n",
       " (1.243685970630697e+18, 't'): 0.00026188293832656804,\n",
       " (1.2436882600034796e+18, 't'): 0.00026188293832656804,\n",
       " (1.2436928383757148e+18, 't'): 0.00026188293832656804,\n",
       " '2020-03-28': 0.0013094146916328403,\n",
       " (1.2437521223799153e+18, 't'): 0.00026188293832656804,\n",
       " (1.243782855785771e+18, 't'): 0.00026188293832656804,\n",
       " (1.2437878564698767e+18, 't'): 0.00026188293832656804,\n",
       " (1.2439505313802977e+18, 't'): 0.00026188293832656804,\n",
       " (1.24395137576081e+18, 't'): 0.00026188293832656804,\n",
       " (1.243976380154409e+18, 't'): 0.00026188293832656804,\n",
       " (1.243983859487662e+18, 't'): 0.00026188293832656804,\n",
       " (1.2439982550687457e+18, 't'): 0.00026188293832656804,\n",
       " (1.244006307897561e+18, 't'): 0.00026188293832656804,\n",
       " (1.2440609874827223e+18, 't'): 0.00026188293832656804,\n",
       " '2020-03-29': 0.0009165902841429881,\n",
       " (1.2440785949444628e+18, 't'): 0.00026188293832656804,\n",
       " (1.2440798261027103e+18, 't'): 0.00026188293832656804,\n",
       " (1.2440867532893102e+18, 't'): 0.00026188293832656804,\n",
       " (1.244275768600879e+18, 't'): 0.00026188293832656804,\n",
       " (1.244291997189288e+18, 't'): 0.00026188293832656804,\n",
       " (1.244476754929959e+18, 't'): 0.00026188293832656804,\n",
       " '2020-03-30': 0.00039282440748985203,\n",
       " (1.2450044369355694e+18, 't'): 0.00026188293832656804,\n",
       " '2020-03-31': 0.0005237658766531361,\n",
       " (1.2450385189690655e+18, 't'): 0.00026188293832656804,\n",
       " (1.2451237594485432e+18, 't'): 0.00026188293832656804,\n",
       " (1.2451667426507694e+18, 't'): 0.00026188293832656804,\n",
       " '2020-04-01': 0.0014403561607961243,\n",
       " (1.2451855166828585e+18, 't'): 0.00026188293832656804,\n",
       " (1.2452098414144965e+18, 't'): 0.00026188293832656804,\n",
       " (1.245234430525862e+18, 't'): 0.00026188293832656804,\n",
       " (1.2453167628805038e+18, 't'): 0.00026188293832656804,\n",
       " (1.2453655542794076e+18, 't'): 0.00026188293832656804,\n",
       " (1.245387712632406e+18, 't'): 0.00026188293832656804,\n",
       " (1.2454486030756127e+18, 't'): 0.00026188293832656804,\n",
       " (1.2455006939657216e+18, 't'): 0.00026188293832656804,\n",
       " (1.2455334645495644e+18, 't'): 0.00026188293832656804,\n",
       " '2020-04-02': 0.0005237658766531361,\n",
       " (1.2456631303334912e+18, 't'): 0.00026188293832656804,\n",
       " (1.2457939738991534e+18, 't'): 0.00026188293832656804,\n",
       " (1.2460945790880197e+18, 't'): 0.00026188293832656804,\n",
       " '2020-04-03': 0.0005237658766531361,\n",
       " (1.2461413807216927e+18, 't'): 0.00026188293832656804,\n",
       " (1.2461720833038008e+18, 't'): 0.00026188293832656804,\n",
       " (1.246181506357162e+18, 't'): 0.00026188293832656804,\n",
       " (1.246309354547974e+18, 't'): 0.00026188293832656804,\n",
       " '2020-04-04': 0.0011784732224695562,\n",
       " (1.246361713986818e+18, 't'): 0.00026188293832656804,\n",
       " (1.2464712681924444e+18, 't'): 0.00026188293832656804,\n",
       " (1.2464906834451374e+18, 't'): 0.00026188293832656804,\n",
       " (1.246515426143527e+18, 't'): 0.00026188293832656804,\n",
       " (1.2465285932004805e+18, 't'): 0.00026188293832656804,\n",
       " (1.2465524157104988e+18, 't'): 0.00026188293832656804,\n",
       " (1.2465890195734733e+18, 't'): 0.00026188293832656804,\n",
       " '2020-04-05': 0.0015712976299594081,\n",
       " (1.2466151336751104e+18, 't'): 0.00026188293832656804,\n",
       " (1.2466320110636892e+18, 't'): 0.00026188293832656804,\n",
       " (1.2466458192451297e+18, 't'): 0.00026188293832656804,\n",
       " (1.2466588365276447e+18, 't'): 0.00026188293832656804,\n",
       " (1.2466642751222456e+18, 't'): 0.00026188293832656804,\n",
       " (1.2466731776079544e+18, 't'): 0.00026188293832656804,\n",
       " (1.2468713386245038e+18, 't'): 0.00026188293832656804,\n",
       " (1.246893503373701e+18, 't'): 0.00026188293832656804,\n",
       " (1.2469224557482025e+18, 't'): 0.00026188293832656804,\n",
       " (1.246941650204549e+18, 't'): 0.00026188293832656804,\n",
       " (1.2469843492175217e+18, 't'): 0.00026188293832656804,\n",
       " '2020-04-06': 0.0009165902841429881,\n",
       " (1.2471694735990006e+18, 't'): 0.00026188293832656804,\n",
       " (1.2471745256381604e+18, 't'): 0.00026188293832656804,\n",
       " (1.247188337158312e+18, 't'): 0.00026188293832656804,\n",
       " (1.2472451302240666e+18, 't'): 0.00026188293832656804,\n",
       " (1.247245440858362e+18, 't'): 0.00026188293832656804,\n",
       " (1.2472715733602345e+18, 't'): 0.00026188293832656804,\n",
       " (1.2473292165063844e+18, 't'): 0.00026188293832656804,\n",
       " '2020-04-07': 0.0018331805682859762,\n",
       " (1.2473422026336092e+18, 't'): 0.00026188293832656804,\n",
       " (1.2473515686947758e+18, 't'): 0.00026188293832656804,\n",
       " (1.2473737092302725e+18, 't'): 0.00026188293832656804,\n",
       " (1.2473945110403113e+18, 't'): 0.00026188293832656804,\n",
       " (1.2473970125484196e+18, 't'): 0.00026188293832656804,\n",
       " (1.2474187271019192e+18, 't'): 0.00026188293832656804,\n",
       " (1.2474527537076838e+18, 't'): 0.00026188293832656804,\n",
       " (1.247455498535764e+18, 't'): 0.00026188293832656804,\n",
       " (1.247521202500858e+18, 't'): 0.00026188293832656804,\n",
       " (1.2475630090835397e+18, 't'): 0.00026188293832656804,\n",
       " (1.247600454248198e+18, 't'): 0.00026188293832656804,\n",
       " (1.2476169065356575e+18, 't'): 0.00026188293832656804,\n",
       " (1.2476645529986212e+18, 't'): 0.00026188293832656804,\n",
       " (1.2477037672664105e+18, 't'): 0.00026188293832656804,\n",
       " '2020-04-08': 0.0013094146916328403,\n",
       " (1.2477691182346609e+18, 't'): 0.00026188293832656804,\n",
       " (1.247796907222524e+18, 't'): 0.00026188293832656804,\n",
       " (1.2479119388031713e+18, 't'): 0.00026188293832656804,\n",
       " (1.2479146770545377e+18, 't'): 0.00026188293832656804,\n",
       " (1.2479917105771315e+18, 't'): 0.00026188293832656804,\n",
       " (1.2479946049236787e+18, 't'): 0.00026188293832656804,\n",
       " (1.2479964523972895e+18, 't'): 0.00026188293832656804,\n",
       " (1.2480266928804127e+18, 't'): 0.00026188293832656804,\n",
       " (1.248116968135078e+18, 't'): 0.00026188293832656804,\n",
       " '2020-04-09': 0.00039282440748985203,\n",
       " (1.2481300168287764e+18, 't'): 0.00026188293832656804,\n",
       " (1.248256655252263e+18, 't'): 0.00026188293832656804,\n",
       " (1.2484082338839962e+18, 't'): 0.00026188293832656804,\n",
       " '2020-04-10': 0.0013094146916328403,\n",
       " (1.2484210195780198e+18, 't'): 0.00026188293832656804,\n",
       " (1.248422748860248e+18, 't'): 0.00026188293832656804,\n",
       " (1.2484249298941338e+18, 't'): 0.00026188293832656804,\n",
       " (1.248457880912552e+18, 't'): 0.00026188293832656804,\n",
       " (1.2485403552317645e+18, 't'): 0.00026188293832656804,\n",
       " (1.2486478454411796e+18, 't'): 0.00026188293832656804,\n",
       " (1.2487420899798753e+18, 't'): 0.00026188293832656804,\n",
       " (1.2487482967402988e+18, 't'): 0.00026188293832656804,\n",
       " (1.248765583186727e+18, 't'): 0.00026188293832656804,\n",
       " '2020-04-11': 0.0018331805682859762,\n",
       " (1.2487679099098112e+18, 't'): 0.00026188293832656804,\n",
       " (1.2487757909776794e+18, 't'): 0.00026188293832656804,\n",
       " (1.2488426561315922e+18, 't'): 0.00026188293832656804,\n",
       " (1.2488534761650831e+18, 't'): 0.00026188293832656804,\n",
       " (1.2488911392911155e+18, 't'): 0.00026188293832656804,\n",
       " (1.2490282549266596e+18, 't'): 0.00026188293832656804,\n",
       " (1.2490418020758118e+18, 't'): 0.00026188293832656804,\n",
       " (1.2490434040229233e+18, 't'): 0.00026188293832656804,\n",
       " (1.2490456977242153e+18, 't'): 0.00026188293832656804,\n",
       " (1.2490463591113892e+18, 't'): 0.00026188293832656804,\n",
       " (1.2491081317972828e+18, 't'): 0.00026188293832656804,\n",
       " (1.249119476215353e+18, 't'): 0.00026188293832656804,\n",
       " (1.2491783946438328e+18, 't'): 0.00026188293832656804,\n",
       " '2020-04-12': 0.0011784732224695562,\n",
       " (1.2492476087003177e+18, 't'): 0.00026188293832656804,\n",
       " (1.2493445337053143e+18, 't'): 0.00026188293832656804,\n",
       " (1.2493684298127892e+18, 't'): 0.00026188293832656804,\n",
       " (1.2493918506471588e+18, 't'): 0.00026188293832656804,\n",
       " (1.2494460884922e+18, 't'): 0.00026188293832656804,\n",
       " (1.249465272878023e+18, 't'): 0.00026188293832656804,\n",
       " (1.2494681838088645e+18, 't'): 0.00026188293832656804,\n",
       " (1.249518872345981e+18, 't'): 0.00026188293832656804,\n",
       " '2020-04-13': 0.0009165902841429881,\n",
       " (1.2495189559636337e+18, 't'): 0.00026188293832656804,\n",
       " (1.2495202113650033e+18, 't'): 0.00026188293832656804,\n",
       " (1.2495669058131968e+18, 't'): 0.00026188293832656804,\n",
       " (1.2497140769738506e+18, 't'): 0.00026188293832656804,\n",
       " (1.24977300322048e+18, 't'): 0.00026188293832656804,\n",
       " (1.2498005934570455e+18, 't'): 0.00026188293832656804,\n",
       " (1.2499258216213668e+18, 't'): 0.00026188293832656804,\n",
       " '2020-04-14': 0.0011784732224695562,\n",
       " (1.2499442066608742e+18, 't'): 0.00026188293832656804,\n",
       " (1.2499917264474808e+18, 't'): 0.00026188293832656804,\n",
       " (1.2500911957971436e+18, 't'): 0.00026188293832656804,\n",
       " (1.250124793698873e+18, 't'): 0.00026188293832656804,\n",
       " (1.250145052296274e+18, 't'): 0.00026188293832656804,\n",
       " (1.2501603488348488e+18, 't'): 0.00026188293832656804,\n",
       " (1.2501843132424397e+18, 't'): 0.00026188293832656804,\n",
       " (1.250231718855856e+18, 't'): 0.00026188293832656804,\n",
       " '2020-04-15': 0.0015712976299594081,\n",
       " (1.250233337194537e+18, 't'): 0.00026188293832656804,\n",
       " (1.2502400474685727e+18, 't'): 0.00026188293832656804,\n",
       " (1.2502640470915072e+18, 't'): 0.00026188293832656804,\n",
       " (1.250264210111484e+18, 't'): 0.00026188293832656804,\n",
       " (1.25031746943821e+18, 't'): 0.00026188293832656804,\n",
       " (1.2504295417989325e+18, 't'): 0.00026188293832656804,\n",
       " (1.2504501023148728e+18, 't'): 0.00026188293832656804,\n",
       " (1.250455786146247e+18, 't'): 0.00026188293832656804,\n",
       " (1.250463731777065e+18, 't'): 0.00026188293832656804,\n",
       " (1.2505309825595392e+18, 't'): 0.00026188293832656804,\n",
       " (1.25053754079855e+18, 't'): 0.00026188293832656804,\n",
       " (1.2505799606762824e+18, 't'): 0.00026188293832656804,\n",
       " '2020-04-16': 0.0007856488149797041,\n",
       " (1.2507945446243287e+18, 't'): 0.00026188293832656804,\n",
       " (1.2508956089796772e+18, 't'): 0.00026188293832656804,\n",
       " (1.2509001447168696e+18, 't'): 0.00026188293832656804,\n",
       " (1.251038936706642e+18, 't'): 0.00026188293832656804,\n",
       " '2020-04-17': 0.0007856488149797041,\n",
       " (1.2510530103916667e+18, 't'): 0.00026188293832656804,\n",
       " (1.251174024564011e+18, 't'): 0.00026188293832656804,\n",
       " (1.2512158561864827e+18, 't'): 0.00026188293832656804,\n",
       " (1.2512820808618762e+18, 't'): 0.00026188293832656804,\n",
       " (1.2512894319668388e+18, 't'): 0.00026188293832656804,\n",
       " (1.2513566046473216e+18, 't'): 0.00026188293832656804,\n",
       " '2020-04-18': 0.0007856488149797041,\n",
       " (1.2513666522281902e+18, 't'): 0.00026188293832656804,\n",
       " (1.2513930620324332e+18, 't'): 0.00026188293832656804,\n",
       " (1.251523055894983e+18, 't'): 0.00026188293832656804,\n",
       " (1.251560487906472e+18, 't'): 0.00026188293832656804,\n",
       " (1.251675300099842e+18, 't'): 0.00026188293832656804,\n",
       " '2020-04-19': 0.0018331805682859762,\n",
       " (1.251687761683157e+18, 't'): 0.00026188293832656804,\n",
       " (1.2516927702945505e+18, 't'): 0.00026188293832656804,\n",
       " (1.2516934960349798e+18, 't'): 0.00026188293832656804,\n",
       " (1.2517044885801124e+18, 't'): 0.00026188293832656804,\n",
       " (1.2517388009396224e+18, 't'): 0.00026188293832656804,\n",
       " (1.251739236438471e+18, 't'): 0.00026188293832656804,\n",
       " (1.2517911997503898e+18, 't'): 0.00026188293832656804,\n",
       " (1.2518114028109292e+18, 't'): 0.00026188293832656804,\n",
       " (1.251893576482476e+18, 't'): 0.00026188293832656804,\n",
       " (1.251913573166547e+18, 't'): 0.00026188293832656804,\n",
       " (1.2519173837503898e+18, 't'): 0.00026188293832656804,\n",
       " (1.2519185835142922e+18, 't'): 0.00026188293832656804,\n",
       " (1.2519260131659858e+18, 't'): 0.00026188293832656804,\n",
       " (1.2520674779175117e+18, 't'): 0.00026188293832656804,\n",
       " '2020-04-20': 0.0020950635066125443,\n",
       " (1.252082733452411e+18, 't'): 0.00026188293832656804,\n",
       " (1.2521063938316984e+18, 't'): 0.00026188293832656804,\n",
       " (1.2521109912669512e+18, 't'): 0.00026188293832656804,\n",
       " (1.2521278741919867e+18, 't'): 0.00026188293832656804,\n",
       " (1.2522934135437025e+18, 't'): 0.00026188293832656804,\n",
       " (1.252297012424237e+18, 't'): 0.00026188293832656804,\n",
       " (1.252325852739584e+18, 't'): 0.00026188293832656804,\n",
       " (1.2523482232319386e+18, 't'): 0.00026188293832656804,\n",
       " (1.252351049525891e+18, 't'): 0.00026188293832656804,\n",
       " (1.2523559304249262e+18, 't'): 0.00026188293832656804,\n",
       " (1.252358777413632e+18, 't'): 0.00026188293832656804,\n",
       " (1.2523589445566054e+18, 't'): 0.00026188293832656804,\n",
       " (1.2523613850124124e+18, 't'): 0.00026188293832656804,\n",
       " (1.2523691365475533e+18, 't'): 0.00026188293832656804,\n",
       " (1.2523929127273636e+18, 't'): 0.00026188293832656804,\n",
       " '2020-04-21': 0.0013094146916328403,\n",
       " (1.2524065132404244e+18, 't'): 0.00026188293832656804,\n",
       " (1.2524205061599437e+18, 't'): 0.00026188293832656804,\n",
       " (1.252434697533059e+18, 't'): 0.00026188293832656804,\n",
       " (1.25246823838387e+18, 't'): 0.00026188293832656804,\n",
       " (1.2524709106758124e+18, 't'): 0.00026188293832656804,\n",
       " (1.2525265513479332e+18, 't'): 0.00026188293832656804,\n",
       " (1.2526282404111892e+18, 't'): 0.00026188293832656804,\n",
       " (1.2526426804938383e+18, 't'): 0.00026188293832656804,\n",
       " (1.2527318764243354e+18, 't'): 0.00026188293832656804,\n",
       " (1.2527586482179525e+18, 't'): 0.00026188293832656804,\n",
       " '2020-04-22': 0.0011784732224695562,\n",
       " (1.252866317159293e+18, 't'): 0.00026188293832656804,\n",
       " (1.253004868387627e+18, 't'): 0.00026188293832656804,\n",
       " (1.2530395876199342e+18, 't'): 0.00026188293832656804,\n",
       " (1.2530691804813353e+18, 't'): 0.00026188293832656804,\n",
       " (1.2530944289205617e+18, 't'): 0.00026188293832656804,\n",
       " (1.2530956647260529e+18, 't'): 0.00026188293832656804,\n",
       " (1.2531054391279002e+18, 't'): 0.00026188293832656804,\n",
       " (1.25312180887987e+18, 't'): 0.00026188293832656804,\n",
       " '2020-04-23': 0.0006547073458164201,\n",
       " (1.253166993194156e+18, 't'): 0.00026188293832656804,\n",
       " (1.2531760692359864e+18, 't'): 0.00026188293832656804,\n",
       " (1.2531784402005524e+18, 't'): 0.00026188293832656804,\n",
       " (1.253473076299219e+18, 't'): 0.00026188293832656804,\n",
       " (1.2535209347548692e+18, 't'): 0.00026188293832656804,\n",
       " '2020-04-24': 0.0009165902841429881,\n",
       " (1.253523191705686e+18, 't'): 0.00026188293832656804,\n",
       " (1.2535442461554688e+18, 't'): 0.00026188293832656804,\n",
       " (1.2535669301888164e+18, 't'): 0.00026188293832656804,\n",
       " (1.2537589902210785e+18, 't'): 0.00026188293832656804,\n",
       " (1.25379718164489e+18, 't'): 0.00026188293832656804,\n",
       " (1.2538460536164147e+18, 't'): 0.00026188293832656804,\n",
       " '2020-04-25': 0.0015712976299594081,\n",
       " (1.2538561108233994e+18, 't'): 0.00026188293832656804,\n",
       " (1.2538751561638175e+18, 't'): 0.00026188293832656804,\n",
       " (1.2538801761878057e+18, 't'): 0.00026188293832656804,\n",
       " (1.2538827632974807e+18, 't'): 0.00026188293832656804,\n",
       " (1.254005277210239e+18, 't'): 0.00026188293832656804,\n",
       " (1.2540325569676452e+18, 't'): 0.00026188293832656804,\n",
       " (1.2540451851403796e+18, 't'): 0.00026188293832656804,\n",
       " (1.2540632660047585e+18, 't'): 0.00026188293832656804,\n",
       " (1.2541225701540086e+18, 't'): 0.00026188293832656804,\n",
       " (1.2541554109796884e+18, 't'): 0.00026188293832656804,\n",
       " (1.2542206205160858e+18, 't'): 0.00026188293832656804,\n",
       " '2020-04-26': 0.0015712976299594081,\n",
       " (1.2542640521397453e+18, 't'): 0.00026188293832656804,\n",
       " (1.2542990308357489e+18, 't'): 0.00026188293832656804,\n",
       " (1.254320675214332e+18, 't'): 0.00026188293832656804,\n",
       " (1.2544416220806103e+18, 't'): 0.00026188293832656804,\n",
       " (1.2544445246270587e+18, 't'): 0.00026188293832656804,\n",
       " (1.2544719570865357e+18, 't'): 0.00026188293832656804,\n",
       " (1.2544801386720256e+18, 't'): 0.00026188293832656804,\n",
       " (1.2544858660235428e+18, 't'): 0.00026188293832656804,\n",
       " (1.2545587089330913e+18, 't'): 0.00026188293832656804,\n",
       " (1.2545883273170412e+18, 't'): 0.00026188293832656804,\n",
       " '2020-04-27': 0.0011784732224695562,\n",
       " (1.2546944002627256e+18, 't'): 0.00026188293832656804,\n",
       " (1.2548140342279537e+18, 't'): 0.00026188293832656804,\n",
       " (1.2548328358079652e+18, 't'): 0.00026188293832656804,\n",
       " (1.254833965896069e+18, 't'): 0.00026188293832656804,\n",
       " (1.2548367925340037e+18, 't'): 0.00026188293832656804,\n",
       " (1.254839495989424e+18, 't'): 0.00026188293832656804,\n",
       " (1.254899856126042e+18, 't'): 0.00026188293832656804,\n",
       " (1.254936189821317e+18, 't'): 0.00026188293832656804,\n",
       " '2020-04-28': 0.0013094146916328403,\n",
       " (1.2549429842666373e+18, 't'): 0.00026188293832656804,\n",
       " (1.254952797625172e+18, 't'): 0.00026188293832656804,\n",
       " (1.2550081496788992e+18, 't'): 0.00026188293832656804,\n",
       " (1.2551284902627205e+18, 't'): 0.00026188293832656804,\n",
       " (1.255149365074649e+18, 't'): 0.00026188293832656804,\n",
       " (1.255194116616368e+18, 't'): 0.00026188293832656804,\n",
       " (1.255203292503634e+18, 't'): 0.00026188293832656804,\n",
       " (1.2552052758096364e+18, 't'): 0.00026188293832656804,\n",
       " (1.2553594207516467e+18, 't'): 0.00026188293832656804,\n",
       " '2020-04-29': 0.0007856488149797041,\n",
       " (1.2555058213431255e+18, 't'): 0.00026188293832656804,\n",
       " (1.2555372554663813e+18, 't'): 0.00026188293832656804,\n",
       " (1.255595236350288e+18, 't'): 0.00026188293832656804,\n",
       " (1.2556346063190098e+18, 't'): 0.00026188293832656804,\n",
       " (1.255635025468375e+18, 't'): 0.00026188293832656804,\n",
       " (1.2556706353315963e+18, 't'): 0.00026188293832656804,\n",
       " '2020-04-30': 0.0013094146916328403,\n",
       " (1.255695738333352e+18, 't'): 0.00026188293832656804,\n",
       " (1.2557137597351117e+18, 't'): 0.00026188293832656804,\n",
       " (1.2557167649455104e+18, 't'): 0.00026188293832656804,\n",
       " (1.2557397533762642e+18, 't'): 0.00026188293832656804,\n",
       " (1.2557527707762565e+18, 't'): 0.00026188293832656804,\n",
       " (1.2557890253879296e+18, 't'): 0.00026188293832656804,\n",
       " (1.255881016645841e+18, 't'): 0.00026188293832656804,\n",
       " (1.2560025543385252e+18, 't'): 0.00026188293832656804,\n",
       " (1.2560301406240604e+18, 't'): 0.00026188293832656804,\n",
       " '2020-05-01': 0.0017022390991226922,\n",
       " (1.2560394293926584e+18, 't'): 0.00026188293832656804,\n",
       " (1.256056274787025e+18, 't'): 0.00026188293832656804,\n",
       " (1.2560620456082268e+18, 't'): 0.00026188293832656804,\n",
       " (1.256075550478594e+18, 't'): 0.00026188293832656804,\n",
       " (1.2561144849149747e+18, 't'): 0.00026188293832656804,\n",
       " (1.2562730045871718e+18, 't'): 0.00026188293832656804,\n",
       " (1.2562983860067492e+18, 't'): 0.00026188293832656804,\n",
       " (1.256300651371393e+18, 't'): 0.00026188293832656804,\n",
       " (1.2563034641974026e+18, 't'): 0.00026188293832656804,\n",
       " (1.2563285767202324e+18, 't'): 0.00026188293832656804,\n",
       " (1.2563475440927007e+18, 't'): 0.00026188293832656804,\n",
       " (1.2563966646271754e+18, 't'): 0.00026188293832656804,\n",
       " '2020-05-02': 0.0010475317533062722,\n",
       " (1.2564150497043374e+18, 't'): 0.00026188293832656804,\n",
       " (1.2564763904901734e+18, 't'): 0.00026188293832656804,\n",
       " (1.256592546224132e+18, 't'): 0.00026188293832656804,\n",
       " (1.2566148223402476e+18, 't'): 0.00026188293832656804,\n",
       " (1.2566464227298796e+18, 't'): 0.00026188293832656804,\n",
       " (1.256733199935238e+18, 't'): 0.00026188293832656804,\n",
       " (1.2567600754162688e+18, 't'): 0.00026188293832656804,\n",
       " '2020-05-03': 0.0015712976299594081,\n",
       " (1.2567946402772173e+18, 't'): 0.00026188293832656804,\n",
       " (1.2568292108380037e+18, 't'): 0.00026188293832656804,\n",
       " (1.256841879892537e+18, 't'): 0.00026188293832656804,\n",
       " (1.256850272409641e+18, 't'): 0.00026188293832656804,\n",
       " (1.2568549743586222e+18, 't'): 0.00026188293832656804,\n",
       " (1.2569646646944358e+18, 't'): 0.00026188293832656804,\n",
       " (1.2569873167378678e+18, 't'): 0.00026188293832656804,\n",
       " (1.257044867785519e+18, 't'): 0.00026188293832656804,\n",
       " (1.2570462824151163e+18, 't'): 0.00026188293832656804,\n",
       " (1.257057012417917e+18, 't'): 0.00026188293832656804,\n",
       " (1.2570636956889498e+18, 't'): 0.00026188293832656804,\n",
       " (1.2571085746410865e+18, 't'): 0.00026188293832656804,\n",
       " '2020-05-04': 0.0006547073458164201,\n",
       " (1.2571206838609633e+18, 't'): 0.00026188293832656804,\n",
       " (1.2571962006310093e+18, 't'): 0.00026188293832656804,\n",
       " (1.2573604099563602e+18, 't'): 0.00026188293832656804,\n",
       " (1.2574111965351813e+18, 't'): 0.00026188293832656804,\n",
       " (1.2575869592303944e+18, 't'): 0.00026188293832656804,\n",
       " '2020-05-05': 0.0011784732224695562,\n",
       " (1.257587386218951e+18, 't'): 0.00026188293832656804,\n",
       " (1.2576448943670395e+18, 't'): 0.00026188293832656804,\n",
       " (1.2577023493525176e+18, 't'): 0.00026188293832656804,\n",
       " (1.2577067514297672e+18, 't'): 0.00026188293832656804,\n",
       " (1.257737330552537e+18, 't'): 0.00026188293832656804,\n",
       " (1.257784501729542e+18, 't'): 0.00026188293832656804,\n",
       " (1.257818476334334e+18, 't'): 0.00026188293832656804,\n",
       " (1.2578234996592722e+18, 't'): 0.00026188293832656804,\n",
       " '2020-05-06': 0.0019641220374492603,\n",
       " (1.257832108732506e+18, 't'): 0.00026188293832656804,\n",
       " (1.25785348327893e+18, 't'): 0.00026188293832656804,\n",
       " (1.2578615331340206e+18, 't'): 0.00026188293832656804,\n",
       " (1.2578913483148083e+18, 't'): 0.00026188293832656804,\n",
       " (1.2578940472192369e+18, 't'): 0.00026188293832656804,\n",
       " (1.2579109938054062e+18, 't'): 0.00026188293832656804,\n",
       " (1.2579624022067692e+18, 't'): 0.00026188293832656804,\n",
       " (1.258005229473157e+18, 't'): 0.00026188293832656804,\n",
       " (1.258088278894342e+18, 't'): 0.00026188293832656804,\n",
       " (1.2581080043495137e+18, 't'): 0.00026188293832656804,\n",
       " (1.258160136968786e+18, 't'): 0.00026188293832656804,\n",
       " (1.2581604799411937e+18, 't'): 0.00026188293832656804,\n",
       " (1.258161144805507e+18, 't'): 0.00026188293832656804,\n",
       " (1.2581839445513216e+18, 't'): 0.00026188293832656804,\n",
       " (1.258209224644952e+18, 't'): 0.00026188293832656804,\n",
       " '2020-05-07': 0.0018331805682859762,\n",
       " (1.2582138010164795e+18, 't'): 0.00026188293832656804,\n",
       " (1.2582143803003167e+18, 't'): 0.00026188293832656804,\n",
       " (1.2582338066679644e+18, 't'): 0.00026188293832656804,\n",
       " (1.25824263077052e+18, 't'): 0.00026188293832656804,\n",
       " (1.2582669064918917e+18, 't'): 0.00026188293832656804,\n",
       " (1.258277880535978e+18, 't'): 0.00026188293832656804,\n",
       " (1.258358718846038e+18, 't'): 0.00026188293832656804,\n",
       " (1.2583957513123185e+18, 't'): 0.00026188293832656804,\n",
       " (1.2584320813207675e+18, 't'): 0.00026188293832656804,\n",
       " (1.2584533893204828e+18, 't'): 0.00026188293832656804,\n",
       " (1.2584597618691113e+18, 't'): 0.00026188293832656804,\n",
       " (1.2584733479579402e+18, 't'): 0.00026188293832656804,\n",
       " (1.2585303076590674e+18, 't'): 0.00026188293832656804,\n",
       " (1.2585510061717627e+18, 't'): 0.00026188293832656804,\n",
       " '2020-05-08': 0.0030116537907555327,\n",
       " (1.2585608213338565e+18, 't'): 0.00026188293832656804,\n",
       " (1.258566441931993e+18, 't'): 0.00026188293832656804,\n",
       " (1.2585810565186847e+18, 't'): 0.00026188293832656804,\n",
       " (1.2586049329339023e+18, 't'): 0.00026188293832656804,\n",
       " (1.2586223159376118e+18, 't'): 0.00026188293832656804,\n",
       " (1.258758743895847e+18, 't'): 0.00026188293832656804,\n",
       " (1.258766481719849e+18, 't'): 0.00026188293832656804,\n",
       " (1.2587867143586693e+18, 't'): 0.00026188293832656804,\n",
       " (1.2588122122079685e+18, 't'): 0.00026188293832656804,\n",
       " (1.2588385545804145e+18, 't'): 0.00026188293832656804,\n",
       " (1.2588470729517588e+18, 't'): 0.00026188293832656804,\n",
       " (1.258849795961e+18, 't'): 0.00026188293832656804,\n",
       " (1.2588500234726769e+18, 't'): 0.00026188293832656804,\n",
       " (1.258853813131207e+18, 't'): 0.00026188293832656804,\n",
       " (1.2588635786285015e+18, 't'): 0.00026188293832656804,\n",
       " (1.2588678103205683e+18, 't'): 0.00026188293832656804,\n",
       " (1.258870291700134e+18, 't'): 0.00026188293832656804,\n",
       " (1.258870990219604e+18, 't'): 0.00026188293832656804,\n",
       " (1.25887560729267e+18, 't'): 0.00026188293832656804,\n",
       " (1.2588761885141524e+18, 't'): 0.00026188293832656804,\n",
       " (1.258880329374331e+18, 't'): 0.00026188293832656804,\n",
       " (1.2588990283448443e+18, 't'): 0.00026188293832656804,\n",
       " (1.2589350961088965e+18, 't'): 0.00026188293832656804,\n",
       " '2020-05-09': 0.0007856488149797041,\n",
       " (1.2589534067876045e+18, 't'): 0.00026188293832656804,\n",
       " (1.2590249552676372e+18, 't'): 0.00026188293832656804,\n",
       " (1.2590446418374203e+18, 't'): 0.00026188293832656804,\n",
       " (1.2591136819477463e+18, 't'): 0.00026188293832656804,\n",
       " (1.2591273127647273e+18, 't'): 0.00026188293832656804,\n",
       " (1.259333097029419e+18, 't'): 0.00026188293832656804,\n",
       " '2020-05-10': 0.0005237658766531361,\n",
       " (1.2593474613587722e+18, 't'): 0.00026188293832656804,\n",
       " (1.259474728672039e+18, 't'): 0.00026188293832656804,\n",
       " (1.2595732227327795e+18, 't'): 0.00026188293832656804,\n",
       " (1.2596500253757235e+18, 't'): 0.00026188293832656804,\n",
       " '2020-05-11': 0.0011784732224695562,\n",
       " (1.259657496530047e+18, 't'): 0.00026188293832656804,\n",
       " (1.2596952338491924e+18, 't'): 0.00026188293832656804,\n",
       " (1.2597184403669606e+18, 't'): 0.00026188293832656804,\n",
       " (1.2597351971315343e+18, 't'): 0.00026188293832656804,\n",
       " (1.2597463041392476e+18, 't'): 0.00026188293832656804,\n",
       " (1.2597726226628895e+18, 't'): 0.00026188293832656804,\n",
       " (1.2598911295221268e+18, 't'): 0.00026188293832656804,\n",
       " (1.2598970129520394e+18, 't'): 0.00026188293832656804,\n",
       " (1.2600069426860646e+18, 't'): 0.00026188293832656804,\n",
       " '2020-05-12': 0.0020950635066125443,\n",
       " (1.2600235981372252e+18, 't'): 0.00026188293832656804,\n",
       " (1.2600245448671846e+18, 't'): 0.00026188293832656804,\n",
       " (1.2600293828332216e+18, 't'): 0.00026188293832656804,\n",
       " (1.26005599686656e+18, 't'): 0.00026188293832656804,\n",
       " (1.2600897868171182e+18, 't'): 0.00026188293832656804,\n",
       " (1.2601222955797094e+18, 't'): 0.00026188293832656804,\n",
       " (1.2601256232776376e+18, 't'): 0.00026188293832656804,\n",
       " (1.2602393650468454e+18, 't'): 0.00026188293832656804,\n",
       " (1.2602864910931558e+18, 't'): 0.00026188293832656804,\n",
       " (1.2602943355069522e+18, 't'): 0.00026188293832656804,\n",
       " (1.260295570742104e+18, 't'): 0.00026188293832656804,\n",
       " (1.2603187269995356e+18, 't'): 0.00026188293832656804,\n",
       " (1.2603203542552453e+18, 't'): 0.00026188293832656804,\n",
       " (1.260344397859717e+18, 't'): 0.00026188293832656804,\n",
       " (1.2603530996396196e+18, 't'): 0.00026188293832656804,\n",
       " (1.2605602249365504e+18, 't'): 0.00026188293832656804,\n",
       " '2020-05-13': 0.0006547073458164201,\n",
       " (1.2606000780052234e+18, 't'): 0.00026188293832656804,\n",
       " (1.2606499852819374e+18, 't'): 0.00026188293832656804,\n",
       " (1.2606615200290202e+18, 't'): 0.00026188293832656804,\n",
       " (1.2606620694450053e+18, 't'): 0.00026188293832656804,\n",
       " (1.2607383183643156e+18, 't'): 0.00026188293832656804,\n",
       " '2020-05-14': 0.0010475317533062722,\n",
       " (1.2609284403681075e+18, 't'): 0.00026188293832656804,\n",
       " (1.2609335183071273e+18, 't'): 0.00026188293832656804,\n",
       " (1.2609374678735094e+18, 't'): 0.00026188293832656804,\n",
       " (1.2610085132931154e+18, 't'): 0.00026188293832656804,\n",
       " (1.2610654457438536e+18, 't'): 0.00026188293832656804,\n",
       " (1.2610655249994056e+18, 't'): 0.00026188293832656804,\n",
       " (1.2610903006273044e+18, 't'): 0.00026188293832656804,\n",
       " '2020-05-15': 0.0011784732224695562,\n",
       " (1.2611426851102884e+18, 't'): 0.00026188293832656804,\n",
       " (1.2612744983152804e+18, 't'): 0.00026188293832656804,\n",
       " (1.2613305294392812e+18, 't'): 0.00026188293832656804,\n",
       " (1.261337281752752e+18, 't'): 0.00026188293832656804,\n",
       " (1.2613485617168384e+18, 't'): 0.00026188293832656804,\n",
       " (1.2613895499738565e+18, 't'): 0.00026188293832656804,\n",
       " (1.2613972312921784e+18, 't'): 0.00026188293832656804,\n",
       " (1.261454721547563e+18, 't'): 0.00026188293832656804,\n",
       " '2020-05-16': 0.0015712976299594081,\n",
       " (1.2615168326005842e+18, 't'): 0.00026188293832656804,\n",
       " (1.261547291439059e+18, 't'): 0.00026188293832656804,\n",
       " (1.2616368459489198e+18, 't'): 0.00026188293832656804,\n",
       " (1.2616905059113984e+18, 't'): 0.00026188293832656804,\n",
       " (1.261715102635397e+18, 't'): 0.00026188293832656804,\n",
       " (1.2617193226588774e+18, 't'): 0.00026188293832656804,\n",
       " (1.2617781897952092e+18, 't'): 0.00026188293832656804,\n",
       " (1.261799837701292e+18, 't'): 0.00026188293832656804,\n",
       " (1.2618270654786929e+18, 't'): 0.00026188293832656804,\n",
       " '2020-05-17': 0.0013094146916328403,\n",
       " (1.2618914131023503e+18, 't'): 0.00026188293832656804,\n",
       " (1.2619233983277425e+18, 't'): 0.00026188293832656804,\n",
       " (1.2620020647516447e+18, 't'): 0.00026188293832656804,\n",
       " (1.2620742684492677e+18, 't'): 0.00026188293832656804,\n",
       " (1.262108533807444e+18, 't'): 0.00026188293832656804,\n",
       " (1.2621398462413128e+18, 't'): 0.00026188293832656804,\n",
       " (1.262167671082111e+18, 't'): 0.00026188293832656804,\n",
       " (1.2621758098479636e+18, 't'): 0.00026188293832656804,\n",
       " '2020-05-18': 0.0011784732224695562,\n",
       " (1.262243088841339e+18, 't'): 0.00026188293832656804,\n",
       " (1.262424697246847e+18, 't'): 0.00026188293832656804,\n",
       " (1.2624361161221366e+18, 't'): 0.00026188293832656804,\n",
       " (1.2624977667915407e+18, 't'): 0.00026188293832656804,\n",
       " (1.2624978633779364e+18, 't'): 0.00026188293832656804,\n",
       " (1.2625008401383547e+18, 't'): 0.00026188293832656804,\n",
       " (1.2625186473538232e+18, 't'): 0.00026188293832656804,\n",
       " (1.2625399157969633e+18, 't'): 0.00026188293832656804,\n",
       " '2020-05-19': 0.0009165902841429881,\n",
       " (1.2625612973269975e+18, 't'): 0.00026188293832656804,\n",
       " (1.2625780610081546e+18, 't'): 0.00026188293832656804,\n",
       " (1.2625913310727905e+18, 't'): 0.00026188293832656804,\n",
       " (1.2627832701078075e+18, 't'): 0.00026188293832656804,\n",
       " (1.2628590121580626e+18, 't'): 0.00026188293832656804,\n",
       " (1.2629330930877194e+18, 't'): 0.00026188293832656804,\n",
       " '2020-05-20': 0.0014403561607961243,\n",
       " (1.2629967507106693e+18, 't'): 0.00026188293832656804,\n",
       " (1.2630773230765834e+18, 't'): 0.00026188293832656804,\n",
       " (1.2631137484090245e+18, 't'): 0.00026188293832656804,\n",
       " (1.263151858203259e+18, 't'): 0.00026188293832656804,\n",
       " (1.2631600511218117e+18, 't'): 0.00026188293832656804,\n",
       " (1.2631628577193574e+18, 't'): 0.00026188293832656804,\n",
       " (1.2631675861260534e+18, 't'): 0.00026188293832656804,\n",
       " (1.2632133036705587e+18, 't'): 0.00026188293832656804,\n",
       " (1.2632414173226844e+18, 't'): 0.00026188293832656804,\n",
       " (1.2632613754736517e+18, 't'): 0.00026188293832656804,\n",
       " '2020-05-21': 0.0018331805682859762,\n",
       " (1.263276865659134e+18, 't'): 0.00026188293832656804,\n",
       " (1.2632896094394245e+18, 't'): 0.00026188293832656804,\n",
       " (1.2633129769807626e+18, 't'): 0.00026188293832656804,\n",
       " (1.263315120676991e+18, 't'): 0.00026188293832656804,\n",
       " (1.2633320932636754e+18, 't'): 0.00026188293832656804,\n",
       " (1.2634647945202688e+18, 't'): 0.00026188293832656804,\n",
       " (1.2634810630802268e+18, 't'): 0.00026188293832656804,\n",
       " (1.263485133543207e+18, 't'): 0.00026188293832656804,\n",
       " (1.2634853272236032e+18, 't'): 0.00026188293832656804,\n",
       " (1.263503224905978e+18, 't'): 0.00026188293832656804,\n",
       " (1.2635439595208335e+18, 't'): 0.00026188293832656804,\n",
       " (1.2635889140921426e+18, 't'): 0.00026188293832656804,\n",
       " (1.2636111324109169e+18, 't'): 0.00026188293832656804,\n",
       " (1.263625823640154e+18, 't'): 0.00026188293832656804,\n",
       " '2020-05-22': 0.0024878879141023965,\n",
       " (1.263637870297809e+18, 't'): 0.00026188293832656804,\n",
       " (1.2637070345805496e+18, 't'): 0.00026188293832656804,\n",
       " (1.2638632261748244e+18, 't'): 0.00026188293832656804,\n",
       " (1.263875874660606e+18, 't'): 0.00026188293832656804,\n",
       " (1.2638865111260897e+18, 't'): 0.00026188293832656804,\n",
       " (1.263889139541242e+18, 't'): 0.00026188293832656804,\n",
       " (1.2638900814938683e+18, 't'): 0.00026188293832656804,\n",
       " (1.2639126055816274e+18, 't'): 0.00026188293832656804,\n",
       " (1.2639167644898673e+18, 't'): 0.00026188293832656804,\n",
       " (1.2639208729784115e+18, 't'): 0.00026188293832656804,\n",
       " (1.2639272414335918e+18, 't'): 0.00026188293832656804,\n",
       " (1.263928313703088e+18, 't'): 0.00026188293832656804,\n",
       " (1.2639342875453932e+18, 't'): 0.00026188293832656804,\n",
       " (1.263939246072533e+18, 't'): 0.00026188293832656804,\n",
       " (1.2639396605243023e+18, 't'): 0.00026188293832656804,\n",
       " (1.2639560445243023e+18, 't'): 0.00026188293832656804,\n",
       " (1.263975762882818e+18, 't'): 0.00026188293832656804,\n",
       " (1.2639989997170196e+18, 't'): 0.00026188293832656804,\n",
       " '2020-05-23': 0.0019641220374492603,\n",
       " (1.2640018334852628e+18, 't'): 0.00026188293832656804,\n",
       " (1.2640473183255388e+18, 't'): 0.00026188293832656804,\n",
       " (1.2640654836296704e+18, 't'): 0.00026188293832656804,\n",
       " (1.264073974079578e+18, 't'): 0.00026188293832656804,\n",
       " (1.2640965592448205e+18, 't'): 0.00026188293832656804,\n",
       " (1.2641477451509146e+18, 't'): 0.00026188293832656804,\n",
       " (1.2642172307759557e+18, 't'): 0.00026188293832656804,\n",
       " (1.264223462995845e+18, 't'): 0.00026188293832656804,\n",
       " (1.2642332426951025e+18, 't'): 0.00026188293832656804,\n",
       " (1.2642496847064883e+18, 't'): 0.00026188293832656804,\n",
       " (1.2643150678156943e+18, 't'): 0.00026188293832656804,\n",
       " (1.264316352984019e+18, 't'): 0.00026188293832656804,\n",
       " (1.2643578702434263e+18, 't'): 0.00026188293832656804,\n",
       " '2020-05-24': 0.0011784732224695562,\n",
       " (1.2643810391258194e+18, 't'): 0.00026188293832656804,\n",
       " (1.264426845002363e+18, 't'): 0.00026188293832656804,\n",
       " (1.264461268624175e+18, 't'): 0.00026188293832656804,\n",
       " (1.264511381266559e+18, 't'): 0.00026188293832656804,\n",
       " (1.264595883414352e+18, 't'): 0.00026188293832656804,\n",
       " (1.2646670253239132e+18, 't'): 0.00026188293832656804,\n",
       " (1.2647702241228063e+18, 't'): 0.00026188293832656804,\n",
       " '2020-05-25': 0.0010475317533062722,\n",
       " (1.2649487302281708e+18, 't'): 0.00026188293832656804,\n",
       " (1.2649531027942892e+18, 't'): 0.00026188293832656804,\n",
       " (1.2649696670234747e+18, 't'): 0.00026188293832656804,\n",
       " (1.26498253227511e+18, 't'): 0.00026188293832656804,\n",
       " (1.264986648434991e+18, 't'): 0.00026188293832656804,\n",
       " (1.2651011587307233e+18, 't'): 0.00026188293832656804,\n",
       " '2020-05-26': 0.0022260049757758284,\n",
       " (1.2651013189069947e+18, 't'): 0.00026188293832656804,\n",
       " (1.2651265439587615e+18, 't'): 0.00026188293832656804,\n",
       " (1.265193320239657e+18, 't'): 0.00026188293832656804,\n",
       " (1.2652774683797217e+18, 't'): 0.00026188293832656804,\n",
       " (1.2653155391250678e+18, 't'): 0.00026188293832656804,\n",
       " (1.2653169934370324e+18, 't'): 0.00026188293832656804,\n",
       " (1.2653177566661837e+18, 't'): 0.00026188293832656804,\n",
       " (1.2653320599852442e+18, 't'): 0.00026188293832656804,\n",
       " (1.2653379008638523e+18, 't'): 0.00026188293832656804,\n",
       " (1.2653395687456727e+18, 't'): 0.00026188293832656804,\n",
       " (1.2653561538037965e+18, 't'): 0.00026188293832656804,\n",
       " (1.2653621280949535e+18, 't'): 0.00026188293832656804,\n",
       " (1.2653650738385265e+18, 't'): 0.00026188293832656804,\n",
       " (1.2653692003961037e+18, 't'): 0.00026188293832656804,\n",
       " (1.265379676714746e+18, 't'): 0.00026188293832656804,\n",
       " (1.265417225126609e+18, 't'): 0.00026188293832656804,\n",
       " (1.2654675406726758e+18, 't'): 0.00026188293832656804,\n",
       " '2020-05-27': 0.0062851905198376325,\n",
       " (1.2654713813423227e+18, 't'): 0.00026188293832656804,\n",
       " (1.2654731619501998e+18, 't'): 0.00026188293832656804,\n",
       " (1.2654778232941404e+18, 't'): 0.00026188293832656804,\n",
       " (1.2654822855679795e+18, 't'): 0.00026188293832656804,\n",
       " (1.2654919633792532e+18, 't'): 0.00026188293832656804,\n",
       " (1.2654934164414546e+18, 't'): 0.00026188293832656804,\n",
       " (1.2654975585892844e+18, 't'): 0.00026188293832656804,\n",
       " (1.265506814751314e+18, 't'): 0.00026188293832656804,\n",
       " (1.265549122527998e+18, 't'): 0.00026188293832656804,\n",
       " (1.26558814421837e+18, 't'): 0.00026188293832656804,\n",
       " (1.2656652186061005e+18, 't'): 0.00026188293832656804,\n",
       " (1.2656658693438874e+18, 't'): 0.00026188293832656804,\n",
       " (1.265666899628589e+18, 't'): 0.00026188293832656804,\n",
       " (1.2656706077330022e+18, 't'): 0.00026188293832656804,\n",
       " (1.2656734462198907e+18, 't'): 0.00026188293832656804,\n",
       " (1.2656825520329073e+18, 't'): 0.00026188293832656804,\n",
       " (1.2656893877082808e+18, 't'): 0.00026188293832656804,\n",
       " (1.2656908844875407e+18, 't'): 0.00026188293832656804,\n",
       " (1.2656975280847053e+18, 't'): 0.00026188293832656804,\n",
       " (1.2657087928611676e+18, 't'): 0.00026188293832656804,\n",
       " (1.26571264561886e+18, 't'): 0.00026188293832656804,\n",
       " (1.2657146050802483e+18, 't'): 0.00026188293832656804,\n",
       " (1.2657148153993748e+18, 't'): 0.00026188293832656804,\n",
       " (1.2657195323598316e+18, 't'): 0.00026188293832656804,\n",
       " (1.265721958366212e+18, 't'): 0.00026188293832656804,\n",
       " (1.265723502188847e+18, 't'): 0.00026188293832656804,\n",
       " (1.2657307016068342e+18, 't'): 0.00026188293832656804,\n",
       " (1.265731056327471e+18, 't'): 0.00026188293832656804,\n",
       " (1.2657358052780032e+18, 't'): 0.00026188293832656804,\n",
       " (1.265737580051665e+18, 't'): 0.00026188293832656804,\n",
       " (1.2657399581212017e+18, 't'): 0.00026188293832656804,\n",
       " (1.2657418613159854e+18, 't'): 0.00026188293832656804,\n",
       " (1.2657441669584036e+18, 't'): 0.00026188293832656804,\n",
       " (1.2657448734973215e+18, 't'): 0.00026188293832656804,\n",
       " (1.265751049517691e+18, 't'): 0.00026188293832656804,\n",
       " (1.2657578224462316e+18, 't'): 0.00026188293832656804,\n",
       " (1.265759305850028e+18, 't'): 0.00026188293832656804,\n",
       " (1.265759891957805e+18, 't'): 0.00026188293832656804,\n",
       " (1.2657684731094917e+18, 't'): 0.00026188293832656804,\n",
       " (1.2657763456293765e+18, 't'): 0.00026188293832656804,\n",
       " (1.265778510569726e+18, 't'): 0.00026188293832656804,\n",
       " (1.2657823085036052e+18, 't'): 0.00026188293832656804,\n",
       " (1.265789381937451e+18, 't'): 0.00026188293832656804,\n",
       " (1.2657911226572513e+18, 't'): 0.00026188293832656804,\n",
       " (1.26579243234551e+18, 't'): 0.00026188293832656804,\n",
       " (1.265801088701104e+18, 't'): 0.00026188293832656804,\n",
       " '2020-05-28': 0.010999083409715858,\n",
       " (1.2658029046208102e+18, 't'): 0.00026188293832656804,\n",
       " (1.265805675021697e+18, 't'): 0.00026188293832656804,\n",
       " (1.265812833381433e+18, 't'): 0.00026188293832656804,\n",
       " (1.2658135934773985e+18, 't'): 0.00026188293832656804,\n",
       " (1.265826680867664e+18, 't'): 0.00026188293832656804,\n",
       " (1.2658268612772987e+18, 't'): 0.00026188293832656804,\n",
       " (1.2658336140815278e+18, 't'): 0.00026188293832656804,\n",
       " (1.2658360108662252e+18, 't'): 0.00026188293832656804,\n",
       " (1.2658377275319828e+18, 't'): 0.00026188293832656804,\n",
       " (1.2658395740114084e+18, 't'): 0.00026188293832656804,\n",
       " (1.265844008519037e+18, 't'): 0.00026188293832656804,\n",
       " (1.265846269458518e+18, 't'): 0.00026188293832656804,\n",
       " (1.265850356690387e+18, 't'): 0.00026188293832656804,\n",
       " (1.265851066832294e+18, 't'): 0.00026188293832656804,\n",
       " (1.2658528176772465e+18, 't'): 0.00026188293832656804,\n",
       " (1.2658558886963282e+18, 't'): 0.00026188293832656804,\n",
       " (1.2658568930811167e+18, 't'): 0.00026188293832656804,\n",
       " (1.2658640668886917e+18, 't'): 0.00026188293832656804,\n",
       " (1.2658651067153162e+18, 't'): 0.00026188293832656804,\n",
       " (1.2658797449413427e+18, 't'): 0.00026188293832656804,\n",
       " (1.2658830990422057e+18, 't'): 0.00026188293832656804,\n",
       " (1.2658887406662943e+18, 't'): 0.00026188293832656804,\n",
       " (1.2658888953479946e+18, 't'): 0.00026188293832656804,\n",
       " (1.2658995963933125e+18, 't'): 0.00026188293832656804,\n",
       " (1.2659022923744133e+18, 't'): 0.00026188293832656804,\n",
       " (1.2659119069817078e+18, 't'): 0.00026188293832656804,\n",
       " (1.2659141910864077e+18, 't'): 0.00026188293832656804,\n",
       " (1.2659169739987354e+18, 't'): 0.00026188293832656804,\n",
       " (1.2659375297249812e+18, 't'): 0.00026188293832656804,\n",
       " (1.265937962765824e+18, 't'): 0.00026188293832656804,\n",
       " (1.265938662107132e+18, 't'): 0.00026188293832656804,\n",
       " (1.2659392026774364e+18, 't'): 0.00026188293832656804,\n",
       " (1.2659410798760428e+18, 't'): 0.00026188293832656804,\n",
       " (1.265941764847829e+18, 't'): 0.00026188293832656804,\n",
       " (1.265943067472941e+18, 't'): 0.00026188293832656804,\n",
       " (1.2659475190805957e+18, 't'): 0.00026188293832656804,\n",
       " (1.265998872142164e+18, 't'): 0.00026188293832656804,\n",
       " (1.2660063533419356e+18, 't'): 0.00026188293832656804,\n",
       " (1.2660157340537938e+18, 't'): 0.00026188293832656804,\n",
       " (1.2660223896131215e+18, 't'): 0.00026188293832656804,\n",
       " (1.2660280881665434e+18, 't'): 0.00026188293832656804,\n",
       " (1.266031546655363e+18, 't'): 0.00026188293832656804,\n",
       " (1.2660323606733128e+18, 't'): 0.00026188293832656804,\n",
       " (1.2660367297875067e+18, 't'): 0.00026188293832656804,\n",
       " (1.266040591596417e+18, 't'): 0.00026188293832656804,\n",
       " (1.2660407012733747e+18, 't'): 0.00026188293832656804,\n",
       " (1.266044359054463e+18, 't'): 0.00026188293832656804,\n",
       " (1.2660443864852193e+18, 't'): 0.00026188293832656804,\n",
       " (1.266047665516626e+18, 't'): 0.00026188293832656804,\n",
       " (1.2660486893336248e+18, 't'): 0.00026188293832656804,\n",
       " (1.2660505293999923e+18, 't'): 0.00026188293832656804,\n",
       " (1.2660556689910129e+18, 't'): 0.00026188293832656804,\n",
       " (1.2660619258775593e+18, 't'): 0.00026188293832656804,\n",
       " (1.266063929177813e+18, 't'): 0.00026188293832656804,\n",
       " (1.2660650656202875e+18, 't'): 0.00026188293832656804,\n",
       " (1.2660692536370708e+18, 't'): 0.00026188293832656804,\n",
       " (1.2660704153166395e+18, 't'): 0.00026188293832656804,\n",
       " (1.266075247763026e+18, 't'): 0.00026188293832656804,\n",
       " (1.2660777587670262e+18, 't'): 0.00026188293832656804,\n",
       " (1.2660789110220268e+18, 't'): 0.00026188293832656804,\n",
       " (1.2660820965623726e+18, 't'): 0.00026188293832656804,\n",
       " (1.266084147837104e+18, 't'): 0.00026188293832656804,\n",
       " (1.2660915410612265e+18, 't'): 0.00026188293832656804,\n",
       " (1.2660963968908247e+18, 't'): 0.00026188293832656804,\n",
       " (1.2660979948787753e+18, 't'): 0.00026188293832656804,\n",
       " (1.2660990084784333e+18, 't'): 0.00026188293832656804,\n",
       " (1.266102761520722e+18, 't'): 0.00026188293832656804,\n",
       " (1.2661078892879667e+18, 't'): 0.00026188293832656804,\n",
       " (1.266126538547671e+18, 't'): 0.00026188293832656804,\n",
       " (1.2661315982037115e+18, 't'): 0.00026188293832656804,\n",
       " (1.2661325039217418e+18, 't'): 0.00026188293832656804,\n",
       " (1.2661328109489398e+18, 't'): 0.00026188293832656804,\n",
       " (1.2661354556925133e+18, 't'): 0.00026188293832656804,\n",
       " (1.2661373713863393e+18, 't'): 0.00026188293832656804,\n",
       " (1.2661389917634847e+18, 't'): 0.00026188293832656804,\n",
       " (1.2661390121267855e+18, 't'): 0.00026188293832656804,\n",
       " (1.2661419592292884e+18, 't'): 0.00026188293832656804,\n",
       " (1.2661421501330514e+18, 't'): 0.00026188293832656804,\n",
       " (1.2661431378035835e+18, 't'): 0.00026188293832656804,\n",
       " (1.2661476848904684e+18, 't'): 0.00026188293832656804,\n",
       " (1.2661514100028826e+18, 't'): 0.00026188293832656804,\n",
       " (1.2661547579131003e+18, 't'): 0.00026188293832656804,\n",
       " (1.2661590403939328e+18, 't'): 0.00026188293832656804,\n",
       " '2020-05-29': 0.01204661516302213,\n",
       " (1.2661597286163374e+18, 't'): 0.00026188293832656804,\n",
       " (1.2661626936662671e+18, 't'): 0.00026188293832656804,\n",
       " (1.2661660052118692e+18, 't'): 0.00026188293832656804,\n",
       " (1.2661704238943928e+18, 't'): 0.00026188293832656804,\n",
       " (1.266170694221435e+18, 't'): 0.00026188293832656804,\n",
       " (1.2661841129492316e+18, 't'): 0.00026188293832656804,\n",
       " (1.2661873857184645e+18, 't'): 0.00026188293832656804,\n",
       " (1.2661885077367644e+18, 't'): 0.00026188293832656804,\n",
       " (1.2661976611551273e+18, 't'): 0.00026188293832656804,\n",
       " (1.2661977218592522e+18, 't'): 0.00026188293832656804,\n",
       " (1.2661986664962048e+18, 't'): 0.00026188293832656804,\n",
       " (1.266202612736471e+18, 't'): 0.00026188293832656804,\n",
       " (1.2662054421217116e+18, 't'): 0.00026188293832656804,\n",
       " (1.266214313066328e+18, 't'): 0.00026188293832656804,\n",
       " (1.266221131486204e+18, 't'): 0.00026188293832656804,\n",
       " (1.266227262233297e+18, 't'): 0.00026188293832656804,\n",
       " (1.2662278378470031e+18, 't'): 0.00026188293832656804,\n",
       " (1.2662323907639624e+18, 't'): 0.00026188293832656804,\n",
       " (1.26623297017353e+18, 't'): 0.00026188293832656804,\n",
       " (1.266233713391571e+18, 't'): 0.00026188293832656804,\n",
       " (1.2662381516572713e+18, 't'): 0.00026188293832656804,\n",
       " (1.266241244109222e+18, 't'): 0.00026188293832656804,\n",
       " (1.266250550418391e+18, 't'): 0.00026188293832656804,\n",
       " (1.2662548068777902e+18, 't'): 0.00026188293832656804,\n",
       " (1.2662562121415967e+18, 't'): 0.00026188293832656804,\n",
       " (1.266258690497114e+18, 't'): 0.00026188293832656804,\n",
       " (1.266262425952641e+18, 't'): 0.00026188293832656804,\n",
       " (1.2662760103091937e+18, 't'): 0.00026188293832656804,\n",
       " (1.2662780553554166e+18, 't'): 0.00026188293832656804,\n",
       " (1.2662844499745055e+18, 't'): 0.00026188293832656804,\n",
       " (1.2662868570478223e+18, 't'): 0.00026188293832656804,\n",
       " (1.2663057412682506e+18, 't'): 0.00026188293832656804,\n",
       " (1.2663084159087657e+18, 't'): 0.00026188293832656804,\n",
       " (1.26631285794936e+18, 't'): 0.00026188293832656804,\n",
       " (1.266324065758802e+18, 't'): 0.00026188293832656804,\n",
       " (1.266348348602106e+18, 't'): 0.00026188293832656804,\n",
       " (1.266355280817709e+18, 't'): 0.00026188293832656804,\n",
       " (1.2663587924525752e+18, 't'): 0.00026188293832656804,\n",
       " (1.266366642314809e+18, 't'): 0.00026188293832656804,\n",
       " (1.2663768883913974e+18, 't'): 0.00026188293832656804,\n",
       " (1.2663822627292283e+18, 't'): 0.00026188293832656804,\n",
       " (1.2663903135447368e+18, 't'): 0.00026188293832656804,\n",
       " (1.2663910979382843e+18, 't'): 0.00026188293832656804,\n",
       " (1.266391199780225e+18, 't'): 0.00026188293832656804,\n",
       " (1.266394093405393e+18, 't'): 0.00026188293832656804,\n",
       " (1.2663960732343337e+18, 't'): 0.00026188293832656804,\n",
       " (1.2663986994138972e+18, 't'): 0.00026188293832656804,\n",
       " (1.266399026544431e+18, 't'): 0.00026188293832656804,\n",
       " (1.2664053783270646e+18, 't'): 0.00026188293832656804,\n",
       " (1.2664060389719327e+18, 't'): 0.00026188293832656804,\n",
       " (1.26640713403759e+18, 't'): 0.00026188293832656804,\n",
       " (1.2664081886072586e+18, 't'): 0.00026188293832656804,\n",
       " (1.2664082642389484e+18, 't'): 0.00026188293832656804,\n",
       " (1.2664137161253192e+18, 't'): 0.00026188293832656804,\n",
       " (1.266415472532058e+18, 't'): 0.00026188293832656804,\n",
       " (1.2664207882713088e+18, 't'): 0.00026188293832656804,\n",
       " (1.2664249794253414e+18, 't'): 0.00026188293832656804,\n",
       " (1.2664311119717622e+18, 't'): 0.00026188293832656804,\n",
       " (1.2664319780746322e+18, 't'): 0.00026188293832656804,\n",
       " (1.2664324290209915e+18, 't'): 0.00026188293832656804,\n",
       " (1.2664356435103703e+18, 't'): 0.00026188293832656804,\n",
       " (1.2664360272892396e+18, 't'): 0.00026188293832656804,\n",
       " (1.266437337690583e+18, 't'): 0.00026188293832656804,\n",
       " (1.2664411831625933e+18, 't'): 0.00026188293832656804,\n",
       " (1.2664415780143718e+18, 't'): 0.00026188293832656804,\n",
       " (1.2664465979754537e+18, 't'): 0.00026188293832656804,\n",
       " (1.2664493410544804e+18, 't'): 0.00026188293832656804,\n",
       " (1.2664500780734136e+18, 't'): 0.00026188293832656804,\n",
       " (1.2664520586615194e+18, 't'): 0.00026188293832656804,\n",
       " (1.266452470101766e+18, 't'): 0.00026188293832656804,\n",
       " (1.2664532415015483e+18, 't'): 0.00026188293832656804,\n",
       " (1.2664575455451423e+18, 't'): 0.00026188293832656804,\n",
       " (1.2664587295132262e+18, 't'): 0.00026188293832656804,\n",
       " (1.266463469164847e+18, 't'): 0.00026188293832656804,\n",
       " (1.2664651586263736e+18, 't'): 0.00026188293832656804,\n",
       " (1.2664687590504366e+18, 't'): 0.00026188293832656804,\n",
       " (1.2664701513454182e+18, 't'): 0.00026188293832656804,\n",
       " (1.266480598853378e+18, 't'): 0.00026188293832656804,\n",
       " (1.2664831302878454e+18, 't'): 0.00026188293832656804,\n",
       " (1.266484250888614e+18, 't'): 0.00026188293832656804,\n",
       " (1.2664904254701855e+18, 't'): 0.00026188293832656804,\n",
       " (1.2664918793627077e+18, 't'): 0.00026188293832656804,\n",
       " (1.266493256310784e+18, 't'): 0.00026188293832656804,\n",
       " (1.2665041912051917e+18, 't'): 0.00026188293832656804,\n",
       " (1.2665071427117875e+18, 't'): 0.00026188293832656804,\n",
       " (1.2665077888736952e+18, 't'): 0.00026188293832656804,\n",
       " (1.2665089996308767e+18, 't'): 0.00026188293832656804,\n",
       " (1.2665092430682808e+18, 't'): 0.00026188293832656804,\n",
       " (1.26651225319859e+18, 't'): 0.00026188293832656804,\n",
       " (1.266518798535811e+18, 't'): 0.00026188293832656804,\n",
       " (1.2665191690228326e+18, 't'): 0.00026188293832656804,\n",
       " (1.26652043468766e+18, 't'): 0.00026188293832656804,\n",
       " '2020-05-30': 0.020426869189472306,\n",
       " (1.266526958680064e+18, 't'): 0.00026188293832656804,\n",
       " (1.2665269880905318e+18, 't'): 0.00026188293832656804,\n",
       " (1.266534019220398e+18, 't'): 0.00026188293832656804,\n",
       " (1.266535599399293e+18, 't'): 0.00026188293832656804,\n",
       " (1.2665367955853926e+18, 't'): 0.00026188293832656804,\n",
       " (1.2665369016216044e+18, 't'): 0.00026188293832656804,\n",
       " (1.2665370797663068e+18, 't'): 0.00026188293832656804,\n",
       " (1.2665371968629268e+18, 't'): 0.00026188293832656804,\n",
       " (1.26653987467853e+18, 't'): 0.00026188293832656804,\n",
       " (1.266540148184871e+18, 't'): 0.00026188293832656804,\n",
       " (1.2665411707100856e+18, 't'): 0.00026188293832656804,\n",
       " (1.2665437679908864e+18, 't'): 0.00026188293832656804,\n",
       " (1.2665515440668713e+18, 't'): 0.00026188293832656804,\n",
       " (1.2665555947075707e+18, 't'): 0.00026188293832656804,\n",
       " (1.2665559519910175e+18, 't'): 0.00026188293832656804,\n",
       " (1.2665575106531e+18, 't'): 0.00026188293832656804,\n",
       " (1.2665601080555192e+18, 't'): 0.00026188293832656804,\n",
       " (1.2665617709334815e+18, 't'): 0.00026188293832656804,\n",
       " (1.2665627738337116e+18, 't'): 0.00026188293832656804,\n",
       " (1.2665638112359506e+18, 't'): 0.00026188293832656804,\n",
       " (1.266569564747207e+18, 't'): 0.00026188293832656804,\n",
       " (1.2665709156780485e+18, 't'): 0.00026188293832656804,\n",
       " (1.266574165777068e+18, 't'): 0.00026188293832656804,\n",
       " (1.2665768178564956e+18, 't'): 0.00026188293832656804,\n",
       " (1.266578950127407e+18, 't'): 0.00026188293832656804,\n",
       " (1.266579579466023e+18, 't'): 0.00026188293832656804,\n",
       " (1.2665823740258468e+18, 't'): 0.00026188293832656804,\n",
       " (1.2665828964095877e+18, 't'): 0.00026188293832656804,\n",
       " (1.2665837054950236e+18, 't'): 0.00026188293832656804,\n",
       " (1.266586303493075e+18, 't'): 0.00026188293832656804,\n",
       " (1.2665873904554885e+18, 't'): 0.00026188293832656804,\n",
       " (1.2665876111262597e+18, 't'): 0.00026188293832656804,\n",
       " (1.266592337624535e+18, 't'): 0.00026188293832656804,\n",
       " (1.2665936077519217e+18, 't'): 0.00026188293832656804,\n",
       " (1.2665936224906158e+18, 't'): 0.00026188293832656804,\n",
       " (1.2665983292673147e+18, 't'): 0.00026188293832656804,\n",
       " (1.2665997406799626e+18, 't'): 0.00026188293832656804,\n",
       " (1.2666087451207967e+18, 't'): 0.00026188293832656804,\n",
       " (1.266611742089474e+18, 't'): 0.00026188293832656804,\n",
       " (1.266614235880018e+18, 't'): 0.00026188293832656804,\n",
       " (1.2666191471121572e+18, 't'): 0.00026188293832656804,\n",
       " (1.2666196612583506e+18, 't'): 0.00026188293832656804,\n",
       " (1.266622012572615e+18, 't'): 0.00026188293832656804,\n",
       " (1.2666230425007145e+18, 't'): 0.00026188293832656804,\n",
       " (1.266624094868435e+18, 't'): 0.00026188293832656804,\n",
       " (1.2666287352995144e+18, 't'): 0.00026188293832656804,\n",
       " (1.2666323790465843e+18, 't'): 0.00026188293832656804,\n",
       " (1.2666335413217567e+18, 't'): 0.00026188293832656804,\n",
       " (1.266635898495484e+18, 't'): 0.00026188293832656804,\n",
       " (1.266651264751825e+18, 't'): 0.00026188293832656804,\n",
       " (1.2666548963773112e+18, 't'): 0.00026188293832656804,\n",
       " (1.2666583756615762e+18, 't'): 0.00026188293832656804,\n",
       " (1.2666586106138747e+18, 't'): 0.00026188293832656804,\n",
       " (1.2666596830974444e+18, 't'): 0.00026188293832656804,\n",
       " (1.2666625213409649e+18, 't'): 0.00026188293832656804,\n",
       " (1.2666639719494085e+18, 't'): 0.00026188293832656804,\n",
       " (1.266668363628999e+18, 't'): 0.00026188293832656804,\n",
       " (1.2666893890837217e+18, 't'): 0.00026188293832656804,\n",
       " (1.2666978223567012e+18, 't'): 0.00026188293832656804,\n",
       " (1.2667143900420383e+18, 't'): 0.00026188293832656804,\n",
       " (1.266715914201776e+18, 't'): 0.00026188293832656804,\n",
       " ...}"
      ]
     },
     "execution_count": 114,
     "metadata": {},
     "output_type": "execute_result"
    }
   ],
   "source": [
    "degree_centrality"
   ]
  },
  {
   "cell_type": "code",
   "execution_count": null,
   "id": "112e933e-5a7e-4b38-96b6-662bcc69a7cd",
   "metadata": {},
   "outputs": [],
   "source": []
  }
 ],
 "metadata": {
  "kernelspec": {
   "display_name": "Python 3 (ipykernel)",
   "language": "python",
   "name": "python3"
  },
  "language_info": {
   "codemirror_mode": {
    "name": "ipython",
    "version": 3
   },
   "file_extension": ".py",
   "mimetype": "text/x-python",
   "name": "python",
   "nbconvert_exporter": "python",
   "pygments_lexer": "ipython3",
   "version": "3.9.7"
  },
  "toc-autonumbering": false,
  "toc-showcode": false,
  "toc-showmarkdowntxt": false,
  "toc-showtags": false
 },
 "nbformat": 4,
 "nbformat_minor": 5
}
